{
 "cells": [
  {
   "cell_type": "code",
   "execution_count": 1,
   "metadata": {
    "collapsed": true
   },
   "outputs": [],
   "source": [
    "# Python + Machine Learning"
   ]
  },
  {
   "cell_type": "markdown",
   "metadata": {},
   "source": [
    "\n",
    "\n"
   ]
  },
  {
   "cell_type": "markdown",
   "metadata": {},
   "source": [
    "# Cours 1: Introduction Ã  la programmation"
   ]
  },
  {
   "cell_type": "markdown",
   "metadata": {},
   "source": [
    "---"
   ]
  },
  {
   "cell_type": "markdown",
   "metadata": {},
   "source": [
    "## 1 - 1 Qu'est-ce que la programmation?"
   ]
  },
  {
   "cell_type": "markdown",
   "metadata": {},
   "source": [
    "**Programming language**: language designed to communicate instructions to computer.\n",
    "\n",
    "IntÃ©rÃªt de la programmation: on peut agir sur tout objet programmable (plus ou moins tout objet Ã©lectronique) avec du texte => il suffit de savoir rÃ©flÃ©chir: connaissances en maths, Ã©lectronique, etc. pas nÃ©cessaires."
   ]
  },
  {
   "cell_type": "markdown",
   "metadata": {},
   "source": [
    "\n"
   ]
  },
  {
   "cell_type": "markdown",
   "metadata": {},
   "source": [
    "## 1 - 2 Python"
   ]
  },
  {
   "cell_type": "markdown",
   "metadata": {},
   "source": [
    "### 1 - 2 - 1 Applications\n",
    "\n",
    "Python est probablement le langage le plus simple aujourd'hui.\n",
    "\n",
    "Vaste communautÃ© s'assure que Python peut Ãªtre utilisÃ© dans tous les domaines de la programmation.\n",
    "\n",
    "- [Bio-informatique](http://biopython.org/DIST/docs/tutorial/Tutorial.html#htoc1)\n",
    "\n",
    "- [Machine learning](http://blog.udacity.com/2016/04/languages-and-libraries-for-machine-learning.html)\n",
    "\n",
    "- [Robotique](https://www.oreilly.com/learning/how-to-build-a-robot-that-sees-with-100-and-tensorflow)\n",
    "\n",
    "- [DÃ©veloppement desktop et mobile](https://kivy.org/#home)\n",
    "\n",
    "- [Automatisation](http://www.win-vector.com/blog/2016/10/proofing-statistics-in-papers/) (pas Python, mais montre l'utilitÃ© de savoir programmer)\n",
    "\n",
    "- [Programmation IoT](https://medium.com/@edwardbenson/how-i-hacked-amazon-s-5-wifi-button-to-track-baby-data-794214b0bdd8#.ktfyw2h0j)"
   ]
  },
  {
   "cell_type": "markdown",
   "metadata": {},
   "source": [
    "### 1 - 2 - 2 Python 2.7 vs Python 3.5\n",
    "\n",
    "- Python 2.7: version encore la plus utilisÃ©e (diversitÃ© de facteurs l'expliquent)\n",
    "- Python 3.5: le futur du langage, le shift est en train de se faire"
   ]
  },
  {
   "cell_type": "markdown",
   "metadata": {},
   "source": [
    "\n"
   ]
  },
  {
   "cell_type": "markdown",
   "metadata": {},
   "source": [
    "## 1 - 3 Installation"
   ]
  },
  {
   "cell_type": "markdown",
   "metadata": {},
   "source": [
    "Si cours 1 seulement, prendre Python seul sur python.org (100 MB).\n",
    "\n",
    "Si cours 1 Ã  4 + envie de dÃ©velopper la compÃ©tence aprÃ¨s, distribution [Miniconda](http://conda.pydata.org/miniconda.html) (<500 MB).\n",
    "\n",
    "Si cours 1 Ã  4 + envie de dÃ©velopper la compÃ©tence aprÃ¨s + machine learning, **distribution [Anaconda](https://www.continuum.io/downloads) = Python + bibliothÃ¨ques scientifiques** (1.5 GB)"
   ]
  },
  {
   "cell_type": "markdown",
   "metadata": {},
   "source": [
    "**IDE** = Integrated Developement Environment = software qui facilite la programmation\n",
    "\n",
    "- ***[PyCharm](http://www.jetbrains.com/pycharm-edu/download/)*** = souvent utilisÃ© pour enseigner, reconnu pour sa fonctionnalitÃ© de code completion\n",
    "\n",
    "- ***Spyder*** = IDE qui vient avec Anaconda"
   ]
  },
  {
   "cell_type": "markdown",
   "metadata": {},
   "source": [
    "\n"
   ]
  },
  {
   "cell_type": "markdown",
   "metadata": {},
   "source": [
    "## 1 - 4 Variables, objets et mÃ©thodes"
   ]
  },
  {
   "cell_type": "markdown",
   "metadata": {},
   "source": [
    "### 1 - 4 - 1 Variables"
   ]
  },
  {
   "cell_type": "markdown",
   "metadata": {},
   "source": [
    "**Variable**: symbolic name associated with value\n",
    "\n",
    "En Python, **une variable peut contenir tout type de valeur** et la valeur qu'elle contient peut Ãªtre modifiÃ©e Ã  tout moment (dans d'autres langages, une variable est crÃ©Ã©e en prÃ©cisant le type de valeur qu'elle peut contenir, permet Ã  l'ordinateur de ne pas se poser la question, donc d'aller plus vite)."
   ]
  },
  {
   "cell_type": "code",
   "execution_count": 2,
   "metadata": {
    "collapsed": false
   },
   "outputs": [
    {
     "name": "stdout",
     "output_type": "stream",
     "text": [
      "1\n"
     ]
    }
   ],
   "source": [
    "x = 1                      # On peut assigner tout type de valeur Ã  une variable\n",
    "y = 2.0\n",
    "\n",
    "print(x)"
   ]
  },
  {
   "cell_type": "code",
   "execution_count": 3,
   "metadata": {
    "collapsed": false
   },
   "outputs": [
    {
     "name": "stdout",
     "output_type": "stream",
     "text": [
      "2.0\n"
     ]
    }
   ],
   "source": [
    "print(y)"
   ]
  },
  {
   "cell_type": "code",
   "execution_count": 4,
   "metadata": {
    "collapsed": false
   },
   "outputs": [
    {
     "name": "stdout",
     "output_type": "stream",
     "text": [
      "5\n"
     ]
    }
   ],
   "source": [
    "y = x * 5\n",
    "\n",
    "print(y)"
   ]
  },
  {
   "cell_type": "code",
   "execution_count": 5,
   "metadata": {
    "collapsed": false
   },
   "outputs": [
    {
     "name": "stdout",
     "output_type": "stream",
     "text": [
      "one\n"
     ]
    }
   ],
   "source": [
    "x = \"one\"                   # On peut changer la valeur (et son type) Ã  tout moment\n",
    "\n",
    "print(x)"
   ]
  },
  {
   "cell_type": "markdown",
   "metadata": {},
   "source": [
    "Exercice: faites un peu de maths"
   ]
  },
  {
   "cell_type": "markdown",
   "metadata": {
    "collapsed": true
   },
   "source": [
    "### 1 - 4 - 2 Objets et mÃ©thodes"
   ]
  },
  {
   "cell_type": "markdown",
   "metadata": {},
   "source": [
    "**\"Everything is an object in Python.\"**\n",
    "\n",
    "Un objet est un ensemble de donnÃ©es/propriÃ©tÃ©s et comportements/mÃ©thodes.\n",
    "\n",
    "Tout ce que vous pouvez utiliser (variables, fonctions, matrices, etc.) est un objet.\n",
    "\n",
    "Chaque type d'objet a des **mÃ©thodes (= des fonctions rattachÃ©es)** spÃ©cifiques.\n",
    "\n",
    "\n",
    "E.g. les objets de type `str` (sÃ©quence de caractÃ¨res) ont une mÃ©thode `replace`."
   ]
  },
  {
   "cell_type": "code",
   "execution_count": 6,
   "metadata": {
    "collapsed": false
   },
   "outputs": [
    {
     "name": "stdout",
     "output_type": "stream",
     "text": [
      "Proteins are made of nucleotides.\n"
     ]
    }
   ],
   "source": [
    "seq = \"Proteins are made of nucleotides.\"\n",
    "print(seq)"
   ]
  },
  {
   "cell_type": "code",
   "execution_count": 7,
   "metadata": {
    "collapsed": false
   },
   "outputs": [
    {
     "name": "stdout",
     "output_type": "stream",
     "text": [
      "Proteins are made of amino acids.\n"
     ]
    }
   ],
   "source": [
    "seq = seq.replace(\"nucleotides\", \"amino acids\")\n",
    "print(seq)"
   ]
  },
  {
   "cell_type": "markdown",
   "metadata": {},
   "source": [
    "**Remarque**: certaines mÃ©thodes modifient l'objet, certaines ne le font pas (e.g. replace retourne une copie modifiÃ©e de la str)."
   ]
  },
  {
   "cell_type": "markdown",
   "metadata": {},
   "source": [
    "### 1 - 4 - 3 Types"
   ]
  },
  {
   "cell_type": "markdown",
   "metadata": {},
   "source": [
    "**DiffÃ©rents types d'objets** existent:\n",
    "    \n",
    "    `str` (\"Texte.\", \"5 lettres\")\n",
    "    `integer` (5, 2)\n",
    "    `boolean` (True, False)\n",
    "    `function`\n",
    "    \n",
    "Fonction `type` pour avoir le type d'un objet."
   ]
  },
  {
   "cell_type": "code",
   "execution_count": 8,
   "metadata": {
    "collapsed": false
   },
   "outputs": [
    {
     "data": {
      "text/plain": [
       "float"
      ]
     },
     "execution_count": 8,
     "metadata": {},
     "output_type": "execute_result"
    }
   ],
   "source": [
    "type(2.0)"
   ]
  },
  {
   "cell_type": "code",
   "execution_count": 9,
   "metadata": {
    "collapsed": false
   },
   "outputs": [
    {
     "data": {
      "text/plain": [
       "str"
      ]
     },
     "execution_count": 9,
     "metadata": {},
     "output_type": "execute_result"
    }
   ],
   "source": [
    "type(\"2.0\")"
   ]
  },
  {
   "cell_type": "markdown",
   "metadata": {},
   "source": [
    "### 1 - 4 - 4 Exercices basiques sur objets et mÃ©thodes"
   ]
  },
  {
   "cell_type": "code",
   "execution_count": 10,
   "metadata": {
    "collapsed": false
   },
   "outputs": [
    {
     "data": {
      "text/plain": [
       "8"
      ]
     },
     "execution_count": 10,
     "metadata": {},
     "output_type": "execute_result"
    }
   ],
   "source": [
    "seq = \"ACTAGACTATGCGATAGGCTTAGATCG\"\n",
    "codon = \"ATG\"\n",
    "seq.find(codon)"
   ]
  },
  {
   "cell_type": "markdown",
   "metadata": {},
   "source": [
    "Python est 0-indexed, on commence donc Ã  compter Ã  0: le codon est donc Ã  la position 9 dans cette seq."
   ]
  },
  {
   "cell_type": "code",
   "execution_count": 11,
   "metadata": {
    "collapsed": false
   },
   "outputs": [
    {
     "data": {
      "text/plain": [
       "7"
      ]
     },
     "execution_count": 11,
     "metadata": {},
     "output_type": "execute_result"
    }
   ],
   "source": [
    "seq.count(\"T\")                             # On compte le nombre de \"T\""
   ]
  },
  {
   "cell_type": "markdown",
   "metadata": {},
   "source": [
    "SÃ©quences\n",
    "    1. Trouver seq1 dans seq2\n",
    "    2. Comment obtenir la seq3 en minuscule?\n",
    "    3. Comment dÃ©terminer si seq4 est composÃ©e entiÃ¨rement de chiffres?"
   ]
  },
  {
   "cell_type": "markdown",
   "metadata": {},
   "source": [
    "\n"
   ]
  },
  {
   "cell_type": "markdown",
   "metadata": {},
   "source": [
    "## 1 - 5 Data structures"
   ]
  },
  {
   "cell_type": "markdown",
   "metadata": {},
   "source": [
    "Les data structures sont des **objets qui contiennent un ensemble de donnÃ©es**.\n",
    "\n",
    "Ces data structures ont diffÃ©rentes propriÃ©tÃ©s."
   ]
  },
  {
   "cell_type": "markdown",
   "metadata": {},
   "source": [
    "### 1 - 5 - 1 List"
   ]
  },
  {
   "cell_type": "markdown",
   "metadata": {},
   "source": [
    "Les lists sont **ordered**, ie des ensembles ordonnÃ©s d'Ã©lÃ©ments.\n",
    "\n",
    "Ordered signifie que indexing et slicing sont possibles."
   ]
  },
  {
   "cell_type": "code",
   "execution_count": 12,
   "metadata": {
    "collapsed": false
   },
   "outputs": [
    {
     "name": "stdout",
     "output_type": "stream",
     "text": [
      "S\n"
     ]
    }
   ],
   "source": [
    "polar_uncharged_aa = [\"Q\", \"S\", \"T\", \"N\"]\n",
    "print(polar_uncharged_aa[1])"
   ]
  },
  {
   "cell_type": "code",
   "execution_count": 13,
   "metadata": {
    "collapsed": false
   },
   "outputs": [
    {
     "name": "stdout",
     "output_type": "stream",
     "text": [
      "Q\n"
     ]
    }
   ],
   "source": [
    "polar_uncharged_aa = [\"Q\", \"S\", \"T\", \"N\"]\n",
    "print(polar_uncharged_aa[0])                # Python est 0-indexed"
   ]
  },
  {
   "cell_type": "code",
   "execution_count": 14,
   "metadata": {
    "collapsed": false
   },
   "outputs": [
    {
     "name": "stdout",
     "output_type": "stream",
     "text": [
      "['S', 'T']\n",
      "['S']\n"
     ]
    }
   ],
   "source": [
    "print(polar_uncharged_aa[1:3])              # La borne supÃ©rieure d'un slice n'est pas prise en compte\n",
    "print(polar_uncharged_aa[1:2])              # On demande une rÃ©gion de la list, donc l'output est une list d'1 Ã©lÃ©ment"
   ]
  },
  {
   "cell_type": "code",
   "execution_count": 15,
   "metadata": {
    "collapsed": false
   },
   "outputs": [
    {
     "name": "stdout",
     "output_type": "stream",
     "text": [
      "['S', 'T', 'N']\n"
     ]
    }
   ],
   "source": [
    "print(polar_uncharged_aa[1:])                     # Pas de borne supÃ©rieure => derniÃ¨re valeur"
   ]
  },
  {
   "cell_type": "code",
   "execution_count": 16,
   "metadata": {
    "collapsed": false
   },
   "outputs": [
    {
     "name": "stdout",
     "output_type": "stream",
     "text": [
      "['Q', 'S']\n"
     ]
    }
   ],
   "source": [
    "print(polar_uncharged_aa[:2])                     # Pas de borne infÃ©rieure => premiÃ¨re valeur"
   ]
  },
  {
   "cell_type": "code",
   "execution_count": 17,
   "metadata": {
    "collapsed": false
   },
   "outputs": [
    {
     "name": "stdout",
     "output_type": "stream",
     "text": [
      "['Q', 'S', 'T']\n"
     ]
    }
   ],
   "source": [
    "print(polar_uncharged_aa[:-1])                      # Negative indexing (-1: dernier Ã©lÃ©ment, -2: avant-dernier, etc.)"
   ]
  },
  {
   "cell_type": "code",
   "execution_count": 18,
   "metadata": {
    "collapsed": false
   },
   "outputs": [
    {
     "name": "stdout",
     "output_type": "stream",
     "text": [
      "2\n"
     ]
    }
   ],
   "source": [
    "print(polar_uncharged_aa.index(\"T\"))               # Position (= index) d'un Ã©lÃ©ment (premiÃ¨re position, pas toutes)"
   ]
  },
  {
   "cell_type": "markdown",
   "metadata": {},
   "source": [
    "Les listes sont **mutable** = les Ã©lÃ©ments d'une liste peuvent Ãªtre modifiÃ©s (supprimÃ©s, rÃ©assignÃ©s, etc.)."
   ]
  },
  {
   "cell_type": "code",
   "execution_count": 19,
   "metadata": {
    "collapsed": false
   },
   "outputs": [
    {
     "name": "stdout",
     "output_type": "stream",
     "text": [
      "['Q', 'Ser', 'T', 'N']\n"
     ]
    }
   ],
   "source": [
    "polar_uncharged_aa[1] = \"Ser\"\n",
    "print(polar_uncharged_aa)"
   ]
  },
  {
   "cell_type": "markdown",
   "metadata": {},
   "source": [
    "**Quelques mÃ©thodes.**"
   ]
  },
  {
   "cell_type": "code",
   "execution_count": 20,
   "metadata": {
    "collapsed": false
   },
   "outputs": [
    {
     "data": {
      "text/plain": [
       "'N'"
      ]
     },
     "execution_count": 20,
     "metadata": {},
     "output_type": "execute_result"
    }
   ],
   "source": [
    "polar_uncharged_aa.pop()                    # Supprime et retourne (print) le dernier Ã©lÃ©ment de la list"
   ]
  },
  {
   "cell_type": "code",
   "execution_count": 21,
   "metadata": {
    "collapsed": false
   },
   "outputs": [
    {
     "name": "stdout",
     "output_type": "stream",
     "text": [
      "['Q', 'Ser', 'T']\n"
     ]
    }
   ],
   "source": [
    "print(polar_uncharged_aa)"
   ]
  },
  {
   "cell_type": "code",
   "execution_count": 22,
   "metadata": {
    "collapsed": false
   },
   "outputs": [
    {
     "data": {
      "text/plain": [
       "['Q', 'Ser', 'T', 'Asn']"
      ]
     },
     "execution_count": 22,
     "metadata": {},
     "output_type": "execute_result"
    }
   ],
   "source": [
    "polar_uncharged_aa.append(\"Asn\")            # Ajoute un Ã©lÃ©ment Ã  la fin\n",
    "polar_uncharged_aa"
   ]
  },
  {
   "cell_type": "code",
   "execution_count": 23,
   "metadata": {
    "collapsed": false
   },
   "outputs": [
    {
     "data": {
      "text/plain": [
       "['Q', 'Ser', 'T', 'Asn', 'H', 'R', 'K', 'D', 'E']"
      ]
     },
     "execution_count": 23,
     "metadata": {},
     "output_type": "execute_result"
    }
   ],
   "source": [
    "polar_aa = polar_uncharged_aa + [\"H\", \"R\", \"K\", \"D\", \"E\"]\n",
    "polar_aa"
   ]
  },
  {
   "cell_type": "markdown",
   "metadata": {},
   "source": [
    "### 1 - 5 - 2 Set"
   ]
  },
  {
   "cell_type": "markdown",
   "metadata": {},
   "source": [
    "**Unordered**, **mutable**, **unique**.\n",
    "\n",
    "Un set ne garde pas les relations entre les Ã©lÃ©ments qu'on lui passe, seulement les Ã©lÃ©ments: l'ordre est alÃ©atoire, les Ã©lÃ©ments en double ne sont pas gardÃ©s.\n",
    "\n",
    "Pas de slicing, pas d'indexing."
   ]
  },
  {
   "cell_type": "code",
   "execution_count": 24,
   "metadata": {
    "collapsed": false
   },
   "outputs": [
    {
     "name": "stdout",
     "output_type": "stream",
     "text": [
      "{'T', 'A', 'G', 'C'}\n"
     ]
    }
   ],
   "source": [
    "dNTP = {\"A\", \"C\", \"T\", \"G\", \"A\"}\n",
    "print(dNTP)"
   ]
  },
  {
   "cell_type": "code",
   "execution_count": 25,
   "metadata": {
    "collapsed": false
   },
   "outputs": [
    {
     "ename": "TypeError",
     "evalue": "'set' object does not support indexing",
     "output_type": "error",
     "traceback": [
      "\u001b[1;31m---------------------------------------------------------------------------\u001b[0m",
      "\u001b[1;31mTypeError\u001b[0m                                 Traceback (most recent call last)",
      "\u001b[1;32m<ipython-input-25-0c954ca9b460>\u001b[0m in \u001b[0;36m<module>\u001b[1;34m()\u001b[0m\n\u001b[1;32m----> 1\u001b[1;33m \u001b[0mprint\u001b[0m\u001b[1;33m(\u001b[0m\u001b[0mdNTP\u001b[0m\u001b[1;33m[\u001b[0m\u001b[1;36m1\u001b[0m\u001b[1;33m]\u001b[0m\u001b[1;33m)\u001b[0m                            \u001b[1;31m# Pas d'indexing\u001b[0m\u001b[1;33m\u001b[0m\u001b[0m\n\u001b[0m",
      "\u001b[1;31mTypeError\u001b[0m: 'set' object does not support indexing"
     ]
    }
   ],
   "source": [
    "print(dNTP[1])                            # Pas d'indexing"
   ]
  },
  {
   "cell_type": "code",
   "execution_count": 26,
   "metadata": {
    "collapsed": false
   },
   "outputs": [
    {
     "ename": "TypeError",
     "evalue": "'set' object is not subscriptable",
     "output_type": "error",
     "traceback": [
      "\u001b[1;31m---------------------------------------------------------------------------\u001b[0m",
      "\u001b[1;31mTypeError\u001b[0m                                 Traceback (most recent call last)",
      "\u001b[1;32m<ipython-input-26-bc0ef4ac335f>\u001b[0m in \u001b[0;36m<module>\u001b[1;34m()\u001b[0m\n\u001b[1;32m----> 1\u001b[1;33m \u001b[0mprint\u001b[0m\u001b[1;33m(\u001b[0m\u001b[0mdNTP\u001b[0m\u001b[1;33m[\u001b[0m\u001b[1;36m1\u001b[0m\u001b[1;33m:\u001b[0m\u001b[1;36m2\u001b[0m\u001b[1;33m]\u001b[0m\u001b[1;33m)\u001b[0m                           \u001b[1;31m# Pas de slicing\u001b[0m\u001b[1;33m\u001b[0m\u001b[0m\n\u001b[0m",
      "\u001b[1;31mTypeError\u001b[0m: 'set' object is not subscriptable"
     ]
    }
   ],
   "source": [
    "print(dNTP[1:2])                           # Pas de slicing"
   ]
  },
  {
   "cell_type": "markdown",
   "metadata": {},
   "source": [
    "**Quelques mÃ©thodes.**"
   ]
  },
  {
   "cell_type": "code",
   "execution_count": 27,
   "metadata": {
    "collapsed": false
   },
   "outputs": [
    {
     "name": "stdout",
     "output_type": "stream",
     "text": [
      "{'T', 'A', 'G', 'U', 'C'}\n"
     ]
    }
   ],
   "source": [
    "dNTP.add(\"U\")\n",
    "print(dNTP)"
   ]
  },
  {
   "cell_type": "code",
   "execution_count": 28,
   "metadata": {
    "collapsed": false
   },
   "outputs": [
    {
     "name": "stdout",
     "output_type": "stream",
     "text": [
      "{'T', 'A', 'G', 'C'}\n"
     ]
    }
   ],
   "source": [
    "dNTP.discard(\"U\")\n",
    "print(dNTP)"
   ]
  },
  {
   "cell_type": "code",
   "execution_count": 29,
   "metadata": {
    "collapsed": false
   },
   "outputs": [
    {
     "name": "stdout",
     "output_type": "stream",
     "text": [
      "{'G', 'C', 'A'}\n"
     ]
    }
   ],
   "source": [
    "rNTP = {\"A\", \"C\", \"G\", \"U\"}\n",
    "print(dNTP.intersection(rNTP))"
   ]
  },
  {
   "cell_type": "markdown",
   "metadata": {},
   "source": [
    "On a aussi union, issubset, isdisjoint, issuperset, etc."
   ]
  },
  {
   "cell_type": "markdown",
   "metadata": {},
   "source": [
    "### 1 - 5 - 3 Tuple"
   ]
  },
  {
   "cell_type": "markdown",
   "metadata": {},
   "source": [
    "Les tuples sont **ordered** mais **immutable** = un tuple n'est pas modifiable, il faut en recrÃ©er un pour changer des valeurs."
   ]
  },
  {
   "cell_type": "code",
   "execution_count": 30,
   "metadata": {
    "collapsed": false
   },
   "outputs": [
    {
     "name": "stdout",
     "output_type": "stream",
     "text": [
      "P\n"
     ]
    }
   ],
   "source": [
    "AA = (\"G\", \"P\", \"U\", \"C\")\n",
    "print(AA[1])"
   ]
  },
  {
   "cell_type": "code",
   "execution_count": 31,
   "metadata": {
    "collapsed": false
   },
   "outputs": [
    {
     "ename": "TypeError",
     "evalue": "'tuple' object does not support item assignment",
     "output_type": "error",
     "traceback": [
      "\u001b[1;31m---------------------------------------------------------------------------\u001b[0m",
      "\u001b[1;31mTypeError\u001b[0m                                 Traceback (most recent call last)",
      "\u001b[1;32m<ipython-input-31-ddfdb19d4723>\u001b[0m in \u001b[0;36m<module>\u001b[1;34m()\u001b[0m\n\u001b[1;32m----> 1\u001b[1;33m \u001b[0mAA\u001b[0m\u001b[1;33m[\u001b[0m\u001b[1;36m1\u001b[0m\u001b[1;33m]\u001b[0m \u001b[1;33m=\u001b[0m \u001b[1;34m\"Pro\"\u001b[0m                            \u001b[1;31m# Pas modifiable\u001b[0m\u001b[1;33m\u001b[0m\u001b[0m\n\u001b[0m",
      "\u001b[1;31mTypeError\u001b[0m: 'tuple' object does not support item assignment"
     ]
    }
   ],
   "source": [
    "AA[1] = \"Pro\"                            # Pas modifiable"
   ]
  },
  {
   "cell_type": "code",
   "execution_count": 32,
   "metadata": {
    "collapsed": false
   },
   "outputs": [
    {
     "name": "stdout",
     "output_type": "stream",
     "text": [
      "<class 'str'>\n",
      "<class 'tuple'>\n",
      "('G', 'P', 'U', 'C', 'V')\n"
     ]
    }
   ],
   "source": [
    "AA = AA + (\"V\",)\n",
    "print(type((\"V\")))\n",
    "print(type((\"V\",)))                     # Tuple = parenthÃ¨ses + virgule\n",
    "print(AA)"
   ]
  },
  {
   "cell_type": "markdown",
   "metadata": {
    "collapsed": true
   },
   "source": [
    "Tuple a **seulement 2 mÃ©thodes**, count et index."
   ]
  },
  {
   "cell_type": "markdown",
   "metadata": {},
   "source": [
    "### 1 - 5 - 4 Dict"
   ]
  },
  {
   "cell_type": "markdown",
   "metadata": {},
   "source": [
    "Les dicts permettent de **mapper des keys Ã  des values**.\n",
    "\n",
    "Ces keys et values peuvent Ãªtre des chiffres, des str, des lists, d'autres dicts, etc.\n",
    "\n",
    "Ils sont **unordered et mutable**."
   ]
  },
  {
   "cell_type": "code",
   "execution_count": 33,
   "metadata": {
    "collapsed": false
   },
   "outputs": [
    {
     "name": "stdout",
     "output_type": "stream",
     "text": [
      "{'AUG': 'M', 'UGG': 'Stop'}\n"
     ]
    }
   ],
   "source": [
    "codon_table = {\"AUG\": \"M\", \"UGG\": \"Stop\"}                 # On initialise un dict\n",
    "print(codon_table)"
   ]
  },
  {
   "cell_type": "code",
   "execution_count": 34,
   "metadata": {
    "collapsed": false
   },
   "outputs": [
    {
     "name": "stdout",
     "output_type": "stream",
     "text": [
      "M\n"
     ]
    }
   ],
   "source": [
    "print(codon_table[\"AUG\"])                   # Les keys d'un dict sont utilisÃ©s comme un index (0, 1, etc.) dans list"
   ]
  },
  {
   "cell_type": "code",
   "execution_count": 35,
   "metadata": {
    "collapsed": false
   },
   "outputs": [
    {
     "name": "stdout",
     "output_type": "stream",
     "text": [
      "{'AUG': 'M', 'UGG': 'Stop', 'ACG': 'Thr'}\n"
     ]
    }
   ],
   "source": [
    "codon_table[\"ACG\"] = \"Thr\"\n",
    "print(codon_table)"
   ]
  },
  {
   "cell_type": "code",
   "execution_count": 36,
   "metadata": {
    "collapsed": false
   },
   "outputs": [
    {
     "name": "stdout",
     "output_type": "stream",
     "text": [
      "{'AUG': 'M', 'UGG': 'Stop', 'ACG': ['Thr', 'T']}\n"
     ]
    }
   ],
   "source": [
    "codon_table[\"ACG\"] = [\"Thr\", \"T\"]\n",
    "print(codon_table)"
   ]
  },
  {
   "cell_type": "code",
   "execution_count": 37,
   "metadata": {
    "collapsed": false
   },
   "outputs": [
    {
     "name": "stdout",
     "output_type": "stream",
     "text": [
      "{'AUG': 'M', 'UGG': 'Stop', 'ACG': ['Thr', 'T'], 'UGA': 'Stop'}\n"
     ]
    }
   ],
   "source": [
    "codon_table[\"UGA\"] = \"Stop\"\n",
    "print(codon_table)"
   ]
  },
  {
   "cell_type": "markdown",
   "metadata": {},
   "source": [
    "**Quelques mÃ©thodes.**"
   ]
  },
  {
   "cell_type": "code",
   "execution_count": 38,
   "metadata": {
    "collapsed": false
   },
   "outputs": [
    {
     "name": "stdout",
     "output_type": "stream",
     "text": [
      "dict_keys(['A', 'T', 'G', 'C'])\n"
     ]
    }
   ],
   "source": [
    "complement = {\"A\": \"T\", \"T\": \"A\", \"C\": \"G\", \"G\": \"C\"}\n",
    "print(complement.keys())"
   ]
  },
  {
   "cell_type": "code",
   "execution_count": 39,
   "metadata": {
    "collapsed": false
   },
   "outputs": [
    {
     "name": "stdout",
     "output_type": "stream",
     "text": [
      "dict_values(['T', 'A', 'C', 'G'])\n"
     ]
    }
   ],
   "source": [
    "print(complement.values())"
   ]
  },
  {
   "cell_type": "code",
   "execution_count": 40,
   "metadata": {
    "collapsed": false
   },
   "outputs": [
    {
     "name": "stdout",
     "output_type": "stream",
     "text": [
      "dict_items([('A', 'T'), ('T', 'A'), ('G', 'C'), ('C', 'G')])\n"
     ]
    }
   ],
   "source": [
    "print(complement.items())"
   ]
  },
  {
   "cell_type": "markdown",
   "metadata": {},
   "source": [
    "### 1 - 5 - 5 String"
   ]
  },
  {
   "cell_type": "markdown",
   "metadata": {},
   "source": [
    "Les strings fonctionnent comme des **lists sans item assignment**."
   ]
  },
  {
   "cell_type": "code",
   "execution_count": 41,
   "metadata": {
    "collapsed": false
   },
   "outputs": [
    {
     "name": "stdout",
     "output_type": "stream",
     "text": [
      "CG\n"
     ]
    }
   ],
   "source": [
    "nucleotides = \"ACGT\"                        # On initialise une string\n",
    "print(nucleotides[1:3])"
   ]
  },
  {
   "cell_type": "code",
   "execution_count": 42,
   "metadata": {
    "collapsed": false
   },
   "outputs": [
    {
     "ename": "SyntaxError",
     "evalue": "keyword can't be an expression (<ipython-input-42-6e09cab401af>, line 1)",
     "output_type": "error",
     "traceback": [
      "\u001b[1;36m  File \u001b[1;32m\"<ipython-input-42-6e09cab401af>\"\u001b[1;36m, line \u001b[1;32m1\u001b[0m\n\u001b[1;33m    print(nucleotides[3] = \"U\")\u001b[0m\n\u001b[1;37m         ^\u001b[0m\n\u001b[1;31mSyntaxError\u001b[0m\u001b[1;31m:\u001b[0m keyword can't be an expression\n"
     ]
    }
   ],
   "source": [
    "print(nucleotides[3] = \"U\")"
   ]
  },
  {
   "cell_type": "code",
   "execution_count": 43,
   "metadata": {
    "collapsed": false
   },
   "outputs": [
    {
     "name": "stdout",
     "output_type": "stream",
     "text": [
      "AC\n"
     ]
    }
   ],
   "source": [
    "print(nucleotides[:2])"
   ]
  },
  {
   "cell_type": "markdown",
   "metadata": {},
   "source": [
    "**Quelques mÃ©thodes.**"
   ]
  },
  {
   "cell_type": "code",
   "execution_count": 44,
   "metadata": {
    "collapsed": false
   },
   "outputs": [
    {
     "data": {
      "text/plain": [
       "['ATAACAAGTAGCTAGCTAAAAAAAAAAAAAA', 'ATATACAGACAGACTAGCA']"
      ]
     },
     "execution_count": 44,
     "metadata": {},
     "output_type": "execute_result"
    }
   ],
   "source": [
    "seq = \"ATAACAAGTAGCTAGCTAAAAAAAAAAAAAA,ATATACAGACAGACTAGCA\"\n",
    "seq.split(\",\")                                                      # On obtient une list"
   ]
  },
  {
   "cell_type": "code",
   "execution_count": 45,
   "metadata": {
    "collapsed": false
   },
   "outputs": [
    {
     "data": {
      "text/plain": [
       "'ATAACAAGTAGCTAGCTAAAAAAAAAAAAAA'"
      ]
     },
     "execution_count": 45,
     "metadata": {},
     "output_type": "execute_result"
    }
   ],
   "source": [
    "seq1 = seq.split(\",\")[0]        # On assigne les valeurs donnÃ©es par split Ã  seq1 et seq2\n",
    "seq2 = seq.split(\",\")[1]\n",
    "seq1"
   ]
  },
  {
   "cell_type": "code",
   "execution_count": 46,
   "metadata": {
    "collapsed": false
   },
   "outputs": [
    {
     "data": {
      "text/plain": [
       "True"
      ]
     },
     "execution_count": 46,
     "metadata": {},
     "output_type": "execute_result"
    }
   ],
   "source": [
    "seq1.startswith(\"ATA\")"
   ]
  },
  {
   "cell_type": "code",
   "execution_count": 47,
   "metadata": {
    "collapsed": false
   },
   "outputs": [
    {
     "data": {
      "text/plain": [
       "'ATAACAAGTAGCTAGCT'"
      ]
     },
     "execution_count": 47,
     "metadata": {},
     "output_type": "execute_result"
    }
   ],
   "source": [
    "seq1 = seq1.rstrip(\"A\")                # On enlÃ¨ve toutes les A en 3'\n",
    "seq1"
   ]
  },
  {
   "cell_type": "code",
   "execution_count": 48,
   "metadata": {
    "collapsed": false
   },
   "outputs": [
    {
     "data": {
      "text/plain": [
       "'ATAACAAGTAGCTAGCT-ATATACAGACAGACTAGCA'"
      ]
     },
     "execution_count": 48,
     "metadata": {},
     "output_type": "execute_result"
    }
   ],
   "source": [
    "\"-\".join([seq1, seq2])"
   ]
  },
  {
   "cell_type": "markdown",
   "metadata": {},
   "source": [
    "### 1 - 5 - 6 Exercices sur les data structures"
   ]
  },
  {
   "cell_type": "markdown",
   "metadata": {},
   "source": [
    "Splicing, indexing, modification de data structures."
   ]
  },
  {
   "cell_type": "markdown",
   "metadata": {},
   "source": [
    "\n"
   ]
  },
  {
   "cell_type": "markdown",
   "metadata": {},
   "source": [
    "## 1 - 6 Control flow"
   ]
  },
  {
   "cell_type": "markdown",
   "metadata": {},
   "source": [
    "### 1 - 6 - 1 If statement"
   ]
  },
  {
   "cell_type": "markdown",
   "metadata": {},
   "source": [
    "Le if statement permet de donner des **instructions conditionnelles**.\n",
    "\n",
    "If statement est linÃ©aire.\n",
    "\n",
    "Seul if est obligatoire, elif et else sont optionnels."
   ]
  },
  {
   "cell_type": "code",
   "execution_count": 49,
   "metadata": {
    "collapsed": false
   },
   "outputs": [
    {
     "name": "stdout",
     "output_type": "stream",
     "text": [
      "Oups\n"
     ]
    }
   ],
   "source": [
    "seq = \"ATGAAAAAGCGTTTTTTT\"\n",
    "\n",
    "if seq[5] == \"A\":\n",
    "    print(\"Oups\")\n",
    "elif seq[5] == \"T\":\n",
    "    print(\"Ouch\")\n",
    "elif seq[3] == \"G\":\n",
    "    print(\"G Ã  position 3\")\n",
    "else:\n",
    "    print(\"cool\")"
   ]
  },
  {
   "cell_type": "markdown",
   "metadata": {},
   "source": [
    "### 1 - 6 - 2 For loop"
   ]
  },
  {
   "cell_type": "markdown",
   "metadata": {},
   "source": [
    "Le for loop permet d'itÃ©rer sur un iterable (= data structure sur laquelle on peut itÃ©rer).\n",
    "\n",
    "For loop est un... loop!"
   ]
  },
  {
   "cell_type": "code",
   "execution_count": 50,
   "metadata": {
    "collapsed": false
   },
   "outputs": [
    {
     "name": "stdout",
     "output_type": "stream",
     "text": [
      "8\n"
     ]
    }
   ],
   "source": [
    "seq = \"ATGACTCGCTGCCCAGCTGACTAGACGCTAGCA\"\n",
    "GC = 0\n",
    "\n",
    "for nucleotide in seq:                                  # Pour chaque Ã©lÃ©ment dans seq\n",
    "    if nucleotide == \"G\" or \"nucleotide\" == \"C\":        # Si Ã©lÃ©ment est G ou C\n",
    "        GC = GC + 1                                     # On ajoute 1 Ã  notre compteur et on passe Ã  l'Ã©lÃ©ment suivant\n",
    "\n",
    "print(GC)"
   ]
  },
  {
   "cell_type": "markdown",
   "metadata": {},
   "source": [
    "### 1 - 6 - 3 While loop"
   ]
  },
  {
   "cell_type": "markdown",
   "metadata": {},
   "source": [
    "Le while loop permet de faire une action tant qu'une condition est vraie.\n",
    "\n",
    "While loop est aussi un loop."
   ]
  },
  {
   "cell_type": "code",
   "execution_count": 51,
   "metadata": {
    "collapsed": false
   },
   "outputs": [
    {
     "name": "stdout",
     "output_type": "stream",
     "text": [
      "Encore un!\n",
      "Encore un!\n",
      "Encore un!\n",
      "Encore un!\n",
      "Encore un!\n",
      "Encore un!\n"
     ]
    }
   ],
   "source": [
    "compteur = 10\n",
    "\n",
    "while compteur >= 5:\n",
    "    print(\"Encore un!\")\n",
    "    compteur = compteur - 1"
   ]
  },
  {
   "cell_type": "markdown",
   "metadata": {},
   "source": [
    "### 1 - 6 - 4 Exercices sur control flow"
   ]
  },
  {
   "cell_type": "markdown",
   "metadata": {},
   "source": [
    "GC content, trouver des codons spÃ©cifiques dans une sÃ©quence, donner liste des longueurs pour chaque seq dans la list1."
   ]
  },
  {
   "cell_type": "code",
   "execution_count": 52,
   "metadata": {
    "collapsed": false
   },
   "outputs": [
    {
     "name": "stdout",
     "output_type": "stream",
     "text": [
      "0.375\n"
     ]
    }
   ],
   "source": [
    "seq = \"AGAGAAATAATGGGGA\"\n",
    "\n",
    "nombre = 0\n",
    "\n",
    "for lettre in seq:\n",
    "    if lettre == \"G\":\n",
    "        nombre = nombre + 1\n",
    "\n",
    "print(nombre/len(seq))\n"
   ]
  },
  {
   "cell_type": "markdown",
   "metadata": {},
   "source": [
    "\n"
   ]
  },
  {
   "cell_type": "markdown",
   "metadata": {},
   "source": [
    "## 1 - 7 Fonctions"
   ]
  },
  {
   "cell_type": "markdown",
   "metadata": {},
   "source": [
    "### 1 - 7 - 1 Ecriture de fonctions"
   ]
  },
  {
   "cell_type": "markdown",
   "metadata": {
    "collapsed": true
   },
   "source": [
    "Les fonctions permettent de rÃ©utiliser du code."
   ]
  },
  {
   "cell_type": "code",
   "execution_count": 53,
   "metadata": {
    "collapsed": true
   },
   "outputs": [],
   "source": [
    "def complement(arg):\n",
    "    comp_seq = \"\"\n",
    "    comp = {\"A\": \"T\", \"C\": \"G\", \"G\": \"C\", \"T\": \"A\"}\n",
    "    for lettre in arg:\n",
    "        comp_seq = comp_seq + comp[lettre]\n",
    "    return comp_seq"
   ]
  },
  {
   "cell_type": "code",
   "execution_count": 54,
   "metadata": {
    "collapsed": false
   },
   "outputs": [
    {
     "name": "stdout",
     "output_type": "stream",
     "text": [
      "TTTGTCTAG\n"
     ]
    }
   ],
   "source": [
    "print(complement(\"AAACAGATC\"))"
   ]
  },
  {
   "cell_type": "code",
   "execution_count": 55,
   "metadata": {
    "collapsed": false
   },
   "outputs": [
    {
     "data": {
      "text/plain": [
       "'TCTAAATTAAAAATTG'"
      ]
     },
     "execution_count": 55,
     "metadata": {},
     "output_type": "execute_result"
    }
   ],
   "source": [
    "complement(\"AGATTTAATTTTTAAC\")"
   ]
  },
  {
   "cell_type": "markdown",
   "metadata": {},
   "source": [
    "### 1 - 7 - 2 Exercices"
   ]
  },
  {
   "cell_type": "markdown",
   "metadata": {},
   "source": [
    "Ecrire et rÃ©utiliser des fonctions."
   ]
  },
  {
   "cell_type": "code",
   "execution_count": 56,
   "metadata": {
    "collapsed": true
   },
   "outputs": [],
   "source": [
    "def lenseq(arg):\n",
    "    longueurs = []\n",
    "    for sequence in arg:\n",
    "        longueurs.append(len(sequence) * 2)\n",
    "    return longueurs"
   ]
  },
  {
   "cell_type": "code",
   "execution_count": 57,
   "metadata": {
    "collapsed": false
   },
   "outputs": [
    {
     "name": "stdout",
     "output_type": "stream",
     "text": [
      "[12, 12]\n"
     ]
    }
   ],
   "source": [
    "print(lenseq([\"ACGACC\", \"ACTAAT\"]))"
   ]
  },
  {
   "cell_type": "markdown",
   "metadata": {},
   "source": [
    "\n"
   ]
  },
  {
   "cell_type": "markdown",
   "metadata": {},
   "source": [
    "## 1 - 8 Modules"
   ]
  },
  {
   "cell_type": "markdown",
   "metadata": {},
   "source": [
    "Modules = ensemble cohÃ©rent d'objets (fonctions de maths, de 3D, etc.) accessibles quand appelÃ©s explicitement.\n",
    "\n",
    "[Standard library](https://docs.python.org/3/library/index.html) = ensemble de modules dÃ©jÃ  intÃ©grÃ©s Ã  Python.\n",
    "\n",
    "Third-party library = modules qu'il faut installer (e.g. BioPython)"
   ]
  },
  {
   "cell_type": "code",
   "execution_count": 58,
   "metadata": {
    "collapsed": false
   },
   "outputs": [
    {
     "data": {
      "text/plain": [
       "6"
      ]
     },
     "execution_count": 58,
     "metadata": {},
     "output_type": "execute_result"
    }
   ],
   "source": [
    "import math\n",
    "math.factorial(3)"
   ]
  },
  {
   "cell_type": "code",
   "execution_count": 59,
   "metadata": {
    "collapsed": false
   },
   "outputs": [
    {
     "data": {
      "text/plain": [
       "2.0"
      ]
     },
     "execution_count": 59,
     "metadata": {},
     "output_type": "execute_result"
    }
   ],
   "source": [
    "from math import log10\n",
    "log10(100)"
   ]
  },
  {
   "cell_type": "markdown",
   "metadata": {},
   "source": [
    "\n"
   ]
  },
  {
   "cell_type": "markdown",
   "metadata": {},
   "source": [
    "## 1 - 9 Exercices"
   ]
  },
  {
   "cell_type": "markdown",
   "metadata": {},
   "source": [
    "Contenu en GC, transcription, traduction, etc."
   ]
  },
  {
   "cell_type": "markdown",
   "metadata": {},
   "source": [
    "\n"
   ]
  }
 ],
 "metadata": {
  "anaconda-cloud": {},
  "kernelspec": {
   "display_name": "Python [Root]",
   "language": "python",
   "name": "Python [Root]"
  },
  "language_info": {
   "codemirror_mode": {
    "name": "ipython",
    "version": 3
   },
   "file_extension": ".py",
   "mimetype": "text/x-python",
   "name": "python",
   "nbconvert_exporter": "python",
   "pygments_lexer": "ipython3",
   "version": "3.5.2"
  },
  "nbpresent": {
   "slides": {},
   "themes": {
    "default": "823e37fd-932b-40e2-a324-ee40b5cc08a2",
    "theme": {}
   }
  }
 },
 "nbformat": 4,
 "nbformat_minor": 0
}
