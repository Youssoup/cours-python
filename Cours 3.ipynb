{
 "cells": [
  {
   "cell_type": "code",
   "execution_count": 25,
   "metadata": {
    "collapsed": true
   },
   "outputs": [],
   "source": [
    "# Python + Machine Learning"
   ]
  },
  {
   "cell_type": "markdown",
   "metadata": {},
   "source": [
    "\n",
    "\n"
   ]
  },
  {
   "cell_type": "markdown",
   "metadata": {},
   "source": [
    "# Cours 3: Travail avec les séquences et extraction d'informations de bases de données biologiques."
   ]
  },
  {
   "cell_type": "markdown",
   "metadata": {},
   "source": [
    "---"
   ]
  },
  {
   "cell_type": "markdown",
   "metadata": {},
   "source": [
    "## 3 - 0 Rappels"
   ]
  },
  {
   "cell_type": "code",
   "execution_count": 72,
   "metadata": {
    "collapsed": false
   },
   "outputs": [
    {
     "name": "stdout",
     "output_type": "stream",
     "text": [
      "None\n"
     ]
    }
   ],
   "source": [
    "def parse(arg):\n",
    "    file = open(arg, \"r\")\n",
    "    target = open(\"output.txt\", \"w\")\n",
    "\n",
    "    for line in file.readlines():\n",
    "        for letter in line:\n",
    "            if letter not in \"aoieuy\":\n",
    "                target.write(letter + \"\\n\")\n",
    "    \n",
    "    file.close()\n",
    "    target.close()\n",
    "\n",
    "print(parse(\"input.txt\"))"
   ]
  },
  {
   "cell_type": "code",
   "execution_count": 47,
   "metadata": {
    "collapsed": false
   },
   "outputs": [
    {
     "name": "stdout",
     "output_type": "stream",
     "text": [
      ">\n",
      "S\n",
      "q\n",
      "n\n",
      "c\n",
      " \n",
      "1\n",
      "\n"
     ]
    }
   ],
   "source": [
    "f_output = open(\"output.txt\", \"r\")\n",
    "\n",
    "print(f_output.read())\n",
    "\n",
    "f_output.close()"
   ]
  },
  {
   "cell_type": "markdown",
   "metadata": {},
   "source": [
    "## 3 - 1 Regex et travail sur les séquences"
   ]
  },
  {
   "cell_type": "markdown",
   "metadata": {},
   "source": [
    "### 3 - 1 - 1 Regex"
   ]
  },
  {
   "cell_type": "markdown",
   "metadata": {},
   "source": [
    "Permet de trouver une structure/pattern dans une séquence de façon efficiente. Vous pouvez vous entraîner [ici](http://regexr.com/) sur les regex.\n",
    "\n",
    "**Bases**\n",
    "\n",
    "- Any of a, b, c\n",
    "\n",
    "    ```[abc]```\n",
    "\n",
    "\n",
    "- Not a, b, or c\n",
    "\n",
    "    ```[^abc]```\n",
    "\n",
    "\n",
    "- Any between a and g\n",
    "\n",
    "    ```[a-g]```\n",
    "\n",
    "\n",
    "- Any between a and g, and 1 and 3\n",
    "\n",
    "    ```[a-g1-3]```\n",
    "    \n",
    "    \n",
    "- Any except newline\n",
    "\n",
    "    ```.```\n",
    "    \n",
    "\n",
    "- Soit GC, soit CG\n",
    "\n",
    "    ```GC|CG```"
   ]
  },
  {
   "cell_type": "code",
   "execution_count": 180,
   "metadata": {
    "collapsed": false
   },
   "outputs": [
    {
     "name": "stdout",
     "output_type": "stream",
     "text": [
      "G[GC] => ['GG', 'GC'] \n",
      "\n",
      "G[^CP] => ['GG', 'Ga', 'GU'] \n",
      "\n",
      ". => ['G', 'G', 'A', 'A', 'A', 'A', 'A', 'A', 'A', 'A', 'A', 'G', 'C', 'a', 'a', 'a', 'C', 'G', 'a', 'a', 'a', 'a', 'a', 'C', 'C', 'a', 'a', 'a', 'a', 'a', 'G', 'P', 'a', 'a', 'a', 'a', 'G', 'U', 'a', 'a', 'a', 'a', 'a', 'W', '1', 'w', '1', 'W', '1', 'W', '1'] \n",
      "\n",
      "[a-z0-9] => ['a', 'a', 'a', 'a', 'a', 'a', 'a', 'a', 'a', 'a', 'a', 'a', 'a', 'a', 'a', 'a', 'a', 'a', 'a', 'a', 'a', 'a', '1', 'w', '1', '1', '1'] \n",
      "\n",
      "GC|CG => ['GC', 'CG'] \n",
      "\n"
     ]
    }
   ],
   "source": [
    "from re import findall                          # module regex\n",
    "\n",
    "seq = \"GGAAAAAAAAAGCaaaCGaaaaaCCaaaaaGPaaaaGUaa\\n\\n\\naaaW1w1W1W1\"\n",
    "\n",
    "pattern = \"G[GC]\"                               # G suivi d'un G ou C\n",
    "print(pattern, \"=>\", findall(pattern, seq), \"\\n\")\n",
    "\n",
    "pattern = \"G[^CP]\"                              # G suivi d'un AA autre que C ou P\n",
    "print(pattern, \"=>\", findall(pattern, seq), \"\\n\")\n",
    "\n",
    "pattern = \".\"                                   # Tout sauf un new line\n",
    "print(pattern, \"=>\", findall(pattern, seq), \"\\n\")\n",
    "\n",
    "pattern = \"[a-z0-9]\"                            # Lettre minuscule ou chiffre\n",
    "print(pattern, \"=>\", findall(pattern, seq), \"\\n\")\n",
    "\n",
    "pattern = \"GC|CG\"                               # Soit GC, soit CG\n",
    "print(pattern, \"=>\", findall(pattern, seq), \"\\n\")"
   ]
  },
  {
   "cell_type": "markdown",
   "metadata": {},
   "source": [
    "**Quantifiers**\n",
    "\n",
    "- \\>=0\n",
    "    \n",
    ">   ```a*```\n",
    "\n",
    "\n",
    "- \\>=1\n",
    "    \n",
    ">   ```a+```\n",
    "\n",
    "\n",
    "- 0 or 1\n",
    "    \n",
    ">   ```a?```\n",
    "\n",
    "\n",
    "- Exactly 5\n",
    "    \n",
    ">   ```a{5}```\n",
    "\n",
    "\n",
    "- \\>=2\n",
    "    \n",
    ">   ```a{2,}```\n",
    "\n",
    "\n",
    "- Between one & three\n",
    "    \n",
    ">   ```a{1,3}```\n",
    "\n",
    "\n",
    "- Match as few as possible\n",
    "\n",
    ">   ```a+? a{2,}?```"
   ]
  },
  {
   "cell_type": "code",
   "execution_count": 119,
   "metadata": {
    "collapsed": false
   },
   "outputs": [
    {
     "name": "stdout",
     "output_type": "stream",
     "text": [
      "a+ => ['aaa', 'a', 'aaaaaaaa'] \n",
      "\n",
      "GP?[GC]+ => ['GGG', 'GPG', 'GC', 'GPCCC'] \n",
      "\n",
      ".+ => ['AAAAAAAAAAAA', 'AAAAAAAAA'] \n",
      "\n",
      "[GC][GC] => ['GC', 'GG', 'CG', 'CC', 'CC', 'GC', 'GC', 'GC', 'GC', 'GC', 'GC', 'GG', 'GG', 'GG'] \n",
      "\n"
     ]
    }
   ],
   "source": [
    "from re import findall\n",
    "\n",
    "seq = \"aaapauaaaaaaaar\"\n",
    "pattern = \"a+\"                                  # Tous les a qu'on peut prendre\n",
    "print(pattern, \"=>\", findall(pattern, seq), \"\\n\")\n",
    "\n",
    "\n",
    "seq = \"GGGaaaaaaaaaaaGPGaaaaaaaaaaaaaaGPPGCaaaaaaaaaaaaaaGPCCC\"\n",
    "pattern = \"GP?[GC]+\"                            # G suivi optionnellement d'un P suivi obligatoirement d'un ou plus G ou C\n",
    "print(pattern, \"=>\", findall(pattern, seq), \"\\n\")\n",
    "\n",
    "\n",
    "seq = \"AAAAAAAAAAAA\\nAAAAAAAAA\"\n",
    "pattern = \".+\"                                  # Tout sauf new line (greedy)\n",
    "print(pattern, \"=>\", findall(pattern, seq), \"\\n\")\n",
    "\n",
    "seq = \"GCGGCGCCCCGCGCGCC\\nGCGCGCGGGGGGG\"\n",
    "pattern = \"[GC][GC]\"                            # Un G ou un C suivi d'un G ou un C\n",
    "# pattern = \"[GC]{2}\"\n",
    "print(pattern, \"=>\", findall(pattern, seq), \"\\n\")"
   ]
  },
  {
   "cell_type": "markdown",
   "metadata": {},
   "source": [
    "Equivalent d'écrire:\n",
    "\n",
    "```[0-9]``` et ```\\d``` (**any digit**)\n",
    "\n",
    "```[A-Za-z0-9]``` et ```\\w``` (**any word**)"
   ]
  },
  {
   "cell_type": "code",
   "execution_count": 120,
   "metadata": {
    "collapsed": false
   },
   "outputs": [
    {
     "name": "stdout",
     "output_type": "stream",
     "text": [
      "['3', 'feuilles', 'A22', 'blanc', 'noir']\n",
      "['3', '22']\n"
     ]
    }
   ],
   "source": [
    "from re import findall\n",
    "\n",
    "seq = \"3 feuilles A22 blanc-noir\"\n",
    "\n",
    "# print(findall(\"\\w\", seq))\n",
    "# print(findall(\"\\d\", seq))\n",
    "print(findall(\"\\w+\", seq))\n",
    "print(findall(\"\\d+\", seq))"
   ]
  },
  {
   "cell_type": "markdown",
   "metadata": {},
   "source": [
    "**findall** donne la liste des sous-seqs d'une seq qui correspondent à un pattern.\n",
    "\n",
    "La fonction **finditer** nous permet d'avoir des informations sur ces matchs."
   ]
  },
  {
   "cell_type": "code",
   "execution_count": 149,
   "metadata": {
    "collapsed": false
   },
   "outputs": [
    {
     "name": "stdout",
     "output_type": "stream",
     "text": [
      "<_sre.SRE_Match object; span=(0, 2), match='GG'>\n",
      "<_sre.SRE_Match object; span=(10, 12), match='GC'>\n",
      "GG 0\n",
      "GC 10\n"
     ]
    }
   ],
   "source": [
    "from re import finditer\n",
    "\n",
    "seq = \"GGaaaaaaaaGCaaaaaaGPaaaaGU\"\n",
    "pattern = \"G[GC]\"                               # G suivi d'un G ou C\n",
    "\n",
    "for i in finditer(pattern, seq):\n",
    "    print(i)                                    # Cette fonction retourne un objet de type match\n",
    "    \n",
    "for i in finditer(pattern, seq):\n",
    "    print(i.group(), i.start())                 # E.g. on peut avoir la sous-seq matchée + start"
   ]
  },
  {
   "cell_type": "markdown",
   "metadata": {},
   "source": [
    "On peut définir des **groupes de capture**.\n",
    "\n",
    "Dans les patterns que nous avions avant, toute la pattern correspondait à un groupe de capture.\n",
    "\n",
    "Ici, on a besoin de définir un groupe pour chercher les P suivis de soit GC soit CG."
   ]
  },
  {
   "cell_type": "code",
   "execution_count": 203,
   "metadata": {
    "collapsed": false
   },
   "outputs": [
    {
     "name": "stdout",
     "output_type": "stream",
     "text": [
      "['CG', 'GC', 'GC', 'CG']\n",
      "(0, 3) PCG CG\n",
      "(13, 16) PGC GC\n",
      "(38, 41) PGC GC\n",
      "(49, 56) PGCGCCG CG\n"
     ]
    }
   ],
   "source": [
    "from re import findall, finditer\n",
    "\n",
    "seq = \"PCGaaaaaaaaaaPGCaaaaaaaaaPGGaaaaaaaaaaPGCGaaaaaaaPGCGCCG\"\n",
    "pattern = \"P(GC|CG)+\"\n",
    "\n",
    "print(findall(pattern, seq))\n",
    "\n",
    "for i in finditer(pattern, seq):\n",
    "    print(i.span(), i.group(0), i.group(1))"
   ]
  },
  {
   "cell_type": "markdown",
   "metadata": {},
   "source": [
    "On remarque que les matchs findall =/= les matchs finditer: c'est une question de groupe explicite (groupe 0 = tout, groupe 1 = groupe explicite), mais c'est trop complexe, donc utilisez juste finditer pour plus d'options."
   ]
  },
  {
   "cell_type": "markdown",
   "metadata": {},
   "source": [
    "### 3 - 1 - 2 Exercices"
   ]
  },
  {
   "cell_type": "markdown",
   "metadata": {},
   "source": [
    "Chercher les paramètres statistiques dans un texte."
   ]
  },
  {
   "cell_type": "code",
   "execution_count": 229,
   "metadata": {
    "collapsed": false
   },
   "outputs": [
    {
     "name": "stdout",
     "output_type": "stream",
     "text": [
      "Un machin qui doit être pris [R2 = .1, F(1, 2) = 3] suivi d'un machin [[]] qui ne doit pas être pris. Un autre bon machin [t2 = 1, N(0, 1) = 2, Z = 3]. Une phrase avec un machin [R = .2, F(1, 2) = 5]] presque bon. [var = 3, sd = 1.7] encore un bon machin. \n",
      "\n",
      "['[R2 = .1, F(1, 2) = 3] ', '[t2 = 1, N(0, 1) = 2, Z = 3].', '[var = 3, sd = 1.7] ']\n"
     ]
    }
   ],
   "source": [
    "from re import findall\n",
    "\n",
    "f = open(\"statistique.txt\", \"r\")\n",
    "seq = f.read()\n",
    "print(seq, \"\\n\")\n",
    "\n",
    "# pattern = \"\\[[^\\[\\]]+\\]^\\]\"           # La pattern vue en cours\n",
    "pattern = \"\\[[^\\[\\]]+\\][^\\]]\"           # La pattern qui fonctionne =>\n",
    "                                        # crochet qui ouvre, >=1 non-crochets, crochet qui ferme, non-crochet\n",
    "                                        # Le dernier \"non crochet\" n'était pas entre crochets\n",
    "                                        # Les \"non-machin\" doivent être entre crochets,\n",
    "                                        # comme on l'avait fait pour les autres\n",
    "\n",
    "print(findall(pattern, seq))            # Remarquez qu'on prend le machin qui suit le dernier crochet"
   ]
  },
  {
   "cell_type": "markdown",
   "metadata": {},
   "source": [
    "Obtenir seq continue à partir de seq format genbank."
   ]
  },
  {
   "cell_type": "code",
   "execution_count": 187,
   "metadata": {
    "collapsed": false
   },
   "outputs": [
    {
     "name": "stdout",
     "output_type": "stream",
     "text": [
      "['GPUCPUGPUC', 'GPUCGPUCGP', 'GPU'] <class 'list'>\n",
      "GPUCPUGPUCGPUCGPUCGPGPU\n"
     ]
    }
   ],
   "source": [
    "from re import findall\n",
    "\n",
    "f = open(\"seq_gb.txt\", \"r\")\n",
    "pattern = \"[A-Za-z]+\"                   # On cherche toutes les lettres\n",
    "\n",
    "seqs = findall(pattern, f.read())\n",
    "print(seqs, type(seqs))\n",
    "\n",
    "seq = \"\".join(seqs)\n",
    "\n",
    "print(seq)"
   ]
  },
  {
   "cell_type": "markdown",
   "metadata": {},
   "source": [
    "Chercher tous les codons stop dans une seq."
   ]
  },
  {
   "cell_type": "code",
   "execution_count": 207,
   "metadata": {
    "collapsed": false
   },
   "outputs": [
    {
     "name": "stdout",
     "output_type": "stream",
     "text": [
      "[34, 'UAG', 45, 'UAG', 58, 'UAG', 61, 'UAG', 71, 'UGA', 94, 'UAA', 115, 'UAA', 124, 'UAG', 154, 'UGA', 215, 'UAA', 219, 'UAA', 222, 'UGA', 230, 'UGA', 280, 'UGA', 286, 'UAG', 292, 'UGA', 316, 'UAA', 331, 'UGA', 381, 'UAA', 402, 'UAA', 405, 'UAA', 438, 'UAA', 457, 'UAA', 522, 'UGA', 564, 'UAA', 567, 'UAA', 589, 'UGA', 613, 'UAG', 649, 'UAA', 663, 'UAG', 695, 'UGA', 700, 'UGA', 717, 'UAA', 746, 'UAA', 755, 'UAA', 758, 'UAA', 762, 'UAA', 818, 'UGA', 859, 'UGA', 897, 'UGA', 902, 'UGA', 951, 'UGA', 961, 'UAA', 1002, 'UAG', 1006, 'UGA', 1009, 'UAA']\n"
     ]
    }
   ],
   "source": [
    "from re import finditer\n",
    "\n",
    "f = open(\"seq_fasta.txt\", \"r\")\n",
    "seq = f.read()\n",
    "\n",
    "pattern = \"U(AA|AG|GA)\"\n",
    "\n",
    "stops = []\n",
    "for i in finditer(pattern, seq):\n",
    "    stops.append(i.start())\n",
    "    stops.append(i.group())\n",
    "\n",
    "print(stops)"
   ]
  },
  {
   "cell_type": "markdown",
   "metadata": {},
   "source": [
    "## 3 - 2 Web scraping"
   ]
  },
  {
   "cell_type": "markdown",
   "metadata": {},
   "source": [
    "### 3 - 2 - 1 Extraction automatisée de contenu des bases de données biologiques."
   ]
  },
  {
   "cell_type": "markdown",
   "metadata": {},
   "source": [
    "Quand vous voulez écrire un programme pour extraire des données sur internet, il faut repérer l'endroit où elles se trouvent via le code source de la page.\n",
    "\n",
    "Ensuite déterminez le xpath soit en téléchargeant une extension qui le fait pour vous sur votre navigateur, soit en suivant les instructions [ici](http://www.freeformatter.com/xpath-tester.html#xpath-examples). Il faut repérer la balise dans laquelle se trouve votre info (type, classe, id, etc.). Inspect element =/= code source, il faut toujours regarder le code source.\n",
    "\n",
    "Les sites de NCBI sont accessibles seulement via des modules spécialisés, comme BioPython (le code source contient du code javascript qui affiche les informations dans un navigateur tout en bloquant le scraping via html)."
   ]
  },
  {
   "cell_type": "code",
   "execution_count": 246,
   "metadata": {
    "collapsed": false
   },
   "outputs": [
    {
     "name": "stdout",
     "output_type": "stream",
     "text": [
      "<class 'requests.models.Response'> <class 'bytes'> \n",
      " b'<!DOCTYPE html SYSTEM \"about:legacy-compat\">\\n<html xmlns=\"http://www.w3.org/1999/xhtml\" lang=\"en\" xml:lang=\"en\"><head><title>GCN2 - eIF-2-alpha kinase GCN2 - Saccharomyces cerevisiae (strain ATCC 204508 / S288c) (Baker&#039;s yeast) - GCN2 gene &amp; protein</title><meta content=\"IE=edge\" http-equiv=\"X-UA-Compatible\"/><meta content=\"text/html; charset=UTF-8\" http-equiv=\"Content-Type\"/><meta content=\"width=device-width, initial-scale=1\" name=\"viewport\"/><link href=\"/\" rel=\"home\"/><link href=\"http://creativecommons.org/licenses/by-nd/3.0/\" rel=\"license\"/><link type=\"image/vnd.microsoft.icon\" href=\"/favicon.ico\" rel=\"shortcut icon\"/><link href=\"http://ebi-uniprot.github.io/CDN/protvista/css/protvista.css\" rel=\"stylesheet\"/><link href=\"/css-compr.css2016_09\" type=\"text/css\" rel=\"stylesheet\"/><script type=\"text/javascript\">\\n\\t\\t\\tvar BASE = \\'/\\';\\n\\t\\t\\tvar image_x_inverse = \\'/images/x_inverse.png\\';\\n\\t\\t</script>\\n\\t\\t<!--[if lte IE 8]><script charset=\"utf-8\" src=\"/scripts/frontier/d3/r2d3.min.js\"></scr' \n",
      "\n",
      "<class 'lxml.html.HtmlElement'> \n",
      "\n",
      "['        10         20         30         40         50', 'MSLSHLTLDQ YYEIQCNELE AIRSIYMDDF TDLTKRKSSW DKQPQIIFEI ', '        60         70         80         90        100', 'TLRSVDKEPV ESSITLHFAM TPMYPYTAPE IEFKNVQNVM DSQLQMLKSE ', '       110        120        130        140        150', 'FKKIHNTSRG QEIIFEITSF TQEKLDEFQN VVNTQSLEDD RLQRIKETKE ', '       160        170        180        190        200', 'QLEKEEREKQ QETIKKRSDE QRRIDEIVQR ELEKRQDDDD DLLFNRTTQL ', '       210        220        230        240        250', 'DLQPPSEWVA SGEAIVFSKT IKAKLPNNSM FKFKAVVNPK PIKLTSDIFS '] \n",
      "\n",
      "MSLSHLTLDQYYEIQCNELEAIRSIYMDDFTDLTKRKSSWDKQPQIIFEITLRSVDKEPVESSITLHFAMTPMYPYTAPEIEFKNVQNVMDSQLQMLKSEFKKIHNTSRGQEIIFEITSFTQEKLDEFQNVVNTQSLEDDRLQRIKETKEQLEKEEREKQQETIKKRSDEQRRIDEIVQRELEKRQDDDDDLLFNRTTQLDLQPPSEWVASGEAIVFSKTIKAKLPNNSMFKFKAVVNPKPIKLTSDIFSFSKQFLVKPYIPPESPLADFLMSSEMMENFYYLLSEIELDNSYFNTSNGKKEIANLEKELETVLKAKHDNVNRLFGYTVERMGRNNATFVWKIRLLTEYCNYYPLGDLIQSVGFVNLATARIWMIRLLEGLEAIHKLGIVHKCINLETVILVKDADFGSTIPKLVHSTYGYTVLNMLSRYPNKNGSSVELSPSTWIAPELLKFNNAKPQRLTDIWQLGVLFIQIISGSDIVMNFETPQEFLDSTSMDETLYDLLSKMLNNDPKKRLGTLELLPMKFLRTNIDSTINRFNLVSESVNSNSLELTPGDTITVRGNGGRTLSQSSIRRRSFNVGSRFSSINPATRSRYASDFEEIAVLGQGAFGQVVKARNALDSRYYAIKKIRHTEEKLSTILSEVMLLASLNHQYVVRYYAAWLEEDSMDENVFESTDEESDLSESSSDFEENDLLDQSSIFKNRTNHDLDNSNWDFISGSGYPDIVFENSSRDDENEDLDHDTSSTSSSESQDDTDKESKSIQNVPRRRNFVKPMTAVKKKSTLFIQMEYCENRTLYDLIHSENLNQQRDEYWRLFRQILEALSYIHSQGIIHRDLKPMNIFIDESRNVKIGDFGLAKNVHRSLDILKLDSQNLPGSSDNLTSAIGTAMYVATEVLDGTGHYNEKIDMYSLGIIFFEMIYPFSTGMERVNILKKLRSVSIEFPPDFDDNKMKVEKKIIRLLIDHDPNKRPGARTLLNSGWLPVKHQDEVIKEALKSLSNPSSPWQQQVRESLFNQSYSLTNDILFDNSVPTSTPFANILRSQMTEEVVKIFRKHGGIENNAPPRIFPKAPIYGTQNVYEVLDKGGTVLQLQYDLTYPMARYLSKNPSLISKQYRMQHVYRPPDHSRSSLEPRKFGEIDFDIISKSSSESGFYDAESLKIIDEILTVFPVFEKTNTFFILNHADILESVFNFTNIDKAQRPLVSRMLSQVGFARSFKEVKNELKAQLNISSTALNDLELFDFRLDFEAAKKRLYKLMIDSPHLKKIEDSLSHISKVLSYLKPLEVARNVVISPLSNYNSAFYKGGIMFHAVYDDGSSRNMIAAGGRYDTLISFFARPSGKKSSNTRKAVGFNLAWETIFGIAQNYFKLASGNRIKKRNRFLKDTAVDWKPSRCDVLISSFSNSLLDTIGVTILNTLWKQNIKADMLRDCSSVDDVVTGAQQDGIDWILLIKQQAYPLTNHKRKYKPLKIKKLSTNVDIDLDLDEFLTLYQQETGNKSLINDSLTLGDKADEFKRWDENSSAGSSQEGDIDDVVAGSTNNQKVIYVPNMATRSKKANKREKWVYEDAARNSSNMILHNLSNAPIITVDALRDETLEIISITSLAQKEEWLRKVFGSGNNSTPRSFATSIYNNLSKEAHKGNRWAILYCHKTGKSSVIDLQR\n"
     ]
    }
   ],
   "source": [
    "from requests import get\n",
    "from lxml import html\n",
    "from re import findall\n",
    "\n",
    "query = get(\"http://www.uniprot.org/uniprot/P15442\")\n",
    "# On récupère la page sous format non exploitable\n",
    "\n",
    "print(type(query), type(query.content), \"\\n\", query.content[:1000], \"\\n\")\n",
    "# Les 1000 premiers caractères du contenu de query\n",
    "\n",
    "query_html = html.fromstring(query.content)\n",
    "print(type(query_html), \"\\n\")\n",
    "# On convertit le format en html\n",
    "\n",
    "seqs_raw = query_html.xpath(\"(//pre[@class = 'sequence'])[1]/text()\")\n",
    "# On utilise le xpath:\n",
    "# //pre => toutes les balises pre\n",
    "# [@class = \"sequence\"] => qui ont une propriété class = \"sequence\"\n",
    "# [1] => on prend la première balise qui vérifie les conditions précédentes\n",
    "# /text() => on prend le texte contenu dans cet élément\n",
    "print(seqs_raw[:10], \"\\n\")\n",
    "\n",
    "seq_raw = \"\".join(seqs_raw)\n",
    "pattern = \"[A-Z]+\"\n",
    "\n",
    "seq = findall(pattern, seq_raw)\n",
    "print(\"\".join(seq))"
   ]
  },
  {
   "cell_type": "markdown",
   "metadata": {},
   "source": [
    "### 3 - 2 - 2 Exercices"
   ]
  },
  {
   "cell_type": "markdown",
   "metadata": {},
   "source": [
    "Extraction de données."
   ]
  },
  {
   "cell_type": "code",
   "execution_count": 278,
   "metadata": {
    "collapsed": false
   },
   "outputs": [
    {
     "name": "stdout",
     "output_type": "stream",
     "text": [
      "25 \n",
      " NumPy Tutorial: Data analysis with Python\n"
     ]
    }
   ],
   "source": [
    "from requests import get\n",
    "from lxml import html\n",
    "\n",
    "query = get(\"http://planetpython.org/\")         # De \"from requests\" à \"xpath\", ce sera toujours le même code\n",
    "query_html = html.fromstring(query.content)\n",
    "\n",
    "titles = query_html.xpath(\"(//h4/a)/text()\")    # Le texte de tous les titres sur planetpython.com\n",
    "                                                # Ca ressemble à ça: <h4><a ...>Texte</a></h4>\n",
    "print(len(titles), \"\\n\", titles[-4])"
   ]
  }
 ],
 "metadata": {
  "anaconda-cloud": {},
  "kernelspec": {
   "display_name": "Python [Root]",
   "language": "python",
   "name": "Python [Root]"
  },
  "language_info": {
   "codemirror_mode": {
    "name": "ipython",
    "version": 3
   },
   "file_extension": ".py",
   "mimetype": "text/x-python",
   "name": "python",
   "nbconvert_exporter": "python",
   "pygments_lexer": "ipython3",
   "version": "3.5.2"
  },
  "nbpresent": {
   "slides": {},
   "themes": {
    "default": "823e37fd-932b-40e2-a324-ee40b5cc08a2",
    "theme": {}
   }
  }
 },
 "nbformat": 4,
 "nbformat_minor": 0
}
