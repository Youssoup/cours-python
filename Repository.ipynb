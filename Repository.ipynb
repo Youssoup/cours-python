{
 "cells": [
  {
   "cell_type": "markdown",
   "metadata": {},
   "source": [
    "# Repository"
   ]
  },
  {
   "cell_type": "markdown",
   "metadata": {},
   "source": [
    "---"
   ]
  },
  {
   "cell_type": "markdown",
   "metadata": {},
   "source": [
    "\n",
    "## Utilisation du repo:\n",
    "\n",
    "\n",
    "[1] - **Décidez quelle approche vous convient**. Pour vous aider à choisir, je ferai les estimations suivantes, si votre objectif est de devenir très bon sur les sections <5, ou être très confiant sur les sections 5+:\n",
    "\n",
    "- Vous apprendrez vite avec les sites hands on, mais ça demande de coder 1-2 heures par jour, 4-5 jours par semaine pendant 1 mois.\n",
    "- Avec l'approche cadre strict, vous pouvez coder quelques heures après chaque semaine de travail pendant quelques mois pour arriver aux mêmes objectifs.\n",
    "\n",
    "\n",
    "[2] - **Dans les sections qui suivent, j'ai mis les meilleures ressources que je connaisse pour apprendre les concepts qui pourraient vous intéresser (en tant que biologistes ou codeurs débutants).**\n",
    "\n",
    "- Avant de vous décider pour une ressource, lisez le descriptif et allez sur le site (l'esthétique du site sur lequel vous apprenez influe sur votre motivation). Vous pouvez aussi me faire confiance et sélectionner la première ressource de la section (c'est toujours la meilleure).\n",
    "\n",
    "- Pour les sections Data Science et Machine learning (+ Avancé et Bioinformatique, mais moins), si vous trouvez une ressource qui n'est pas sur ma liste et qui a l'air bien: je la connais très probablement, mais elle n'est pas aussi bonne que celles de ma liste.\n",
    "\n",
    "- Si je peux vous donnez un conseil (que je devrais suivre moi-même): ne passez pas trop de temps à chercher la meilleure façon d'apprendre quelque chose (programmation ou pas), les différentes ressources sur le même concept vont partager 80-90% de contenu, vous gagnerez beaucoup de temps si vous sélectionnez une ressource good enough et que vous commencez à apprendre.\n",
    "\n",
    "\n",
    "[3] - **Après X semaines de travail sur une section, quand vous commencez à être confiant, vérifiez que vous connaissez les concepts à connaître.**\n",
    "\n",
    "\n",
    "[4] - **Lisez les newsletters, c'est bon pour la motivation.**\n",
    "\n",
    "\n",
    "[5] - **Envoyez-moi un mail pour toute question.**"
   ]
  },
  {
   "cell_type": "markdown",
   "metadata": {},
   "source": [
    "## 1 - Les bases"
   ]
  },
  {
   "cell_type": "markdown",
   "metadata": {},
   "source": [
    "### Objectifs"
   ]
  },
  {
   "cell_type": "markdown",
   "metadata": {},
   "source": [
    "- Comprendre les bases de Python et de la programmation\n",
    "\n",
    "\n",
    "- Apprendre à réfléchir comme un programmeur\n",
    "\n",
    "    - Je l'ai déjà dit: il faut que vous appreniez à observer vos pensées pendant qu'elles se forment et à mesure qu'elles s'enchaînent. Vous ferez un bond en avant instantané le jour où vous arriverez à faire ça. Ecrire du code, c'est expliciter un raisonnement de façon très détaillée."
   ]
  },
  {
   "cell_type": "markdown",
   "metadata": {},
   "source": [
    "### Concepts à connaître"
   ]
  },
  {
   "cell_type": "markdown",
   "metadata": {},
   "source": [
    " - Variables\n",
    " - Data structures\n",
    " - Fonctions\n",
    " - Control flow (if/for/while)"
   ]
  },
  {
   "cell_type": "markdown",
   "metadata": {},
   "source": [
    "### Cadre strict"
   ]
  },
  {
   "cell_type": "markdown",
   "metadata": {},
   "source": [
    "- [Codeacademy](https://www.codecademy.com/learn/python)\n",
    "\n",
    "    Ce site est souvent conseillé aux débutants, l'un des plus populaires pour commencer à apprendre. Vous y trouverez des cours, des exercices à faire directement dans votre navigateur (pas besoin d'installer un IDE comme *Sublime* pour les débutants). Le site a un look très moderne, ça contribue à donner envie de revenir et de compléter les cours je pense.\n",
    "    \n",
    "    Après avoir commencé à apprendre sur *CheckIO*, j'ai essayé ce site pour voir, mais j'ai trouvé ça très lent (j'avais pas le sentiment de progresser très vite), donc je suis revenu quasi tout de suite à *CheckIO*. Si vous ne codez que quelques heures par semaine, ce rythme où chaque concept est répété plusieurs fois dans plusieurs exercices différents est peut-être préférable.\n",
    "    \n",
    "\n",
    "- [Learn to Program: The Fundamentals](https://www.coursera.org/learn/learn-to-program)\n",
    "\n",
    "    C'est un cours de 30 heures qui couvre notre cours 1, mais déborde sur la section *Avancé*. Si vous ne voulez pas continuer à faire de la programmation parce que c'est trop difficile ou que vous préférez regardez les cours et pas les lire, suivez ce cours: ça va vous donner confiance en vous et une motivation solide, et vous pourrez commencer à faire les choses plus difficiles (section *Les bases - Hands on* ou directement section *Avancé*).\n",
    "\n",
    "\n",
    "- [Python for Data Science sur Datacamp](https://www.datacamp.com/)\n",
    "\n",
    "    Souvent conseillé aussi, cours et exercices directement dans le navigateur (pas d'installation nécessaire sur votre ordi), enseigne les bases de Python avec l'objectif de vous donner aussi les bases de Data Science, ça a l'air bien fait.\n",
    "\n",
    "\n",
    "- [Learning Python the hard way](https://learnpythonthehardway.org/book/)\n",
    "\n",
    "    Très détaillé comme approche, beaucoup d'exercices expliqués. Vous allez comprendre le langage, et connaître un outil pour chaque type de problème."
   ]
  },
  {
   "cell_type": "markdown",
   "metadata": {},
   "source": [
    "### Hands on"
   ]
  },
  {
   "cell_type": "markdown",
   "metadata": {},
   "source": [
    "- [CheckIO](https://py.checkio.org/)\n",
    "\n",
    "    J'ai déjà dit beaucoup de bien sur ce site, mais pour vous éviter de chercher dans les sections Devoirs:\n",
    "    - des exercices représentatifs des problématiques auxquelles sont confrontés les codeurs\n",
    "    - des exercices qui enseignent des concepts essentiels (comme des algorithmes importants)\n",
    "    - une gradation en difficulté qui vous permet de progresser\n",
    "    - les solutions des autres codeurs (y compris des codeurs très talentueux et inventifs) pour chaque problème sont accessibles après avoir résolu le problème: vous apprendrez plus en lisant les 3-5 meilleures solutions qu'en résolvant le problème\n",
    "    - nécessaire de terminer une zone pour en commencer une autre => ça motive à faire les exercices\n",
    "    - pour la nième fois, je savais une bonne partie de ce que j'ai enseigné après un mois seulement sur ce site\n",
    "\n",
    "\n",
    "- [HackerRank](https://www.hackerrank.com/)\n",
    "\n",
    "    Un site de competitive programming (les codeurs obtiennent des points et votent pour les meilleures solutions), comme *CheckIO*, mais beaucoup plus populaire."
   ]
  },
  {
   "cell_type": "markdown",
   "metadata": {},
   "source": [
    "\n"
   ]
  },
  {
   "cell_type": "markdown",
   "metadata": {},
   "source": [
    "## 2 - Avancé"
   ]
  },
  {
   "cell_type": "markdown",
   "metadata": {},
   "source": [
    "### Objectifs"
   ]
  },
  {
   "cell_type": "markdown",
   "metadata": {},
   "source": [
    "- Apprendre à connaître le langage\n",
    "     \n",
    "     La programmation a un set de règles qui se retrouvent dans tous les langages de programmation (un codeur professionnel doit pouvoir apprendre un nouveau langage en quelques semaines). Chaque langage a aussi sa propre logique interne qui se retrouve dans tout type de programme écrit dans ce langage. Une fois que vous comprenez cette logique interne, le langage fait sens et apprendre une nouvelle library ou un nouveau domaine devient facile.\n",
    "\n",
    "\n",
    "- Apprendre à écrire du code performant: un programme ne doit pas seulement résoudre un problème, il doit le résoudre rapidement et sans faire planter son environnement.\n",
    "\n",
    "\n",
    "- Lire du code d'autrui et le comprendre entièrement\n",
    "\n",
    "\n",
    "- Suivre des newsletters sur Python"
   ]
  },
  {
   "cell_type": "markdown",
   "metadata": {},
   "source": [
    "### Concepts à connaître"
   ]
  },
  {
   "cell_type": "markdown",
   "metadata": {},
   "source": [
    "- Data structures\n",
    "    - list comprehensions\n",
    "    - dict comprehensions\n",
    "\n",
    "- Fonctions\n",
    "    - lambda\n",
    "    - zip, map\n",
    "    - Nested functions\n",
    "    - Generators (fonctions avec yield au lieu de return)\n",
    "    - Recursion\n",
    "\n",
    "- OOP\n",
    "\n",
    "- Libraries (built-ins): itertools, functools, collections, math, re, random"
   ]
  },
  {
   "cell_type": "markdown",
   "metadata": {},
   "source": [
    "### Cadre strict"
   ]
  },
  {
   "cell_type": "markdown",
   "metadata": {},
   "source": [
    "- Advanced Python\n"
   ]
  },
  {
   "cell_type": "markdown",
   "metadata": {},
   "source": [
    "### Hands on"
   ]
  },
  {
   "cell_type": "markdown",
   "metadata": {},
   "source": [
    "- [CheckIO]()\n",
    "\n",
    "    La majorité des zones sont de niveau avancé.\n",
    "\n",
    "\n",
    "- [Project Euler]()\n",
    "\n",
    "    Après 1 mois sur *CheckIO*, j'ai fait la transition vers ce site. Des problèmes de maths difficiles qui ne peuvent pas être résolus si votre programme n'est pas optimisé à 100% (utiliser des data structures adaptées, faire faire le moins de choses possible au programme, prendre chaque raccourci existant pour accélérer les calculs). C'est très compliqué, mais ça vous apprend à réfléchir, de un, et à réfléchir d'une manière qui fit votre langage, de deux.\n",
    "\n",
    "\n",
    "- [CodinGame](https://www.codingame.com/start)\n",
    "\n",
    "    Vous apprenez à coder en jouant, littéralement, mais les exercices sont compliqués et enseignent des concepts essentiels en programmation."
   ]
  },
  {
   "cell_type": "markdown",
   "metadata": {},
   "source": [
    "\n"
   ]
  },
  {
   "cell_type": "markdown",
   "metadata": {},
   "source": [
    "## 3 - Domaines spécifiques\n",
    "\n",
    "\n",
    "\n",
    "### GUI\n",
    "\n",
    "[Tkinter]()\n",
    "\n",
    "[Kivy](https://kivy.org/)\n",
    "\n",
    "\n",
    "### Sites\n",
    "\n",
    "[Django]()\n",
    "\n",
    "[Flask]()\n",
    "\n",
    "\n",
    "### Robotique + objets connectés\n",
    "\n",
    "[Raspberry Pi](https://www.raspberrypi.org/)"
   ]
  },
  {
   "cell_type": "markdown",
   "metadata": {},
   "source": [
    "\n"
   ]
  },
  {
   "cell_type": "markdown",
   "metadata": {},
   "source": [
    "## 4 - Bioinformatique"
   ]
  },
  {
   "cell_type": "markdown",
   "metadata": {},
   "source": [
    "### Objectifs"
   ]
  },
  {
   "cell_type": "markdown",
   "metadata": {},
   "source": [
    "- Développer des programmes qui répondent à des problématiques de bioinformatique (que ce soit transcrire une séquence ou faire une analyse -omique de niveau avancé)\n",
    "\n",
    "\n",
    "- Comprendre les paradigmes de programmation adaptés aux contraintes des biologistes (ie des données volumineuses, hétérogènes, souvent imparfaites, etc.)"
   ]
  },
  {
   "cell_type": "markdown",
   "metadata": {},
   "source": [
    "### Concepts à connaître"
   ]
  },
  {
   "cell_type": "markdown",
   "metadata": {},
   "source": [
    "- Algorithmes et heuristiques classiques\n",
    "\n",
    "\n",
    "- Libraries: Biopython, scikit-bio"
   ]
  },
  {
   "cell_type": "markdown",
   "metadata": {},
   "source": [
    "### Cadre strict"
   ]
  },
  {
   "cell_type": "markdown",
   "metadata": {},
   "source": [
    "- [Série de cours Bioinformatics sur Coursera](https://www.coursera.org/learn/dna-analysis)\n",
    "\n",
    "    Cours très reconnu, devient difficile très vite, mais très exhaustif.\n",
    "\n",
    "\n",
    "- [An introduction to applied bioinformatics](http://readiab.org/)\n",
    "\n",
    "    Explications et développement d'algorithmes bioinformatiques, utilise scikit-bio."
   ]
  },
  {
   "cell_type": "markdown",
   "metadata": {},
   "source": [
    "### Hands on"
   ]
  },
  {
   "cell_type": "markdown",
   "metadata": {},
   "source": [
    "- [Rosalind](http://rosalind.info/)\n",
    "\n",
    "    Très apprécié des bioinformaticiens, une sorte de CheckIO entièrement dédié à des problèmes de bioinformatique (traduction, distances génétiques, alignement, etc.). Il est probable que vous ayez à traiter chacun de ces exercices dans votre travail => chaque solution que vous développez est donc utilisable en l'état."
   ]
  },
  {
   "cell_type": "markdown",
   "metadata": {},
   "source": [
    "\n"
   ]
  },
  {
   "cell_type": "markdown",
   "metadata": {},
   "source": [
    "## 5 - Data science"
   ]
  },
  {
   "cell_type": "markdown",
   "metadata": {},
   "source": [
    "### Objectifs"
   ]
  },
  {
   "cell_type": "markdown",
   "metadata": {},
   "source": [
    "- Manipuler des données\n",
    "\n",
    "\n",
    "- Analyser des données\n",
    "\n",
    "\n",
    "- Partager les insights via des visualisations"
   ]
  },
  {
   "cell_type": "markdown",
   "metadata": {},
   "source": [
    "### Concepts à connaître"
   ]
  },
  {
   "cell_type": "markdown",
   "metadata": {},
   "source": [
    "- Statistiques\n",
    "\n",
    "\n",
    "- Probabilité\n",
    "\n",
    "\n",
    "- IPython (Jupyter notebook)\n",
    "\n",
    "\n",
    "- Concepts avancés (graph theory, dynamic programming, etc.)\n",
    "\n",
    "\n",
    "- Libraries: Numpy, Pandas, Matplotlib"
   ]
  },
  {
   "cell_type": "markdown",
   "metadata": {},
   "source": [
    "### Cadre strict"
   ]
  },
  {
   "cell_type": "markdown",
   "metadata": {},
   "source": [
    "[Python for data science sur Coursera]()"
   ]
  },
  {
   "cell_type": "markdown",
   "metadata": {},
   "source": [
    "### Hands on"
   ]
  },
  {
   "cell_type": "markdown",
   "metadata": {},
   "source": [
    "Numpy:\n",
    "\n",
    "- [Scipy lecture notes](http://www.scipy-lectures.org/])\n",
    "\n",
    "\n",
    "- [From Python to Numpy](http://www.labri.fr/perso/nrougier/from-python-to-numpy])\n",
    "\n",
    "\n",
    "- [Numpy cheat sheet](https://www.datacamp.com/community/blog/python-numpy-cheat-sheet)\n",
    "\n",
    "\n",
    "- [Numpy exercises](https://github.com/Kyubyong/numpy_exercises])\n",
    "\n",
    "\n",
    "Pandas:\n",
    "\n",
    "- [Série de tutorials Pandas](http://www.gregreda.com/2013/10/26/intro-to-pandas-data-structures/])\n",
    "\n",
    "\n",
    "- [Pandas cheat sheet](https://assets.datacamp.com/blog_assets/PandasPythonForDataScience.pdf)\n",
    "\n",
    "\n",
    "Visualisations:\n",
    "    \n",
    "- [Matplotlib](https://www.labri.fr/perso/nrougier/teaching/matplotlib/])\n",
    "\n",
    "\n",
    "- [Tidy data](http://www.jeannicholashould.com/tidy-data-in-python.html])\n"
   ]
  },
  {
   "cell_type": "markdown",
   "metadata": {},
   "source": [
    "\n"
   ]
  },
  {
   "cell_type": "markdown",
   "metadata": {},
   "source": [
    "## 6 - Machine learning"
   ]
  },
  {
   "cell_type": "markdown",
   "metadata": {},
   "source": [
    "### Objectifs"
   ]
  },
  {
   "cell_type": "markdown",
   "metadata": {},
   "source": [
    "- L'intelligence artificielle!\n",
    "\n",
    "\n",
    "- Apprendre à analyser de grands volumes de données"
   ]
  },
  {
   "cell_type": "markdown",
   "metadata": {},
   "source": [
    "### Concepts à connaître"
   ]
  },
  {
   "cell_type": "markdown",
   "metadata": {},
   "source": [
    "- Un peu de théorie\n",
    "\n",
    "\n",
    "- Différents modèles de machine learning et comment ils sont utilisés\n",
    "\n",
    "\n",
    "- Libraries: scikit-learn, Keras, Tensorflow"
   ]
  },
  {
   "cell_type": "markdown",
   "metadata": {},
   "source": [
    "### Théorie"
   ]
  },
  {
   "cell_type": "markdown",
   "metadata": {},
   "source": [
    "- [Machine learning sur Coursera](https://www.coursera.org/learn/machine-learning/home) + [les notes pour suivre](http://www.holehouse.org/mlclass/): la recommandation la plus fréquente pour apprendre le machine learning, mais c'est vraiment la théorie, avec beaucoup de maths (niveau prépa) - vous pouvez suivre le cours si vous voulez comprendre comment le machine learning fonctionne, mais je vous conseille de faire quelques mois de pratique avant\n",
    "\n",
    "\n",
    "- [Neural networks and deep learning](http://neuralnetworksanddeeplearning.com/chap1.html) + [la version commentée](http://fermatslibrary.com/list/neural-networks-and-deep-learning): encore plus compliqué, à lire si vous voulez vous spécialiser\n",
    "\n",
    "\n",
    "- [A gentle guide to machine learning](https://blog.monkeylearn.com/a-gentle-guide-to-machine-learning/): à lire absolument, juste assez de théorie pour comprendre ce que vous faites en pratique"
   ]
  },
  {
   "cell_type": "markdown",
   "metadata": {},
   "source": [
    "### Pratique"
   ]
  },
  {
   "cell_type": "markdown",
   "metadata": {},
   "source": [
    "#### Scikit-learn\n",
    "\n",
    "- [Tutorial scikit-learn par le développeur de scikit-learn](https://github.com/amueller/scipy_2015_sklearn_tutorial/)\n",
    "\n",
    "\n",
    "- [Tutorial sur le site de scikit-learn](http://scikit-learn.org/stable/tutorial/)\n",
    "\n",
    "\n",
    "- [Scikit-learn cheat sheet](https://www.datacamp.com/community/blog/scikit-learn-cheat-sheet)\n",
    "\n",
    "\n",
    "#### Keras\n",
    "\n",
    "\n",
    "- [Machine learning avec Keras](http://course.fast.ai/)\n",
    "\n",
    "\n",
    "#### TensorFlow\n",
    "\n",
    "- [TensorFlow Examples](https://github.com/aymericdamien/TensorFlow-Examples)\n",
    "\n",
    "\n",
    "- [Awesome TensorFlow](https://github.com/jtoy/awesome-tensorflow)\n",
    "\n",
    "\n",
    "#### Repositories de ressources\n",
    "\n",
    "- [Data science IPython notebooks](https://github.com/donnemartin/data-science-ipython-notebooks)\n",
    "\n",
    "\n",
    "\n",
    "#### Alternatives à mon pathway pour apprendre le machine learning\n",
    "\n",
    "\n",
    "- [Dive into Machine Learning](https://github.com/hangtwenty/dive-into-machine-learning): excellent pathway, faites-le\n",
    "\n",
    "\n",
    "- [Machine learning for software engineers](https://github.com/ZuzooVn/machine-learning-for-software-engineers): intéressant, mais moins bien construit que le précédent"
   ]
  },
  {
   "cell_type": "markdown",
   "metadata": {},
   "source": [
    "\n"
   ]
  },
  {
   "cell_type": "markdown",
   "metadata": {},
   "source": [
    "## 9 - Newsletters"
   ]
  },
  {
   "cell_type": "markdown",
   "metadata": {},
   "source": [
    "Vous pouvez aller sur tous ces sites 1 fois par semaine, vous trouverez des choses intéressantes à chaque fois, pas toujours liées à la programmation et au machine learning, ça vous permet d'apprendre en lisant et de vous motiver.\n",
    "\n",
    "\n",
    "- [Datatau](http://www.datatau.com/): data science + machine learning principalement\n",
    "\n",
    "\n",
    "- [Deep learning weekly](http://digest.deeplearningweekly.com/): data science + machine learning principalement\n",
    "\n",
    "\n",
    "- [HackerNewsletter](http://us1.campaign-archive1.com/home/?u=faa8eb4ef3a111cef92c4f3d4&id=e505c88a2e): data science + machine learning principalement\n",
    "\n",
    "\n",
    "- [Data Elixir](http://dataelixir.com/): data science + machine learning principalement\n",
    "\n",
    "\n",
    "- [Planet Python](http://planetpython.org/): des choses intéressantes codées en Python, rarement data science + machine learning"
   ]
  },
  {
   "cell_type": "markdown",
   "metadata": {},
   "source": [
    "\n"
   ]
  },
  {
   "cell_type": "markdown",
   "metadata": {},
   "source": [
    "# 10 - R"
   ]
  },
  {
   "cell_type": "markdown",
   "metadata": {},
   "source": [
    "- [R-intro](https://cran.r-project.org/doc/manuals/R-intro.pdf)\n",
    "\n",
    "\n",
    "- [R for Data Science sur Datacamp](https://www.datacamp.com/)\n",
    "\n",
    "\n",
    "- [R by example](http://www.mayin.org/ajayshah/KB/R/)"
   ]
  },
  {
   "cell_type": "markdown",
   "metadata": {
    "collapsed": true
   },
   "source": [
    "\n"
   ]
  }
 ],
 "metadata": {
  "anaconda-cloud": {},
  "kernelspec": {
   "display_name": "Python [Root]",
   "language": "python",
   "name": "Python [Root]"
  },
  "language_info": {
   "codemirror_mode": {
    "name": "ipython",
    "version": 3
   },
   "file_extension": ".py",
   "mimetype": "text/x-python",
   "name": "python",
   "nbconvert_exporter": "python",
   "pygments_lexer": "ipython3",
   "version": "3.5.2"
  },
  "nbpresent": {
   "slides": {},
   "themes": {
    "default": "823e37fd-932b-40e2-a324-ee40b5cc08a2",
    "theme": {}
   }
  }
 },
 "nbformat": 4,
 "nbformat_minor": 0
}
