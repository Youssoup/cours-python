{
 "cells": [
  {
   "cell_type": "code",
   "execution_count": 25,
   "metadata": {
    "collapsed": true
   },
   "outputs": [],
   "source": [
    "# Python + Machine Learning"
   ]
  },
  {
   "cell_type": "markdown",
   "metadata": {},
   "source": [
    "\n",
    "\n"
   ]
  },
  {
   "cell_type": "markdown",
   "metadata": {},
   "source": [
    "# Cours 2: Les bibliothèques dédiées à la biologie"
   ]
  },
  {
   "cell_type": "markdown",
   "metadata": {},
   "source": [
    "---"
   ]
  },
  {
   "cell_type": "markdown",
   "metadata": {},
   "source": [
    "## 2 - 0 Rappels"
   ]
  },
  {
   "cell_type": "code",
   "execution_count": 12,
   "metadata": {
    "collapsed": false
   },
   "outputs": [
    {
     "name": "stdout",
     "output_type": "stream",
     "text": [
      "[3, 6, 15] 3\n"
     ]
    }
   ],
   "source": [
    "# Fonction à laquelle on passe list de nombres et qui retourne list des nombres divisibles par 3\n",
    "\n",
    "def div_par_3(arg):\n",
    "    reponse = []\n",
    "    for number in arg:\n",
    "        if (number / 3).is_integer():          # Equivalent à condition commentée\n",
    "        #if number % 3 == 0:\n",
    "            reponse.append(number)\n",
    "    return reponse\n",
    "\n",
    "x = div_par_3([1, 2, 3, 4, 5, 6, 15])\n",
    "print(x, len(x))\n"
   ]
  },
  {
   "cell_type": "code",
   "execution_count": 129,
   "metadata": {
    "collapsed": false
   },
   "outputs": [
    {
     "name": "stdout",
     "output_type": "stream",
     "text": [
      "{0, 1, 2}\n",
      "[0, 2, 2]\n"
     ]
    }
   ],
   "source": [
    "# Fonction qui itère sur set de nombres: si len(list) < 5, si nombre div par 2, on met dans list, else on met nombre * 2\n",
    "\n",
    "def func(arg): # arg => set de nombres\n",
    "    reponse = []\n",
    "    for number in arg:\n",
    "        if len(reponse) < 5:\n",
    "            if number % 2 == 0:\n",
    "                reponse.append(number)\n",
    "            else:\n",
    "                reponse.append(number * 2)\n",
    "    return reponse\n",
    "\n",
    "print(func({1, 2, 3, 4, 5, 6, 7, 8, 9, 10}))"
   ]
  },
  {
   "cell_type": "markdown",
   "metadata": {},
   "source": [
    "Attention à toujours demander un retour à la fonction.\n",
    "Le print sert à ce que le programmeur puisse connaître la valeur d'une variable/objet/etc., le retour lie une valeur à la fonction, ce qui la rend exploitable par l'ordinateur."
   ]
  },
  {
   "cell_type": "markdown",
   "metadata": {},
   "source": [
    "## 2 - 1 Intéraction avec l'ordinateur"
   ]
  },
  {
   "cell_type": "markdown",
   "metadata": {},
   "source": [
    "Souvent, il est nécessaire dans un programme de lire ou de créer des fichiers sur l'ordinateur."
   ]
  },
  {
   "cell_type": "code",
   "execution_count": 13,
   "metadata": {
    "collapsed": false
   },
   "outputs": [
    {
     "name": "stdout",
     "output_type": "stream",
     "text": [
      "C:\\Users\\Youssoup Pachaev\\Documents\\Machine learning\n"
     ]
    }
   ],
   "source": [
    "from os import getcwd, chdir\n",
    "\n",
    "chdir(r\"C:\\Users\\Youssoup Pachaev\\Documents\\Machine learning\") # Si on veut se replacer dans un directory différent\n",
    "print(getcwd()) # get current working directory"
   ]
  },
  {
   "cell_type": "code",
   "execution_count": 15,
   "metadata": {
    "collapsed": false
   },
   "outputs": [
    {
     "name": "stdout",
     "output_type": "stream",
     "text": [
      "Salut\n",
      "Salut\n",
      "\n"
     ]
    }
   ],
   "source": [
    "file = open(\"fichier à créer.txt\", \"w\")     # Pour écrire\n",
    "file.write(\"Salut\\n\")\n",
    "file.write(\"Salut\\n\")\n",
    "file.close()\n",
    "\n",
    "\n",
    "file = open(\"fichier à créer.txt\", \"r\")\n",
    "print(file.read())                          # Pour lire tout d'un coup\n",
    "for line in file.readlines():               # Pour lire ligne par ligne\n",
    "    print(line)\n",
    "file.close()\n",
    "\n",
    "\n"
   ]
  },
  {
   "cell_type": "code",
   "execution_count": 20,
   "metadata": {
    "collapsed": false
   },
   "outputs": [
    {
     "name": "stdout",
     "output_type": "stream",
     "text": [
      ">Sequence 1 comp\n",
      "ACCAGGAGACACAAAGGTGTCTATCTGCCGCAGATCGGTCTCAATGATCATCCCGATAGACTGCCCTTTATAGCTGAACGGAATTAATAGCCCAGGGGCACCGATTTCTCTCATCGTATACCCCCTCCTTTGGATATACGTCACTCACGAAGCTGAAAGGTAGGTTGGTAAGTCACCAGGTACATGTATGTCTCGAGCTCGGCATTTATTACTACGATACTGCCAGGCAAGAGGTTTGTAGTTCGAGTCCTCATAGCGAAAAGTGTTCACTCTTATCGTTACTTTGCTTTAGGTGAGCCACATAATTTATGTTTGCGGAACTTCCTGTAGGCCGGTCTCGATAAGGGTGCCCCCTGGGAGGAGCAGTAAATTATGACGGTTTTCCTTAGAATTATTGTTTTTTTCGTGGCCACCTGAAGTGGATAAATTTTAAAGCTCTGTTAAGATTGGTTACGCTCGGCCAGGACGAGTAGCCTTCGCATGAACGCGATGGTTACGCGTAACAGTCCTACTGCGTGCGAGCAGGAAAGTCTGCCCACCACCCGTGGTAACATTATTATACCACATGGGCATGCGTACTGTCTTGGGAGGCGAGTTGCCTATCACCGACAGATAAGTTAGTGCTTCCTAAGCACGAATTAGTAGGCCAAGATCTCCCTGGATATAAAGGCCTAGGGTTACAGACTGCACTGCGCTGGACAAAGAATTGCACATAATAAGATAAATATACACACATTATAGAGATTATTTATTCTGTGCCTCCTCGCCTTCTCGAGGCCGCCAAAGAGGCGGGCATGACGGTGCGCACTTTTGTCGGCGCGCGCGATGGTTCTCTGTCTGTTAGGCGACTACCTTGACGTAGGTTTGTCCGTGCATGAGACAAGCACTTAACTTCGGTACCTTCGCTCCCACGCGTCAACCCTCGTTGCACGACCGGCGACTCTCTGACATTAGGTAGAAGCGTGCCTGGAACCTGCAGCGTTCACAATGATCTACTATT\n"
     ]
    }
   ],
   "source": [
    "file = open(\"seq_fasta.txt\", \"r\")            # Fichier avec une seq en format fasta\n",
    "target = open(\"seq_fasta_comp.txt\", \"w\")     # Fichier qu'on va créer\n",
    "\n",
    "nt_comp = {\"A\": \"T\", \"C\": \"G\", \"G\": \"C\", \"T\": \"A\"}\n",
    "\n",
    "for line in file.readlines():\n",
    "    if line.startswith(\">\"):\n",
    "        # target.write(\">Sequence 1 comp\\n\")        # \\n = saut à la ligne (\\t = tab, etc.)\n",
    "        target.write(\"\"\">Sequence 1 comp\n",
    "\"\"\")\n",
    "    else:\n",
    "        s = \"\"\n",
    "        for nt in line:\n",
    "            s = s + nt_comp[nt]\n",
    "        target.write(s)\n",
    "        \n",
    "file.close()\n",
    "target.close()\n",
    "\n",
    "target = open(\"seq_fasta_comp.txt\", \"r\")\n",
    "print(target.read())\n",
    "target.close()"
   ]
  },
  {
   "cell_type": "code",
   "execution_count": 22,
   "metadata": {
    "collapsed": false
   },
   "outputs": [
    {
     "name": "stdout",
     "output_type": "stream",
     "text": [
      "aoeeue\n"
     ]
    }
   ],
   "source": [
    "file = open(\"voyelles.txt\", \"r\")           # \"La grosse peluche\"\n",
    "target = open(\"consonnes.txt\", \"w\")\n",
    "\n",
    "s = \"\"\n",
    "\n",
    "for line in file.readlines():\n",
    "    for letter in line:\n",
    "        if letter in [\"a\", \"e\", \"u\", \"i\", \"o\", \"y\"]:\n",
    "            target.write(letter)\n",
    "\n",
    "file.close()\n",
    "target.close()\n",
    "\n",
    "target = open(\"consonnes.txt\", \"r\")\n",
    "print(target.read())\n",
    "target.close()"
   ]
  },
  {
   "cell_type": "markdown",
   "metadata": {},
   "source": [
    "## 2 - 2 BioPython et scikit-bio"
   ]
  },
  {
   "cell_type": "markdown",
   "metadata": {},
   "source": [
    "[BioPython](http://biopython.org/DIST/docs/tutorial/Tutorial.html#htoc1) est la référence en bio-informatique.\n",
    "\n",
    "[Scikit-bio](http://scikit-bio.org/docs/latest/index.html) est un bibliothèque plus récente, mais très performante."
   ]
  },
  {
   "cell_type": "markdown",
   "metadata": {},
   "source": [
    "\n"
   ]
  },
  {
   "cell_type": "markdown",
   "metadata": {},
   "source": [
    "## 2 - 3 Exercices"
   ]
  },
  {
   "cell_type": "markdown",
   "metadata": {},
   "source": [
    "Lire des formats classiques (FASTA, Genbank)."
   ]
  },
  {
   "cell_type": "code",
   "execution_count": 30,
   "metadata": {
    "collapsed": false,
    "scrolled": true
   },
   "outputs": [
    {
     "name": "stdout",
     "output_type": "stream",
     "text": [
      "Sequence\n",
      "TGGTCCTCTGTGTTTCCACAGATAGACGGCGTCTAGCCAGAGTTACTAGTAGGGCTATCTGACGGGAAATATCGACTTGCCTTAATTATCGGGTCCCCGT\n",
      "TTATCATCTAGTAACACTTGCGACGTCCAAGGTCCGTGCGAAGATGGATTACAGTCTCTCAGCGGCCAGCACGTTGCTCCCAACTGCGCACCCTCGCTTC\n",
      "WSSVFPQIDGV*PELLVGLSDGKYRLALIIGSPWLKRVAYGGGNLYAVSASTFHPTIQWSMYIQSSSRK**CYDGPFSKHQAQEYRFSQVRIAMKRNPLG\n",
      "1000\n"
     ]
    },
    {
     "name": "stderr",
     "output_type": "stream",
     "text": [
      "C:\\Users\\Youssoup Pachaev\\Anaconda3\\lib\\site-packages\\Bio\\Seq.py:2071: BiopythonWarning: Partial codon, len(sequence) not a multiple of three. Explicitly trim the sequence or add trailing N before translation. This may become an error in future.\n",
      "  BiopythonWarning)\n"
     ]
    }
   ],
   "source": [
    "from Bio import SeqIO\n",
    "\n",
    "for entry in SeqIO.parse(\"seq_fasta.txt\", \"fasta\"):\n",
    "    print(entry.id)\n",
    "    print(entry.seq[:100])                          # Pour avoir que les 100 premiers caractères\n",
    "    print(entry.reverse_complement().seq[:100])\n",
    "    print(entry.seq.translate()[:100])              # * = Stop\n",
    "    print(len(entry.seq))                           # Truc rose = attention parce que 1000 n'est pas div par 3"
   ]
  },
  {
   "cell_type": "code",
   "execution_count": 32,
   "metadata": {
    "collapsed": false
   },
   "outputs": [
    {
     "name": "stdout",
     "output_type": "stream",
     "text": [
      "ID U49845.1 \n",
      "\n",
      "Features [SeqFeature(FeatureLocation(ExactPosition(0), ExactPosition(5028), strand=1), type='source'), SeqFeature(FeatureLocation(BeforePosition(0), ExactPosition(206), strand=1), type='CDS'), SeqFeature(FeatureLocation(ExactPosition(686), ExactPosition(3158), strand=1), type='gene'), SeqFeature(FeatureLocation(ExactPosition(686), ExactPosition(3158), strand=1), type='CDS'), SeqFeature(FeatureLocation(ExactPosition(3299), ExactPosition(4037), strand=-1), type='gene'), SeqFeature(FeatureLocation(ExactPosition(3299), ExactPosition(4037), strand=-1), type='CDS')] \n",
      "\n",
      "Source Saccharomyces cerevisiae (baker's yeast) \n",
      "\n"
     ]
    },
    {
     "name": "stderr",
     "output_type": "stream",
     "text": [
      "C:\\Users\\Youssoup Pachaev\\Anaconda3\\lib\\site-packages\\Bio\\GenBank\\Scanner.py:1006: BiopythonParserWarning: Premature end of file in sequence data\n",
      "  BiopythonParserWarning)\n"
     ]
    }
   ],
   "source": [
    "from Bio import SeqIO\n",
    "\n",
    "seq_gb = SeqIO.read(\"seq_genbank.gb\", \"genbank\")\n",
    "print(\"ID\", seq_gb.id, \"\\n\")                            # \"ID\" et \"\\n\" pour que ce soit plus lisible\n",
    "print(\"Features\", seq_gb.features, \"\\n\")\n",
    "print(\"Source\", seq_gb.annotations[\"source\"], \"\\n\")"
   ]
  },
  {
   "cell_type": "markdown",
   "metadata": {},
   "source": [
    "GC content."
   ]
  },
  {
   "cell_type": "code",
   "execution_count": 157,
   "metadata": {
    "collapsed": false
   },
   "outputs": [
    {
     "name": "stdout",
     "output_type": "stream",
     "text": [
      "61.53846153846154\n"
     ]
    }
   ],
   "source": [
    "from Bio.Seq import Seq\n",
    "from Bio.SeqUtils import GC\n",
    "\n",
    "sequence = Seq(\"GCTCGACGGGGAGGACGAGGAGGGAGGCTGGAAUGAAAA\")\n",
    "print(GC(sequence))"
   ]
  },
  {
   "cell_type": "markdown",
   "metadata": {},
   "source": [
    "Molecular weight."
   ]
  },
  {
   "cell_type": "code",
   "execution_count": 76,
   "metadata": {
    "collapsed": false
   },
   "outputs": [
    {
     "name": "stdout",
     "output_type": "stream",
     "text": [
      "12389.893999999997\n"
     ]
    }
   ],
   "source": [
    "from Bio.Seq import Seq\n",
    "from Bio.SeqUtils import molecular_weight\n",
    "from Bio.SeqUtils import \n",
    "\n",
    "sequence = Seq(\"GCTCGACGGGGAGGACGAGGAGGGAGGCTGGAATGAAAA\")\n",
    "print(molecular_weight(sequence, \"DNA\"))"
   ]
  },
  {
   "cell_type": "markdown",
   "metadata": {},
   "source": [
    "Melting temperature."
   ]
  },
  {
   "cell_type": "code",
   "execution_count": 9,
   "metadata": {
    "collapsed": false
   },
   "outputs": [
    {
     "name": "stdout",
     "output_type": "stream",
     "text": [
      "69.50104611156901\n"
     ]
    }
   ],
   "source": [
    "from Bio.Seq import Seq\n",
    "from Bio.SeqUtils import MeltingTemp\n",
    "\n",
    "sequence = Seq(\"GCTCGACGGGGAGGACGAGGAGGGAGGCTGGAATGAAAA\")\n",
    "print(MeltingTemp.Tm_GC(sequence))"
   ]
  },
  {
   "cell_type": "markdown",
   "metadata": {},
   "source": [
    "Des choses liées au code génétique."
   ]
  },
  {
   "cell_type": "code",
   "execution_count": 1,
   "metadata": {
    "collapsed": false
   },
   "outputs": [
    {
     "name": "stdout",
     "output_type": "stream",
     "text": [
      "{'STOP': ['TAG', 'TGA', 'TAA'], 'SER': ['TCT', 'TCG', 'TCA', 'TCC', 'AGC', 'AGT'], 'PHE': ['TTT', 'TTC'], 'ALA': ['GCA', 'GCC', 'GCG', 'GCT'], 'TRP': ['TGG'], 'LYS': ['AAG', 'AAA'], 'TYR': ['TAT', 'TAC'], 'GLN': ['CAA', 'CAG'], 'PRO': ['CCT', 'CCG', 'CCA', 'CCC'], 'ARG': ['CGA', 'CGC', 'CGG', 'CGT', 'AGG', 'AGA'], 'ILE': ['ATC', 'ATA', 'ATT'], 'GLU': ['GAG', 'GAA'], 'GLY': ['GGT', 'GGG', 'GGA', 'GGC'], 'LEU': ['TTA', 'TTG', 'CTC', 'CTT', 'CTG', 'CTA'], 'THR': ['ACC', 'ACA', 'ACG', 'ACT'], 'ASP': ['GAT', 'GAC'], 'HIS': ['CAT', 'CAC'], 'VAL': ['GTA', 'GTC', 'GTG', 'GTT'], 'ASN': ['AAC', 'AAT'], 'CYS': ['TGT', 'TGC'], 'MET': ['ATG']}\n"
     ]
    }
   ],
   "source": [
    "from Bio.SeqUtils import CodonUsage\n",
    "\n",
    "print(CodonUsage.SynonymousCodons)"
   ]
  },
  {
   "cell_type": "markdown",
   "metadata": {},
   "source": [
    "Autres trucs cools dans SeqUtils: isoelectric point, 6 frame translations, aromaticity, flexibility, etc."
   ]
  },
  {
   "cell_type": "markdown",
   "metadata": {},
   "source": [
    "DNA to mRNA to protein."
   ]
  },
  {
   "cell_type": "code",
   "execution_count": 5,
   "metadata": {
    "collapsed": false
   },
   "outputs": [
    {
     "name": "stdout",
     "output_type": "stream",
     "text": [
      "GCUCGACGGGGAGGACGAGGAGGGAGGCUGGAAUGAAAA\n",
      "ARRGGRGGRLE*K\n"
     ]
    }
   ],
   "source": [
    "from Bio.Seq import Seq\n",
    "\n",
    "sequence = Seq(\"GCTCGACGGGGAGGACGAGGAGGGAGGCTGGAAUGAAAA\")\n",
    "\n",
    "mrna = sequence.transcribe()\n",
    "print(mrna)\n",
    "\n",
    "protein = mrna.translate()\n",
    "print(protein)"
   ]
  },
  {
   "cell_type": "markdown",
   "metadata": {},
   "source": [
    "On va faire du sequence alignment et de l'extraction de données de bases de données biologiques."
   ]
  },
  {
   "cell_type": "code",
   "execution_count": null,
   "metadata": {
    "collapsed": false,
    "scrolled": true
   },
   "outputs": [],
   "source": [
    "from Bio import SeqIO\n",
    "from Bio.Blast import NCBIWWW, NCBIXML\n",
    "\n",
    "seq = SeqIO.read(\"seq_blast.txt\", \"fasta\")\n",
    "print(seq)\n",
    "\n",
    "res = NCBIWWW.qblast(program = \"blastn\", database = \"nt\", sequence = seq)        # NCBIWWW = blast sur internet\n",
    "entry = NCBIXML.read(res)\n",
    "for alignment in entry.alignments:\n",
    "    for hsp in alignment.hsps:\n",
    "        if hsp.expect < 0.04:\n",
    "            print(\"****Alignment****\")\n",
    "            print(\"sequence:\", alignment.title)\n",
    "            print(\"length:\", alignment.length)\n",
    "            print(\"e value:\", hsp.expect)\n",
    "            print(hsp.query[0:75] + '...')\n",
    "            print(hsp.match[0:75] + '...')\n",
    "            print(hsp.sbjct[0:75] + '...')"
   ]
  },
  {
   "cell_type": "markdown",
   "metadata": {},
   "source": [
    "On va chercher [FBP chez S. cerevisiae](https://www.ncbi.nlm.nih.gov/nuccore/?term=FBP+AND+Saccaromyces+cerevisiae+[organism]) sur GQuery."
   ]
  },
  {
   "cell_type": "code",
   "execution_count": 25,
   "metadata": {
    "collapsed": false
   },
   "outputs": [
    {
     "name": "stdout",
     "output_type": "stream",
     "text": [
      "RetMax\n",
      "Count\n",
      "IdList\n",
      "RetStart\n",
      "QueryTranslation\n",
      "TranslationStack\n",
      "TranslationSet\n",
      "Nb d'items = 9\n",
      "idlist = ['329138929', '1048209555', '1048209255', '1034554118', '1021221253', '330443667', '296146415', '767176677', '171507']\n"
     ]
    }
   ],
   "source": [
    "from Bio import Entrez\n",
    "\n",
    "Entrez.email = \"other@exampleexample.com\"       # pour vous contacter si vous surchargez le serveur, obligatoire\n",
    "\n",
    "res = Entrez.read(Entrez.esearch(db = \"Nucleotide\", term = \"FBP AND Saccaromyces cerevisiae [organism]\"))\n",
    "\n",
    "for i in res:        # clés dans le dict res\n",
    "    print(i)\n",
    "\n",
    "print(\"Nb d'items =\", res[\"Count\"])\n",
    "print(\"idlist =\", res[\"IdList\"])                 # ça me file la liste de tous les id de notre requête"
   ]
  },
  {
   "cell_type": "markdown",
   "metadata": {},
   "source": [
    "On va chercher le premier résultat de notre recherche du FBP chez S. cerevisiae précédente ([ici](https://www.ncbi.nlm.nih.gov/nuccore/BK006944.2)). Je vous laisse découvrir pourquoi le premier résultat par NCBIWWW =/= celui par internet directement (regarder l'option Sort by sur la page)."
   ]
  },
  {
   "cell_type": "code",
   "execution_count": 24,
   "metadata": {
    "collapsed": false,
    "scrolled": true
   },
   "outputs": [
    {
     "name": "stdout",
     "output_type": "stream",
     "text": [
      "329138929\n",
      "Description = TPA_inf: Saccharomyces cerevisiae S288c chromosome XI, complete sequence.\n",
      "Db cross-references = ['BioProject:PRJNA43747']\n",
      "666816\n"
     ]
    }
   ],
   "source": [
    "from Bio import Entrez\n",
    "from Bio import SeqIO\n",
    "\n",
    "Entrez.email = \"other@exampleexample.com\"\n",
    "\n",
    "xml_output = Entrez.esearch(db = \"Nucleotide\", term = \"FBP AND Saccaromyces cerevisiae [organism]\")\n",
    "entry_id = Entrez.read(xml_output)[\"IdList\"][0]\n",
    "print(entry_id)                                                         # jusqu'ici, ça correspond à ce qu'on a fait en haut\n",
    "\n",
    "# Maintenant qu'on a l'id, on peut choper les infos sur GQuery\n",
    "entry_gb = Entrez.efetch(db = \"Nucleotide\", id = entry_id, rettype = \"gb\", retmode = \"text\")\n",
    "\n",
    "entry = SeqIO.read(entry_gb, \"genbank\")\n",
    "\n",
    "print(\"Description =\", entry.description)\n",
    "print(\"Db cross-references =\", entry.dbxrefs)\n",
    "print(len(entry.seq))"
   ]
  }
 ],
 "metadata": {
  "anaconda-cloud": {},
  "kernelspec": {
   "display_name": "Python [Root]",
   "language": "python",
   "name": "Python [Root]"
  },
  "language_info": {
   "codemirror_mode": {
    "name": "ipython",
    "version": 3
   },
   "file_extension": ".py",
   "mimetype": "text/x-python",
   "name": "python",
   "nbconvert_exporter": "python",
   "pygments_lexer": "ipython3",
   "version": "3.5.2"
  },
  "nbpresent": {
   "slides": {},
   "themes": {
    "default": "823e37fd-932b-40e2-a324-ee40b5cc08a2",
    "theme": {}
   }
  }
 },
 "nbformat": 4,
 "nbformat_minor": 0
}
