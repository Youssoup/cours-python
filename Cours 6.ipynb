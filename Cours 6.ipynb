{
 "cells": [
  {
   "cell_type": "markdown",
   "metadata": {},
   "source": [
    "# Cours 6: Machine learning"
   ]
  },
  {
   "cell_type": "markdown",
   "metadata": {},
   "source": [
    "---"
   ]
  },
  {
   "cell_type": "markdown",
   "metadata": {},
   "source": [
    "## 5 - 1 Théorie"
   ]
  },
  {
   "cell_type": "markdown",
   "metadata": {},
   "source": [
    "*Cette section est directement issue de mes propres notes. Je traduirai quand je peux, mais quasiment toutes les ressources sur le machine learning sont en anglais, prenez l'habitude.*\n",
    "\n",
    "**Machine learning**: subfield of computer science that gives computers the ability to learn without being explicitly programmed\n",
    "- A computer program is said to learn from experience E with respect to some class of tasks T and performance measure P if its performance at tasks in T, as measured by P, improves with experience E.\n",
    "\n",
    "### Two categories of ML\n",
    "\n",
    "**Supervised**: labeled data => determine desired outcome from specific input\n",
    "\n",
    "- Regression: output is a continuous number => response is continuous\n",
    "    - Xylose metabolism expression levels in function of availability of xylose in the environment\n",
    "- Classification: output belongs to discrete, finite set => response is categorical\n",
    "    - Image recognition\n",
    "- Outline\n",
    "    - Clean data and put it into machine-readable form\n",
    "    - Develop machine learning model\n",
    "    - Train model on training data\n",
    "        - Model learns to map attributes of data on outcomes\n",
    "    - Test model on separate set of data\n",
    "    - Make predictions on new data\n",
    "\n",
    "\n",
    "**Unsupervised**: unlabeled data => determine structure and relations between the training examples\n",
    "- Clustering algorithms\n",
    "    - Finding similar instances or groups of instances\n",
    "- Non-clustering algorithms\n",
    "\n",
    "\n",
    "### Machine learning algorithms\n",
    "\n",
    "- Different types\n",
    "    - Use different techniques to do the learning\n",
    "    - Each algorithm is better suited to a specific type of task\n",
    "- Machine learning algorithms try to make generalizations based on data\n",
    "    - If an algorithm is highly specific to one type of data, it cannot be called machine learning\n",
    "    - A good model can generalize what it learns from training data to new, untrained data\n",
    "    - A common problem in machine learning is overfitting\n",
    "        - Overfitting: model is excessively tuned to training data, has low prediction performance on new, untrained data\n",
    "- Examples\n",
    "    - Naive Bayes\n",
    "        - Supervised learning algorithm\n",
    "        - Probabilistic model\n",
    "            - => predict response by modeling problem with a probability distribution\n",
    "        - Based on applying Bayes' theorem with strong independence assumptions between the features\n",
    "            - => features are considered independent\n",
    "            - Output => prediction + degree of certainty\n",
    "    - Support vector machine/SVM\n",
    "        - Supervised learning algorithm\n",
    "        - Builds set of hyperplanes that separate instances of different classes\n",
    "            - Hyperplane = maximal distance between the closest data points in 2 classes\n",
    "                - => largest separation between nearest instances from different classes\n",
    "    - K-means\n",
    "        - Unsupervised learning algorithm\n",
    "        - Partitions data into k different clusters based on data features\n",
    "            - Clusters gather data points so that each data point in cluster has minimum distance to mean of cluster\n",
    "            - k => fixed by user"
   ]
  },
  {
   "cell_type": "markdown",
   "metadata": {},
   "source": [
    "## 5 - 2 Scikit-learn"
   ]
  },
  {
   "cell_type": "markdown",
   "metadata": {},
   "source": [
    "### 5 - 2 - 1 Classification"
   ]
  },
  {
   "cell_type": "markdown",
   "metadata": {},
   "source": [
    "Nous allons prendre un dataset très connu par les statisticiens, l'Iris dataset."
   ]
  },
  {
   "cell_type": "code",
   "execution_count": 1,
   "metadata": {
    "collapsed": false
   },
   "outputs": [
    {
     "name": "stdout",
     "output_type": "stream",
     "text": [
      "dict_keys(['data', 'target_names', 'target', 'feature_names', 'DESCR'])\n",
      "\n",
      "\n",
      "['sepal length (cm)', 'sepal width (cm)', 'petal length (cm)', 'petal width (cm)']\n",
      "\n",
      "\n",
      "['setosa' 'versicolor' 'virginica']\n",
      "\n",
      "\n",
      "Iris Plants Database\n",
      "\n",
      "Notes\n",
      "-----\n",
      "Data Set Characteristics:\n",
      "    :Number of Instances: 150 (50 in each of three classes)\n",
      "    :Number of Attributes: 4 numeric, predictive attributes and the class\n",
      "    :Attribute Information:\n",
      "        - sepal length in cm\n",
      "        - sepal width in cm\n",
      "        - petal length in cm\n",
      "        - petal width in cm\n",
      "        - class:\n",
      "                - Iris-Setosa\n",
      "                - Iris-Versicolour\n",
      "                - Iris-Virginica\n",
      "    :Summary Statistics:\n",
      "\n",
      "    ============== ==== ==== ======= ===== ====================\n",
      "                    Min  Max   Mean    SD   Class Correlation\n",
      "    ============== ==== ==== ======= ===== ====================\n",
      "    sepal length:   4.3  7.9   5.84   0.83    0.7826\n",
      "    sepal width:    2.0  4.4   3.05   0.43   -0.4194\n",
      "    petal length:   1.0  6.9   3.76   1.76    0.9490  (high!)\n",
      "    petal width:    0.1  2.5   1.20  0.76     0.9565  (high!)\n",
      "    ============== ==== ==== ======= ===== ====================\n",
      "\n",
      "    :Missing Attribute Values: None\n",
      "    :Class Distribution: 33.3% for each of 3 classes.\n",
      "    :Creator: R.A. Fisher\n",
      "    :Donor: Michael Marshall (MARSHALL%PLU@io.arc.nasa.gov)\n",
      "    :Date: July, 1988\n",
      "\n",
      "This is a copy of UCI ML iris datasets.\n",
      "http://archive.ics.uci.edu/ml/datasets/Iris\n",
      "\n",
      "The famous Iris database, first used by Sir R.A Fisher\n",
      "\n",
      "This is perhaps the best known database to be found in the\n",
      "pattern recognition literature.  Fisher's paper is a classic in the field and\n",
      "is referenced frequently to this day.  (See Duda & Hart, for example.)  The\n",
      "data set contains 3 classes of 50 instances each, where each class refers to a\n",
      "type of iris plant.  One class is linearly separable from the other 2; the\n",
      "latter are NOT linearly separable from each other.\n",
      "\n",
      "References\n",
      "----------\n",
      "   - Fisher,R.A. \"The use of multiple measurements in taxonomic problems\"\n",
      "     Annual Eugenics, 7, Part II, 179-188 (1936); also in \"Contributions to\n",
      "     Mathematical Statistics\" (John Wiley, NY, 1950).\n",
      "   - Duda,R.O., & Hart,P.E. (1973) Pattern Classification and Scene Analysis.\n",
      "     (Q327.D83) John Wiley & Sons.  ISBN 0-471-22361-1.  See page 218.\n",
      "   - Dasarathy, B.V. (1980) \"Nosing Around the Neighborhood: A New System\n",
      "     Structure and Classification Rule for Recognition in Partially Exposed\n",
      "     Environments\".  IEEE Transactions on Pattern Analysis and Machine\n",
      "     Intelligence, Vol. PAMI-2, No. 1, 67-71.\n",
      "   - Gates, G.W. (1972) \"The Reduced Nearest Neighbor Rule\".  IEEE Transactions\n",
      "     on Information Theory, May 1972, 431-433.\n",
      "   - See also: 1988 MLC Proceedings, 54-64.  Cheeseman et al\"s AUTOCLASS II\n",
      "     conceptual clustering system finds 3 classes in the data.\n",
      "   - Many, many more ...\n",
      "\n"
     ]
    }
   ],
   "source": [
    "from sklearn.ensemble import RandomForestClassifier\n",
    "from sklearn.tree import DecisionTreeClassifier\n",
    "from sklearn.cross_validation import train_test_split\n",
    "from sklearn.datasets import load_iris\n",
    "\n",
    "dataset = load_iris()\n",
    "\n",
    "print(dataset.keys())\n",
    "print(\"\\n\")\n",
    "print(dataset[\"feature_names\"])\n",
    "print(\"\\n\")\n",
    "print(dataset[\"target_names\"])\n",
    "print(\"\\n\")\n",
    "print(dataset[\"DESCR\"])"
   ]
  },
  {
   "cell_type": "code",
   "execution_count": 2,
   "metadata": {
    "collapsed": false
   },
   "outputs": [
    {
     "name": "stdout",
     "output_type": "stream",
     "text": [
      "(150, 4)\n",
      "(150,)\n"
     ]
    }
   ],
   "source": [
    "X = dataset.data\n",
    "Y = dataset.target\n",
    "\n",
    "print(X.shape)\n",
    "\n",
    "print(Y.shape)"
   ]
  },
  {
   "cell_type": "markdown",
   "metadata": {},
   "source": [
    "Nous avons 150 observations de 4 features (longueur et largeur des sépales et pétales), classifiées dans 3 catégories (setosa, versicolor, virginica).\n",
    "\n",
    "Nous allons créer notre training set (pour entraîner les modèles) et notre testing set (pour faire les prédictions)."
   ]
  },
  {
   "cell_type": "code",
   "execution_count": 3,
   "metadata": {
    "collapsed": false
   },
   "outputs": [
    {
     "name": "stdout",
     "output_type": "stream",
     "text": [
      "(112, 4) (112,) (38, 4) (38,)\n",
      "[[ 6.4  2.9  4.3  1.3]\n",
      " [ 6.4  2.8  5.6  2.1]\n",
      " [ 7.4  2.8  6.1  1.9]\n",
      " [ 4.8  3.1  1.6  0.2]\n",
      " [ 5.6  2.5  3.9  1.1]]\n",
      "[1 2 2 0 1]\n"
     ]
    }
   ],
   "source": [
    "x_train, x_test, y_train, y_test = train_test_split(X, Y, train_size=0.75)\n",
    "\n",
    "print(x_train.shape, y_train.shape, x_test.shape, y_test.shape)\n",
    "\n",
    "print(x_train[:5])\n",
    "\n",
    "print(y_train[:5])"
   ]
  },
  {
   "cell_type": "code",
   "execution_count": 4,
   "metadata": {
    "collapsed": false
   },
   "outputs": [
    {
     "data": {
      "text/plain": [
       "0.92105263157894735"
      ]
     },
     "execution_count": 4,
     "metadata": {},
     "output_type": "execute_result"
    }
   ],
   "source": [
    "model = DecisionTreeClassifier()\n",
    "\n",
    "model.fit(x_train, y_train)\n",
    "\n",
    "model.score(x_test, y_test)"
   ]
  },
  {
   "cell_type": "markdown",
   "metadata": {},
   "source": [
    "Le modèle Decision Tree a une précision de 92%."
   ]
  },
  {
   "cell_type": "code",
   "execution_count": 27,
   "metadata": {
    "collapsed": false
   },
   "outputs": [
    {
     "data": {
      "text/plain": [
       "0.94736842105263153"
      ]
     },
     "execution_count": 27,
     "metadata": {},
     "output_type": "execute_result"
    }
   ],
   "source": [
    "model = RandomForestClassifier()\n",
    "\n",
    "model.fit(x_train, y_train)\n",
    "\n",
    "model.score(x_test, y_test)"
   ]
  },
  {
   "cell_type": "markdown",
   "metadata": {},
   "source": [
    "Le modèle Random Forest (un ensemble de Decision Trees) a une précision de 95%. Ces 2 modèles sont les plus utilisés pour la classification."
   ]
  },
  {
   "cell_type": "markdown",
   "metadata": {},
   "source": [
    "### 5 - 2 - 2 Regression"
   ]
  },
  {
   "cell_type": "markdown",
   "metadata": {},
   "source": [
    "## 5 - 3 Tensorflow + Keras"
   ]
  },
  {
   "cell_type": "markdown",
   "metadata": {},
   "source": [
    "\n"
   ]
  }
 ],
 "metadata": {
  "anaconda-cloud": {},
  "kernelspec": {
   "display_name": "Python [Root]",
   "language": "python",
   "name": "Python [Root]"
  },
  "language_info": {
   "codemirror_mode": {
    "name": "ipython",
    "version": 3
   },
   "file_extension": ".py",
   "mimetype": "text/x-python",
   "name": "python",
   "nbconvert_exporter": "python",
   "pygments_lexer": "ipython3",
   "version": "3.5.2"
  },
  "nbpresent": {
   "slides": {},
   "themes": {
    "default": "823e37fd-932b-40e2-a324-ee40b5cc08a2",
    "theme": {}
   }
  }
 },
 "nbformat": 4,
 "nbformat_minor": 0
}
