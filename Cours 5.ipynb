{
 "cells": [
  {
   "cell_type": "markdown",
   "metadata": {},
   "source": [
    "# Cours 5: Analyse de données et visualisation"
   ]
  },
  {
   "cell_type": "markdown",
   "metadata": {},
   "source": [
    "---"
   ]
  },
  {
   "cell_type": "markdown",
   "metadata": {
    "collapsed": true
   },
   "source": [
    "## 4 - 0 Probabilités et analyse combinatoire"
   ]
  },
  {
   "cell_type": "markdown",
   "metadata": {},
   "source": [
    "\n"
   ]
  },
  {
   "cell_type": "markdown",
   "metadata": {},
   "source": [
    "## 4 - 1 Data science"
   ]
  },
  {
   "cell_type": "markdown",
   "metadata": {},
   "source": [
    "**Data science**: interdisciplinary field about scientific processes and systems to **extract knowledge or insights from data** in **various forms**, either structured or unstructured,which is a continuation of some of the data analysis fields such as statistics, machine learning, data mining, and predictive analytics.\n",
    "\n",
    "Les tâches les plus communes en data science:\n",
    "- manipuler les données de façon à les rendre compatibles avec les techniques d'analyse à utiliser\n",
    "    - changer de format (image => matrice de nombres)\n",
    "    - dealer avec les données manquantes\n",
    "\n",
    "\n",
    "- analyser les données\n",
    "    - appliquer des statistiques\n",
    "    - construire des modèles mathématiques\n",
    "\n",
    "\n",
    "- communiquer les insights sur les données\n",
    "    - extraire l'essentiel\n",
    "    - créer des visualisations"
   ]
  },
  {
   "cell_type": "markdown",
   "metadata": {},
   "source": [
    "## 4 - 2 Bibliothèques pour l'analyse de données"
   ]
  },
  {
   "cell_type": "markdown",
   "metadata": {},
   "source": [
    "### 4 - 2 - 1 Pandas"
   ]
  },
  {
   "cell_type": "markdown",
   "metadata": {},
   "source": [
    "**Pandas** est une library pour **la manipulation et l'analyse de données**. En data science, c'est l'une des libraries à connaître, avec les autres libraries mentionnées dans ce cours.\n",
    "\n",
    "Features:\n",
    "- Lecture et écriture dans tout type de format utilisé pour l'analyse de données (ou presque) => csv, html, sql, hdf\n",
    "    - Possible de prendre un fichier avec un format donné, faire l'analyse via Python et extraire les résultats dans le format initial\n",
    "    - Possible de convertir les données ou les résultats d'une analyse dans le format demandé par un collaborateur\n",
    "\n",
    "\n",
    "- Tout type de manipulation de données\n",
    "\n",
    "\n",
    "- Visualisations\n",
    "\n",
    "\n",
    "Nous utiliserons les données de [transcriptome](https://www.ncbi.nlm.nih.gov/geo/query/acc.cgi?acc=GSM1706746) d'échantillons issus du dataset \"Transcriptome Engineering Promotes a Fermentative Transcriptional State\" trouvé sur GEO."
   ]
  },
  {
   "cell_type": "code",
   "execution_count": 1,
   "metadata": {
    "collapsed": false,
    "scrolled": true
   },
   "outputs": [
    {
     "data": {
      "text/html": [
       "<div>\n",
       "<table border=\"1\" class=\"dataframe\">\n",
       "  <thead>\n",
       "    <tr style=\"text-align: right;\">\n",
       "      <th></th>\n",
       "      <th>tracking_id</th>\n",
       "      <th>class_code</th>\n",
       "      <th>nearest_ref_id</th>\n",
       "      <th>gene_id</th>\n",
       "      <th>gene_short_name</th>\n",
       "      <th>tss_id</th>\n",
       "      <th>locus</th>\n",
       "      <th>length</th>\n",
       "      <th>coverage</th>\n",
       "      <th>FPKM</th>\n",
       "      <th>FPKM_conf_lo</th>\n",
       "      <th>FPKM_conf_hi</th>\n",
       "      <th>FPKM_status</th>\n",
       "    </tr>\n",
       "  </thead>\n",
       "  <tbody>\n",
       "    <tr>\n",
       "      <th>0</th>\n",
       "      <td>R0010W</td>\n",
       "      <td>-</td>\n",
       "      <td>-</td>\n",
       "      <td>R0010W</td>\n",
       "      <td>-</td>\n",
       "      <td>-</td>\n",
       "      <td>2-micron:251-1523</td>\n",
       "      <td>-</td>\n",
       "      <td>-</td>\n",
       "      <td>8628000.0</td>\n",
       "      <td>8217030.0</td>\n",
       "      <td>9038980.0</td>\n",
       "      <td>OK</td>\n",
       "    </tr>\n",
       "    <tr>\n",
       "      <th>1</th>\n",
       "      <td>R0020C</td>\n",
       "      <td>-</td>\n",
       "      <td>-</td>\n",
       "      <td>R0020C</td>\n",
       "      <td>-</td>\n",
       "      <td>-</td>\n",
       "      <td>2-micron:1886-3008</td>\n",
       "      <td>-</td>\n",
       "      <td>-</td>\n",
       "      <td>7342700.0</td>\n",
       "      <td>6933830.0</td>\n",
       "      <td>7751580.0</td>\n",
       "      <td>OK</td>\n",
       "    </tr>\n",
       "    <tr>\n",
       "      <th>2</th>\n",
       "      <td>R0030W</td>\n",
       "      <td>-</td>\n",
       "      <td>-</td>\n",
       "      <td>R0030W</td>\n",
       "      <td>-</td>\n",
       "      <td>-</td>\n",
       "      <td>2-micron:3270-3816</td>\n",
       "      <td>-</td>\n",
       "      <td>-</td>\n",
       "      <td>15410700.0</td>\n",
       "      <td>14441800.0</td>\n",
       "      <td>16379600.0</td>\n",
       "      <td>OK</td>\n",
       "    </tr>\n",
       "    <tr>\n",
       "      <th>3</th>\n",
       "      <td>R0040C</td>\n",
       "      <td>-</td>\n",
       "      <td>-</td>\n",
       "      <td>R0040C</td>\n",
       "      <td>-</td>\n",
       "      <td>-</td>\n",
       "      <td>2-micron:5307-6198</td>\n",
       "      <td>-</td>\n",
       "      <td>-</td>\n",
       "      <td>2348670.0</td>\n",
       "      <td>2081450.0</td>\n",
       "      <td>2615900.0</td>\n",
       "      <td>OK</td>\n",
       "    </tr>\n",
       "    <tr>\n",
       "      <th>4</th>\n",
       "      <td>At5g</td>\n",
       "      <td>-</td>\n",
       "      <td>-</td>\n",
       "      <td>At5g</td>\n",
       "      <td>-</td>\n",
       "      <td>-</td>\n",
       "      <td>Arabidopsis_At5g_gene:0-1677</td>\n",
       "      <td>-</td>\n",
       "      <td>-</td>\n",
       "      <td>560901.0</td>\n",
       "      <td>471655.0</td>\n",
       "      <td>650147.0</td>\n",
       "      <td>OK</td>\n",
       "    </tr>\n",
       "  </tbody>\n",
       "</table>\n",
       "</div>"
      ],
      "text/plain": [
       "  tracking_id class_code nearest_ref_id gene_id gene_short_name tss_id  \\\n",
       "0      R0010W          -              -  R0010W               -      -   \n",
       "1      R0020C          -              -  R0020C               -      -   \n",
       "2      R0030W          -              -  R0030W               -      -   \n",
       "3      R0040C          -              -  R0040C               -      -   \n",
       "4        At5g          -              -    At5g               -      -   \n",
       "\n",
       "                          locus length coverage        FPKM  FPKM_conf_lo  \\\n",
       "0             2-micron:251-1523      -        -   8628000.0     8217030.0   \n",
       "1            2-micron:1886-3008      -        -   7342700.0     6933830.0   \n",
       "2            2-micron:3270-3816      -        -  15410700.0    14441800.0   \n",
       "3            2-micron:5307-6198      -        -   2348670.0     2081450.0   \n",
       "4  Arabidopsis_At5g_gene:0-1677      -        -    560901.0      471655.0   \n",
       "\n",
       "   FPKM_conf_hi FPKM_status  \n",
       "0     9038980.0          OK  \n",
       "1     7751580.0          OK  \n",
       "2    16379600.0          OK  \n",
       "3     2615900.0          OK  \n",
       "4      650147.0          OK  "
      ]
     },
     "execution_count": 1,
     "metadata": {},
     "output_type": "execute_result"
    }
   ],
   "source": [
    "import pandas\n",
    "\n",
    "data = \"GSM1706746_H2217-WT-ETH.1p3-12-1-12.16.09-239-5-1.cuff.gz\"\n",
    "\n",
    "table = pandas.read_table(data)\n",
    "\n",
    "table.head()"
   ]
  },
  {
   "cell_type": "markdown",
   "metadata": {},
   "source": [
    "Commençons par comprendre la table.\n",
    "\n",
    "Ce sont des **données de RNA-Seq** sur le profil d'expression de cellules de *S. cerevisiae* mises en culture dans un environnement contenant 1 source de carbone (éthanol).\n",
    "\n",
    "Les colonnes:\n",
    "- *tracking_id*, *gene_id*, *gene_short_name*, *locus*, *length*: self-explanatory\n",
    "\n",
    "\n",
    "- tss_id: probablement lié au transcription start site    \n",
    "\n",
    "\n",
    "- *FPKM*: unité de mesure en RNA-Seq, (= metric fragments per kilobase of transcript per million mapped reads)        \n",
    "    - *FPKM_conf_lo/hi*: intervalle de confiance        \n",
    "    - *FPKM_status*: robustesse\n",
    "\n",
    "Chaque ligne correspond à 1 gène."
   ]
  },
  {
   "cell_type": "code",
   "execution_count": 2,
   "metadata": {
    "collapsed": false
   },
   "outputs": [
    {
     "data": {
      "text/plain": [
       "pandas.core.frame.DataFrame"
      ]
     },
     "execution_count": 2,
     "metadata": {},
     "output_type": "execute_result"
    }
   ],
   "source": [
    "type(table)"
   ]
  },
  {
   "cell_type": "markdown",
   "metadata": {},
   "source": [
    "La table est une **DataFrame**.\n",
    "\n",
    "Les DataFrames sont l'une des deux data structures de Pandas. Elles servent à contenir des **données tabulatoires**. L'autre data structure, **Series**, correspond à une **unique colonne de données**.\n",
    "\n",
    "**Une DataFrame se conduit un peu comme un dict**, où les intitulés des colonnes sont les keys et les éléments de la colonne sont les items correspondant à la key.\n",
    "\n",
    "Pour avoir à peu près la même chose sans Pandas:"
   ]
  },
  {
   "cell_type": "code",
   "execution_count": 3,
   "metadata": {
    "collapsed": false
   },
   "outputs": [
    {
     "name": "stdout",
     "output_type": "stream",
     "text": [
      "dict_keys(['class_code', 'coverage', 'FPKM_status', 'length', 'tss_id', 'tracking_id', 'locus', 'FPKM_conf_lo', 'gene_short_name', 'FPKM_conf_hi', 'FPKM', 'nearest_ref_id', 'gene_id'])\n"
     ]
    }
   ],
   "source": [
    "import gzip\n",
    "\n",
    "text = gzip.open(data).read().decode()[:-1].replace(\"\\n\", \"\\t\")\n",
    "# si on fait print(text), on remarque que cette table a 13 colonnes\n",
    "\n",
    "données_individuelles = text.split(\"\\t\")\n",
    "n = int(len(données_individuelles) / 13)    # n = 6724 lignes\n",
    "\n",
    "# il faut regrouper les éléments 13 par 13 pour avoir les lignes\n",
    "lignes = []\n",
    "for i in range(n):\n",
    "    lignes.append(données_individuelles[13 * i : 13 * (i + 1)])\n",
    "# lignes est une liste qui contient n listes de 13 éléments (n lignes de 13 éléments)\n",
    "    \n",
    "# la fonction zip prend une liste d'iterables comme arg et regroupe tous les i-ièmes éléments\n",
    "# zip([1, 2, 3], [\"a\", \"b\", \"c\"]) donne ((1, \"a\"), (2, \"b\"), (3, \"c\"))\n",
    "colonnes = zip(*lignes)\n",
    "# * devant un iterable déverse les éléments de l'iterable: zip(*lignes) == zip(lignes[0], ..., lignes[12])\n",
    "\n",
    "table_alt = dict()\n",
    "for i in colonnes:\n",
    "    table_alt[i[0]] = i[1:]\n",
    "    # on prend l'élément 0 de chaque colonne comme key et les éléments 1, 2, ... comme les values correspondant à la key\n",
    "\n",
    "# on obtient un dict où l'intitulé de la colonne est la key et tous les autres éléments sont les items\n",
    "print(table_alt.keys())"
   ]
  },
  {
   "cell_type": "markdown",
   "metadata": {},
   "source": [
    "La table est une DataFrame de 6724 lignes (en comptant les intitulés des colonnes) et de 13 colonnes."
   ]
  },
  {
   "cell_type": "code",
   "execution_count": 4,
   "metadata": {
    "collapsed": false
   },
   "outputs": [
    {
     "name": "stdout",
     "output_type": "stream",
     "text": [
      "<class 'pandas.core.frame.DataFrame'>\n",
      "(6723, 13)\n"
     ]
    }
   ],
   "source": [
    "print(type(table))\n",
    "print(table.shape)"
   ]
  },
  {
   "cell_type": "markdown",
   "metadata": {},
   "source": [
    "Nous allons maintenant préparer les données pour une analyse: ça implique de **manipuler les données** de façon extensive. La manipulation des données est souvent ce qui prend le plus de temps en Data Science. C'est une **étape importante**: plus nos données sont propres (pas d'informations inutiles) et organisées (une structure logique), plus facilement elles sont exploitables, plus l'analyse sera simple, rapide et correcte."
   ]
  },
  {
   "cell_type": "markdown",
   "metadata": {},
   "source": [
    "La table a l'air vide en partie, vérifions ça."
   ]
  },
  {
   "cell_type": "code",
   "execution_count": 5,
   "metadata": {
    "collapsed": false
   },
   "outputs": [
    {
     "name": "stdout",
     "output_type": "stream",
     "text": [
      "tracking_id = 6723\n",
      "class_code = 1\n",
      "nearest_ref_id = 1\n",
      "gene_id = 6723\n",
      "gene_short_name = 1\n",
      "tss_id = 1\n",
      "locus = 6723\n",
      "length = 1\n",
      "coverage = 1\n",
      "FPKM = 6073\n",
      "FPKM_conf_lo = 5593\n",
      "FPKM_conf_hi = 6060\n",
      "FPKM_status = 2\n"
     ]
    }
   ],
   "source": [
    "for i in table:        # on itère sur les colonnes d'une table (une table se conduit un peu comme un dict où chaque )\n",
    "    print(i, \"=\", len(table[i].unique()))        # on compte le nombre d'éléments uniques dans chaque colonne"
   ]
  },
  {
   "cell_type": "markdown",
   "metadata": {},
   "source": [
    "La moitié des colonnes n'ont qu'une seule valeur. On sait déjà qu'on peut les éliminer, mais voyons de quelle valeurs il s'agit."
   ]
  },
  {
   "cell_type": "code",
   "execution_count": 6,
   "metadata": {
    "collapsed": false
   },
   "outputs": [
    {
     "name": "stdout",
     "output_type": "stream",
     "text": [
      "class_code = ['-']\n",
      "nearest_ref_id = ['-']\n",
      "gene_short_name = ['-']\n",
      "tss_id = ['-']\n",
      "length = ['-']\n",
      "coverage = ['-']\n"
     ]
    }
   ],
   "source": [
    "for i in table:                 # pour chaque colonne qui a 1 seule valeur unique, on regarde quelle est cette valeur\n",
    "    u = table[i].unique()\n",
    "    if len(u) == 1:\n",
    "        print(i, \"=\", u)"
   ]
  },
  {
   "cell_type": "markdown",
   "metadata": {},
   "source": [
    "Les colonnes sont vides.\n",
    "\n",
    "On peut aussi obtenir le nombre d'éléments vides directement, mais on doit déclarer que \"-\" == vide (Pandas ne peut pas savoir quels types de valeurs ont une valeur informative), en remplaçant les \"-\" par  **NaN (= \"pas de valeur\" pour Pandas)**."
   ]
  },
  {
   "cell_type": "code",
   "execution_count": 7,
   "metadata": {
    "collapsed": false
   },
   "outputs": [
    {
     "data": {
      "text/html": [
       "<div>\n",
       "<table border=\"1\" class=\"dataframe\">\n",
       "  <thead>\n",
       "    <tr style=\"text-align: right;\">\n",
       "      <th></th>\n",
       "      <th>tracking_id</th>\n",
       "      <th>class_code</th>\n",
       "      <th>nearest_ref_id</th>\n",
       "      <th>gene_id</th>\n",
       "      <th>gene_short_name</th>\n",
       "      <th>tss_id</th>\n",
       "      <th>locus</th>\n",
       "      <th>length</th>\n",
       "      <th>coverage</th>\n",
       "      <th>FPKM</th>\n",
       "      <th>FPKM_conf_lo</th>\n",
       "      <th>FPKM_conf_hi</th>\n",
       "      <th>FPKM_status</th>\n",
       "    </tr>\n",
       "  </thead>\n",
       "  <tbody>\n",
       "    <tr>\n",
       "      <th>0</th>\n",
       "      <td>R0010W</td>\n",
       "      <td>NaN</td>\n",
       "      <td>NaN</td>\n",
       "      <td>R0010W</td>\n",
       "      <td>NaN</td>\n",
       "      <td>NaN</td>\n",
       "      <td>2-micron:251-1523</td>\n",
       "      <td>NaN</td>\n",
       "      <td>NaN</td>\n",
       "      <td>8628000.0</td>\n",
       "      <td>8217030.0</td>\n",
       "      <td>9038980.0</td>\n",
       "      <td>OK</td>\n",
       "    </tr>\n",
       "    <tr>\n",
       "      <th>1</th>\n",
       "      <td>R0020C</td>\n",
       "      <td>NaN</td>\n",
       "      <td>NaN</td>\n",
       "      <td>R0020C</td>\n",
       "      <td>NaN</td>\n",
       "      <td>NaN</td>\n",
       "      <td>2-micron:1886-3008</td>\n",
       "      <td>NaN</td>\n",
       "      <td>NaN</td>\n",
       "      <td>7342700.0</td>\n",
       "      <td>6933830.0</td>\n",
       "      <td>7751580.0</td>\n",
       "      <td>OK</td>\n",
       "    </tr>\n",
       "    <tr>\n",
       "      <th>2</th>\n",
       "      <td>R0030W</td>\n",
       "      <td>NaN</td>\n",
       "      <td>NaN</td>\n",
       "      <td>R0030W</td>\n",
       "      <td>NaN</td>\n",
       "      <td>NaN</td>\n",
       "      <td>2-micron:3270-3816</td>\n",
       "      <td>NaN</td>\n",
       "      <td>NaN</td>\n",
       "      <td>15410700.0</td>\n",
       "      <td>14441800.0</td>\n",
       "      <td>16379600.0</td>\n",
       "      <td>OK</td>\n",
       "    </tr>\n",
       "    <tr>\n",
       "      <th>3</th>\n",
       "      <td>R0040C</td>\n",
       "      <td>NaN</td>\n",
       "      <td>NaN</td>\n",
       "      <td>R0040C</td>\n",
       "      <td>NaN</td>\n",
       "      <td>NaN</td>\n",
       "      <td>2-micron:5307-6198</td>\n",
       "      <td>NaN</td>\n",
       "      <td>NaN</td>\n",
       "      <td>2348670.0</td>\n",
       "      <td>2081450.0</td>\n",
       "      <td>2615900.0</td>\n",
       "      <td>OK</td>\n",
       "    </tr>\n",
       "    <tr>\n",
       "      <th>4</th>\n",
       "      <td>At5g</td>\n",
       "      <td>NaN</td>\n",
       "      <td>NaN</td>\n",
       "      <td>At5g</td>\n",
       "      <td>NaN</td>\n",
       "      <td>NaN</td>\n",
       "      <td>Arabidopsis_At5g_gene:0-1677</td>\n",
       "      <td>NaN</td>\n",
       "      <td>NaN</td>\n",
       "      <td>560901.0</td>\n",
       "      <td>471655.0</td>\n",
       "      <td>650147.0</td>\n",
       "      <td>OK</td>\n",
       "    </tr>\n",
       "  </tbody>\n",
       "</table>\n",
       "</div>"
      ],
      "text/plain": [
       "  tracking_id  class_code  nearest_ref_id gene_id  gene_short_name  tss_id  \\\n",
       "0      R0010W         NaN             NaN  R0010W              NaN     NaN   \n",
       "1      R0020C         NaN             NaN  R0020C              NaN     NaN   \n",
       "2      R0030W         NaN             NaN  R0030W              NaN     NaN   \n",
       "3      R0040C         NaN             NaN  R0040C              NaN     NaN   \n",
       "4        At5g         NaN             NaN    At5g              NaN     NaN   \n",
       "\n",
       "                          locus  length  coverage        FPKM  FPKM_conf_lo  \\\n",
       "0             2-micron:251-1523     NaN       NaN   8628000.0     8217030.0   \n",
       "1            2-micron:1886-3008     NaN       NaN   7342700.0     6933830.0   \n",
       "2            2-micron:3270-3816     NaN       NaN  15410700.0    14441800.0   \n",
       "3            2-micron:5307-6198     NaN       NaN   2348670.0     2081450.0   \n",
       "4  Arabidopsis_At5g_gene:0-1677     NaN       NaN    560901.0      471655.0   \n",
       "\n",
       "   FPKM_conf_hi FPKM_status  \n",
       "0     9038980.0          OK  \n",
       "1     7751580.0          OK  \n",
       "2    16379600.0          OK  \n",
       "3     2615900.0          OK  \n",
       "4      650147.0          OK  "
      ]
     },
     "execution_count": 7,
     "metadata": {},
     "output_type": "execute_result"
    }
   ],
   "source": [
    "table.replace(\"-\", pandas.np.NaN, inplace=True)\n",
    "# on remplace les \"-\" par NaN directement dans la table\n",
    "# inplace=False crée une copie de la table et fait les modifications dans cette copie\n",
    "\n",
    "table.head()"
   ]
  },
  {
   "cell_type": "code",
   "execution_count": 8,
   "metadata": {
    "collapsed": false
   },
   "outputs": [
    {
     "name": "stdout",
     "output_type": "stream",
     "text": [
      "tracking_id = 6723\n",
      "class_code = 0\n",
      "nearest_ref_id = 0\n",
      "gene_id = 6723\n",
      "gene_short_name = 0\n",
      "tss_id = 0\n",
      "locus = 6723\n",
      "length = 0\n",
      "coverage = 0\n",
      "FPKM = 6723\n",
      "FPKM_conf_lo = 6723\n",
      "FPKM_conf_hi = 6723\n",
      "FPKM_status = 6723\n"
     ]
    }
   ],
   "source": [
    "for i in table:\n",
    "    print(i, \"=\", table[i].count())        # la méthode count donne le nombre de valeurs non vides"
   ]
  },
  {
   "cell_type": "markdown",
   "metadata": {},
   "source": [
    "On va maintenant éliminer toutes les colonnes vides."
   ]
  },
  {
   "cell_type": "code",
   "execution_count": 9,
   "metadata": {
    "collapsed": false
   },
   "outputs": [
    {
     "data": {
      "text/html": [
       "<div>\n",
       "<table border=\"1\" class=\"dataframe\">\n",
       "  <thead>\n",
       "    <tr style=\"text-align: right;\">\n",
       "      <th></th>\n",
       "      <th>tracking_id</th>\n",
       "      <th>gene_id</th>\n",
       "      <th>locus</th>\n",
       "      <th>FPKM</th>\n",
       "      <th>FPKM_conf_lo</th>\n",
       "      <th>FPKM_conf_hi</th>\n",
       "      <th>FPKM_status</th>\n",
       "    </tr>\n",
       "  </thead>\n",
       "  <tbody>\n",
       "    <tr>\n",
       "      <th>0</th>\n",
       "      <td>R0010W</td>\n",
       "      <td>R0010W</td>\n",
       "      <td>2-micron:251-1523</td>\n",
       "      <td>8628000.0</td>\n",
       "      <td>8217030.0</td>\n",
       "      <td>9038980.0</td>\n",
       "      <td>OK</td>\n",
       "    </tr>\n",
       "    <tr>\n",
       "      <th>1</th>\n",
       "      <td>R0020C</td>\n",
       "      <td>R0020C</td>\n",
       "      <td>2-micron:1886-3008</td>\n",
       "      <td>7342700.0</td>\n",
       "      <td>6933830.0</td>\n",
       "      <td>7751580.0</td>\n",
       "      <td>OK</td>\n",
       "    </tr>\n",
       "    <tr>\n",
       "      <th>2</th>\n",
       "      <td>R0030W</td>\n",
       "      <td>R0030W</td>\n",
       "      <td>2-micron:3270-3816</td>\n",
       "      <td>15410700.0</td>\n",
       "      <td>14441800.0</td>\n",
       "      <td>16379600.0</td>\n",
       "      <td>OK</td>\n",
       "    </tr>\n",
       "    <tr>\n",
       "      <th>3</th>\n",
       "      <td>R0040C</td>\n",
       "      <td>R0040C</td>\n",
       "      <td>2-micron:5307-6198</td>\n",
       "      <td>2348670.0</td>\n",
       "      <td>2081450.0</td>\n",
       "      <td>2615900.0</td>\n",
       "      <td>OK</td>\n",
       "    </tr>\n",
       "    <tr>\n",
       "      <th>4</th>\n",
       "      <td>At5g</td>\n",
       "      <td>At5g</td>\n",
       "      <td>Arabidopsis_At5g_gene:0-1677</td>\n",
       "      <td>560901.0</td>\n",
       "      <td>471655.0</td>\n",
       "      <td>650147.0</td>\n",
       "      <td>OK</td>\n",
       "    </tr>\n",
       "  </tbody>\n",
       "</table>\n",
       "</div>"
      ],
      "text/plain": [
       "  tracking_id gene_id                         locus        FPKM  FPKM_conf_lo  \\\n",
       "0      R0010W  R0010W             2-micron:251-1523   8628000.0     8217030.0   \n",
       "1      R0020C  R0020C            2-micron:1886-3008   7342700.0     6933830.0   \n",
       "2      R0030W  R0030W            2-micron:3270-3816  15410700.0    14441800.0   \n",
       "3      R0040C  R0040C            2-micron:5307-6198   2348670.0     2081450.0   \n",
       "4        At5g    At5g  Arabidopsis_At5g_gene:0-1677    560901.0      471655.0   \n",
       "\n",
       "   FPKM_conf_hi FPKM_status  \n",
       "0     9038980.0          OK  \n",
       "1     7751580.0          OK  \n",
       "2    16379600.0          OK  \n",
       "3     2615900.0          OK  \n",
       "4      650147.0          OK  "
      ]
     },
     "execution_count": 9,
     "metadata": {},
     "output_type": "execute_result"
    }
   ],
   "source": [
    "table.dropna(axis=1, how=\"all\", inplace=True)\n",
    "# cette fonction élimine les colonnes (axis=1)\n",
    "# dont tous les éléments (how=\"all\") sont vides\n",
    "# et update la table (si inplace=False, la fonction retourne une copie modifiée de la table, mais la table ne change pas)\n",
    "\n",
    "table.head()"
   ]
  },
  {
   "cell_type": "markdown",
   "metadata": {},
   "source": [
    "Les colonnes tracking_id et gene_id semblent être identiques."
   ]
  },
  {
   "cell_type": "code",
   "execution_count": 10,
   "metadata": {
    "collapsed": false
   },
   "outputs": [
    {
     "data": {
      "text/plain": [
       "True"
      ]
     },
     "execution_count": 10,
     "metadata": {},
     "output_type": "execute_result"
    }
   ],
   "source": [
    "all(table.tracking_id == table.gene_id)"
   ]
  },
  {
   "cell_type": "markdown",
   "metadata": {},
   "source": [
    "Nous allons éliminer la colonne tracking_id."
   ]
  },
  {
   "cell_type": "code",
   "execution_count": 11,
   "metadata": {
    "collapsed": false
   },
   "outputs": [],
   "source": [
    "table.drop(\"tracking_id\", axis=1, inplace=True)"
   ]
  },
  {
   "cell_type": "markdown",
   "metadata": {},
   "source": [
    "On sait que la colonne ***FPKM_status*** n'est pas vide et contient 2 valeurs uniques: les lignes de la table se répartissent donc dans 2 catégories."
   ]
  },
  {
   "cell_type": "code",
   "execution_count": 12,
   "metadata": {
    "collapsed": false
   },
   "outputs": [
    {
     "data": {
      "text/plain": [
       "array(['OK', 'LOWDATA'], dtype=object)"
      ]
     },
     "execution_count": 12,
     "metadata": {},
     "output_type": "execute_result"
    }
   ],
   "source": [
    "table.FPKM_status.unique()"
   ]
  },
  {
   "cell_type": "markdown",
   "metadata": {},
   "source": [
    "Nous pouvons sélectionner des données spécifiques en appliquant un filtre à la table.\n",
    "\n",
    "Le filtre correspond à un statement logique qui retourne les valeurs booléennes (True ou False) pour chaque élément de la table auquel ce statement s'applique."
   ]
  },
  {
   "cell_type": "code",
   "execution_count": 13,
   "metadata": {
    "collapsed": false
   },
   "outputs": [
    {
     "name": "stdout",
     "output_type": "stream",
     "text": [
      "0    True\n",
      "1    True\n",
      "2    True\n",
      "3    True\n",
      "4    True\n",
      "Name: FPKM_status, dtype: bool\n"
     ]
    }
   ],
   "source": [
    "filter = table.FPKM_status == \"OK\"      # notre statement: les valeurs de la colonne FPKM_status sont égales à \"OK\"\n",
    "\n",
    "print(filter.head())\n",
    "# Le filtre nous retourne une colonne (Series) de valeurs booléennes: True pour ligne 0, True pour ligne 1, etc."
   ]
  },
  {
   "cell_type": "markdown",
   "metadata": {},
   "source": [
    "Le filtre nous donne les réponses (sous forme booléenne) retournées par la colonne FPKM_status à la question posée par le filtre."
   ]
  },
  {
   "cell_type": "code",
   "execution_count": 14,
   "metadata": {
    "collapsed": false,
    "scrolled": true
   },
   "outputs": [
    {
     "data": {
      "text/html": [
       "<div>\n",
       "<table border=\"1\" class=\"dataframe\">\n",
       "  <thead>\n",
       "    <tr style=\"text-align: right;\">\n",
       "      <th></th>\n",
       "      <th>gene_id</th>\n",
       "      <th>locus</th>\n",
       "      <th>FPKM</th>\n",
       "      <th>FPKM_conf_lo</th>\n",
       "      <th>FPKM_conf_hi</th>\n",
       "      <th>FPKM_status</th>\n",
       "    </tr>\n",
       "  </thead>\n",
       "  <tbody>\n",
       "    <tr>\n",
       "      <th>0</th>\n",
       "      <td>R0010W</td>\n",
       "      <td>2-micron:251-1523</td>\n",
       "      <td>8628000.0</td>\n",
       "      <td>8217030.0</td>\n",
       "      <td>9038980.0</td>\n",
       "      <td>OK</td>\n",
       "    </tr>\n",
       "    <tr>\n",
       "      <th>1</th>\n",
       "      <td>R0020C</td>\n",
       "      <td>2-micron:1886-3008</td>\n",
       "      <td>7342700.0</td>\n",
       "      <td>6933830.0</td>\n",
       "      <td>7751580.0</td>\n",
       "      <td>OK</td>\n",
       "    </tr>\n",
       "    <tr>\n",
       "      <th>2</th>\n",
       "      <td>R0030W</td>\n",
       "      <td>2-micron:3270-3816</td>\n",
       "      <td>15410700.0</td>\n",
       "      <td>14441800.0</td>\n",
       "      <td>16379600.0</td>\n",
       "      <td>OK</td>\n",
       "    </tr>\n",
       "    <tr>\n",
       "      <th>3</th>\n",
       "      <td>R0040C</td>\n",
       "      <td>2-micron:5307-6198</td>\n",
       "      <td>2348670.0</td>\n",
       "      <td>2081450.0</td>\n",
       "      <td>2615900.0</td>\n",
       "      <td>OK</td>\n",
       "    </tr>\n",
       "    <tr>\n",
       "      <th>4</th>\n",
       "      <td>At5g</td>\n",
       "      <td>Arabidopsis_At5g_gene:0-1677</td>\n",
       "      <td>560901.0</td>\n",
       "      <td>471655.0</td>\n",
       "      <td>650147.0</td>\n",
       "      <td>OK</td>\n",
       "    </tr>\n",
       "  </tbody>\n",
       "</table>\n",
       "</div>"
      ],
      "text/plain": [
       "  gene_id                         locus        FPKM  FPKM_conf_lo  \\\n",
       "0  R0010W             2-micron:251-1523   8628000.0     8217030.0   \n",
       "1  R0020C            2-micron:1886-3008   7342700.0     6933830.0   \n",
       "2  R0030W            2-micron:3270-3816  15410700.0    14441800.0   \n",
       "3  R0040C            2-micron:5307-6198   2348670.0     2081450.0   \n",
       "4    At5g  Arabidopsis_At5g_gene:0-1677    560901.0      471655.0   \n",
       "\n",
       "   FPKM_conf_hi FPKM_status  \n",
       "0     9038980.0          OK  \n",
       "1     7751580.0          OK  \n",
       "2    16379600.0          OK  \n",
       "3     2615900.0          OK  \n",
       "4      650147.0          OK  "
      ]
     },
     "execution_count": 14,
     "metadata": {},
     "output_type": "execute_result"
    }
   ],
   "source": [
    "table[filter].head()"
   ]
  },
  {
   "cell_type": "code",
   "execution_count": 15,
   "metadata": {
    "collapsed": false
   },
   "outputs": [
    {
     "data": {
      "text/html": [
       "<div>\n",
       "<table border=\"1\" class=\"dataframe\">\n",
       "  <thead>\n",
       "    <tr style=\"text-align: right;\">\n",
       "      <th></th>\n",
       "      <th>gene_id</th>\n",
       "      <th>locus</th>\n",
       "      <th>FPKM</th>\n",
       "      <th>FPKM_conf_lo</th>\n",
       "      <th>FPKM_conf_hi</th>\n",
       "      <th>FPKM_status</th>\n",
       "    </tr>\n",
       "  </thead>\n",
       "  <tbody>\n",
       "    <tr>\n",
       "      <th>144</th>\n",
       "      <td>YBL100W-A</td>\n",
       "      <td>chrII:29931-31248</td>\n",
       "      <td>0.0</td>\n",
       "      <td>0.0</td>\n",
       "      <td>0.0</td>\n",
       "      <td>LOWDATA</td>\n",
       "    </tr>\n",
       "    <tr>\n",
       "      <th>181</th>\n",
       "      <td>YBL068W-A</td>\n",
       "      <td>chrII:91791-92028</td>\n",
       "      <td>698271.0</td>\n",
       "      <td>0.0</td>\n",
       "      <td>1277520.0</td>\n",
       "      <td>LOWDATA</td>\n",
       "    </tr>\n",
       "    <tr>\n",
       "      <th>214</th>\n",
       "      <td>YBL039C-A</td>\n",
       "      <td>chrII:144950-145034</td>\n",
       "      <td>796921.0</td>\n",
       "      <td>0.0</td>\n",
       "      <td>9019850.0</td>\n",
       "      <td>LOWDATA</td>\n",
       "    </tr>\n",
       "    <tr>\n",
       "      <th>252</th>\n",
       "      <td>YBL005W-A</td>\n",
       "      <td>chrII:221332-222655</td>\n",
       "      <td>0.0</td>\n",
       "      <td>0.0</td>\n",
       "      <td>0.0</td>\n",
       "      <td>LOWDATA</td>\n",
       "    </tr>\n",
       "    <tr>\n",
       "      <th>270</th>\n",
       "      <td>YBR012W-A</td>\n",
       "      <td>chrII:259866-261189</td>\n",
       "      <td>0.0</td>\n",
       "      <td>0.0</td>\n",
       "      <td>0.0</td>\n",
       "      <td>LOWDATA</td>\n",
       "    </tr>\n",
       "  </tbody>\n",
       "</table>\n",
       "</div>"
      ],
      "text/plain": [
       "       gene_id                locus      FPKM  FPKM_conf_lo  FPKM_conf_hi  \\\n",
       "144  YBL100W-A    chrII:29931-31248       0.0           0.0           0.0   \n",
       "181  YBL068W-A    chrII:91791-92028  698271.0           0.0     1277520.0   \n",
       "214  YBL039C-A  chrII:144950-145034  796921.0           0.0     9019850.0   \n",
       "252  YBL005W-A  chrII:221332-222655       0.0           0.0           0.0   \n",
       "270  YBR012W-A  chrII:259866-261189       0.0           0.0           0.0   \n",
       "\n",
       "    FPKM_status  \n",
       "144     LOWDATA  \n",
       "181     LOWDATA  \n",
       "214     LOWDATA  \n",
       "252     LOWDATA  \n",
       "270     LOWDATA  "
      ]
     },
     "execution_count": 15,
     "metadata": {},
     "output_type": "execute_result"
    }
   ],
   "source": [
    "table[~filter].head()        # ~ est une négation (spécifique de Pandas)"
   ]
  },
  {
   "cell_type": "markdown",
   "metadata": {},
   "source": [
    "La plupart des lignes semblent être \"OK\". Vérifions ça."
   ]
  },
  {
   "cell_type": "code",
   "execution_count": 16,
   "metadata": {
    "collapsed": false
   },
   "outputs": [
    {
     "data": {
      "text/plain": [
       "0.9915216421240518"
      ]
     },
     "execution_count": 16,
     "metadata": {},
     "output_type": "execute_result"
    }
   ],
   "source": [
    "len(table[filter]) / len(table)"
   ]
  },
  {
   "cell_type": "markdown",
   "metadata": {},
   "source": [
    "Nous allons éliminer les lignes qui sont \"LOWDATA\" et la colonne FPKM_status."
   ]
  },
  {
   "cell_type": "code",
   "execution_count": 17,
   "metadata": {
    "collapsed": false
   },
   "outputs": [
    {
     "data": {
      "text/html": [
       "<div>\n",
       "<table border=\"1\" class=\"dataframe\">\n",
       "  <thead>\n",
       "    <tr style=\"text-align: right;\">\n",
       "      <th></th>\n",
       "      <th>gene_id</th>\n",
       "      <th>locus</th>\n",
       "      <th>FPKM</th>\n",
       "      <th>FPKM_conf_lo</th>\n",
       "      <th>FPKM_conf_hi</th>\n",
       "    </tr>\n",
       "  </thead>\n",
       "  <tbody>\n",
       "    <tr>\n",
       "      <th>0</th>\n",
       "      <td>R0010W</td>\n",
       "      <td>2-micron:251-1523</td>\n",
       "      <td>8628000.0</td>\n",
       "      <td>8217030.0</td>\n",
       "      <td>9038980.0</td>\n",
       "    </tr>\n",
       "    <tr>\n",
       "      <th>1</th>\n",
       "      <td>R0020C</td>\n",
       "      <td>2-micron:1886-3008</td>\n",
       "      <td>7342700.0</td>\n",
       "      <td>6933830.0</td>\n",
       "      <td>7751580.0</td>\n",
       "    </tr>\n",
       "    <tr>\n",
       "      <th>2</th>\n",
       "      <td>R0030W</td>\n",
       "      <td>2-micron:3270-3816</td>\n",
       "      <td>15410700.0</td>\n",
       "      <td>14441800.0</td>\n",
       "      <td>16379600.0</td>\n",
       "    </tr>\n",
       "    <tr>\n",
       "      <th>3</th>\n",
       "      <td>R0040C</td>\n",
       "      <td>2-micron:5307-6198</td>\n",
       "      <td>2348670.0</td>\n",
       "      <td>2081450.0</td>\n",
       "      <td>2615900.0</td>\n",
       "    </tr>\n",
       "    <tr>\n",
       "      <th>4</th>\n",
       "      <td>At5g</td>\n",
       "      <td>Arabidopsis_At5g_gene:0-1677</td>\n",
       "      <td>560901.0</td>\n",
       "      <td>471655.0</td>\n",
       "      <td>650147.0</td>\n",
       "    </tr>\n",
       "  </tbody>\n",
       "</table>\n",
       "</div>"
      ],
      "text/plain": [
       "  gene_id                         locus        FPKM  FPKM_conf_lo  \\\n",
       "0  R0010W             2-micron:251-1523   8628000.0     8217030.0   \n",
       "1  R0020C            2-micron:1886-3008   7342700.0     6933830.0   \n",
       "2  R0030W            2-micron:3270-3816  15410700.0    14441800.0   \n",
       "3  R0040C            2-micron:5307-6198   2348670.0     2081450.0   \n",
       "4    At5g  Arabidopsis_At5g_gene:0-1677    560901.0      471655.0   \n",
       "\n",
       "   FPKM_conf_hi  \n",
       "0     9038980.0  \n",
       "1     7751580.0  \n",
       "2    16379600.0  \n",
       "3     2615900.0  \n",
       "4      650147.0  "
      ]
     },
     "execution_count": 17,
     "metadata": {},
     "output_type": "execute_result"
    }
   ],
   "source": [
    "table.drop(filter[filter == False].index, inplace=True)\n",
    "# filter.index donne les numéros des lignes sur lesquelles le filtre a été appliqué (toutes les lignes)\n",
    "# filter[filter == False].index donne les numéros des lignes pour lesquelles la valeur de filtre est False\n",
    "# (ie la valeur de FPKM_status est \"LOWDATA)\n",
    "\n",
    "table.drop(\"FPKM_status\", axis=1, inplace=True)\n",
    "\n",
    "table.head()"
   ]
  },
  {
   "cell_type": "markdown",
   "metadata": {},
   "source": [
    "Nous allons aussi éliminer la colonne locus, qui ne nous sert pas."
   ]
  },
  {
   "cell_type": "code",
   "execution_count": 18,
   "metadata": {
    "collapsed": false
   },
   "outputs": [
    {
     "data": {
      "text/html": [
       "<div>\n",
       "<table border=\"1\" class=\"dataframe\">\n",
       "  <thead>\n",
       "    <tr style=\"text-align: right;\">\n",
       "      <th></th>\n",
       "      <th>gene_id</th>\n",
       "      <th>FPKM</th>\n",
       "      <th>FPKM_conf_lo</th>\n",
       "      <th>FPKM_conf_hi</th>\n",
       "    </tr>\n",
       "  </thead>\n",
       "  <tbody>\n",
       "    <tr>\n",
       "      <th>0</th>\n",
       "      <td>R0010W</td>\n",
       "      <td>8628000.0</td>\n",
       "      <td>8217030.0</td>\n",
       "      <td>9038980.0</td>\n",
       "    </tr>\n",
       "    <tr>\n",
       "      <th>1</th>\n",
       "      <td>R0020C</td>\n",
       "      <td>7342700.0</td>\n",
       "      <td>6933830.0</td>\n",
       "      <td>7751580.0</td>\n",
       "    </tr>\n",
       "    <tr>\n",
       "      <th>2</th>\n",
       "      <td>R0030W</td>\n",
       "      <td>15410700.0</td>\n",
       "      <td>14441800.0</td>\n",
       "      <td>16379600.0</td>\n",
       "    </tr>\n",
       "    <tr>\n",
       "      <th>3</th>\n",
       "      <td>R0040C</td>\n",
       "      <td>2348670.0</td>\n",
       "      <td>2081450.0</td>\n",
       "      <td>2615900.0</td>\n",
       "    </tr>\n",
       "    <tr>\n",
       "      <th>4</th>\n",
       "      <td>At5g</td>\n",
       "      <td>560901.0</td>\n",
       "      <td>471655.0</td>\n",
       "      <td>650147.0</td>\n",
       "    </tr>\n",
       "  </tbody>\n",
       "</table>\n",
       "</div>"
      ],
      "text/plain": [
       "  gene_id        FPKM  FPKM_conf_lo  FPKM_conf_hi\n",
       "0  R0010W   8628000.0     8217030.0     9038980.0\n",
       "1  R0020C   7342700.0     6933830.0     7751580.0\n",
       "2  R0030W  15410700.0    14441800.0    16379600.0\n",
       "3  R0040C   2348670.0     2081450.0     2615900.0\n",
       "4    At5g    560901.0      471655.0      650147.0"
      ]
     },
     "execution_count": 18,
     "metadata": {},
     "output_type": "execute_result"
    }
   ],
   "source": [
    "table.drop(\"locus\", axis=1, inplace=True)\n",
    "\n",
    "table.head()"
   ]
  },
  {
   "cell_type": "code",
   "execution_count": 19,
   "metadata": {
    "collapsed": false
   },
   "outputs": [
    {
     "name": "stdout",
     "output_type": "stream",
     "text": [
      "(6666, 4)\n"
     ]
    },
    {
     "data": {
      "text/html": [
       "<div>\n",
       "<table border=\"1\" class=\"dataframe\">\n",
       "  <thead>\n",
       "    <tr style=\"text-align: right;\">\n",
       "      <th></th>\n",
       "      <th>gene_id</th>\n",
       "      <th>FPKM</th>\n",
       "      <th>FPKM_conf_lo</th>\n",
       "      <th>FPKM_conf_hi</th>\n",
       "    </tr>\n",
       "  </thead>\n",
       "  <tbody>\n",
       "    <tr>\n",
       "      <th>6718</th>\n",
       "      <td>YPR201W</td>\n",
       "      <td>67201.6</td>\n",
       "      <td>29924.9</td>\n",
       "      <td>104478.0</td>\n",
       "    </tr>\n",
       "    <tr>\n",
       "      <th>6719</th>\n",
       "      <td>YPR202W</td>\n",
       "      <td>0.0</td>\n",
       "      <td>0.0</td>\n",
       "      <td>0.0</td>\n",
       "    </tr>\n",
       "    <tr>\n",
       "      <th>6720</th>\n",
       "      <td>YPR203W</td>\n",
       "      <td>0.0</td>\n",
       "      <td>0.0</td>\n",
       "      <td>0.0</td>\n",
       "    </tr>\n",
       "    <tr>\n",
       "      <th>6721</th>\n",
       "      <td>YPR204W</td>\n",
       "      <td>0.0</td>\n",
       "      <td>0.0</td>\n",
       "      <td>0.0</td>\n",
       "    </tr>\n",
       "    <tr>\n",
       "      <th>6722</th>\n",
       "      <td>YPR204C-A</td>\n",
       "      <td>0.0</td>\n",
       "      <td>0.0</td>\n",
       "      <td>0.0</td>\n",
       "    </tr>\n",
       "  </tbody>\n",
       "</table>\n",
       "</div>"
      ],
      "text/plain": [
       "        gene_id     FPKM  FPKM_conf_lo  FPKM_conf_hi\n",
       "6718    YPR201W  67201.6       29924.9      104478.0\n",
       "6719    YPR202W      0.0           0.0           0.0\n",
       "6720    YPR203W      0.0           0.0           0.0\n",
       "6721    YPR204W      0.0           0.0           0.0\n",
       "6722  YPR204C-A      0.0           0.0           0.0"
      ]
     },
     "execution_count": 19,
     "metadata": {},
     "output_type": "execute_result"
    }
   ],
   "source": [
    "print(table.shape)\n",
    "\n",
    "table.tail()"
   ]
  },
  {
   "cell_type": "markdown",
   "metadata": {},
   "source": [
    "Nous allons faire de *gene_id* notre index (l'index actuel ne nous sert pas) et classer les gènes du plus au moins exprimé."
   ]
  },
  {
   "cell_type": "code",
   "execution_count": 20,
   "metadata": {
    "collapsed": false
   },
   "outputs": [
    {
     "data": {
      "text/html": [
       "<div>\n",
       "<table border=\"1\" class=\"dataframe\">\n",
       "  <thead>\n",
       "    <tr style=\"text-align: right;\">\n",
       "      <th></th>\n",
       "      <th>FPKM</th>\n",
       "      <th>FPKM_conf_lo</th>\n",
       "      <th>FPKM_conf_hi</th>\n",
       "    </tr>\n",
       "    <tr>\n",
       "      <th>gene_id</th>\n",
       "      <th></th>\n",
       "      <th></th>\n",
       "      <th></th>\n",
       "    </tr>\n",
       "  </thead>\n",
       "  <tbody>\n",
       "    <tr>\n",
       "      <th>R0010W</th>\n",
       "      <td>8628000.0</td>\n",
       "      <td>8217030.0</td>\n",
       "      <td>9038980.0</td>\n",
       "    </tr>\n",
       "    <tr>\n",
       "      <th>R0020C</th>\n",
       "      <td>7342700.0</td>\n",
       "      <td>6933830.0</td>\n",
       "      <td>7751580.0</td>\n",
       "    </tr>\n",
       "    <tr>\n",
       "      <th>R0030W</th>\n",
       "      <td>15410700.0</td>\n",
       "      <td>14441800.0</td>\n",
       "      <td>16379600.0</td>\n",
       "    </tr>\n",
       "    <tr>\n",
       "      <th>R0040C</th>\n",
       "      <td>2348670.0</td>\n",
       "      <td>2081450.0</td>\n",
       "      <td>2615900.0</td>\n",
       "    </tr>\n",
       "    <tr>\n",
       "      <th>At5g</th>\n",
       "      <td>560901.0</td>\n",
       "      <td>471655.0</td>\n",
       "      <td>650147.0</td>\n",
       "    </tr>\n",
       "  </tbody>\n",
       "</table>\n",
       "</div>"
      ],
      "text/plain": [
       "               FPKM  FPKM_conf_lo  FPKM_conf_hi\n",
       "gene_id                                        \n",
       "R0010W    8628000.0     8217030.0     9038980.0\n",
       "R0020C    7342700.0     6933830.0     7751580.0\n",
       "R0030W   15410700.0    14441800.0    16379600.0\n",
       "R0040C    2348670.0     2081450.0     2615900.0\n",
       "At5g       560901.0      471655.0      650147.0"
      ]
     },
     "execution_count": 20,
     "metadata": {},
     "output_type": "execute_result"
    }
   ],
   "source": [
    "table.set_index(table.gene_id, inplace=True)\n",
    "\n",
    "table.drop(\"gene_id\", axis=1, inplace=True)\n",
    "\n",
    "table.head()"
   ]
  },
  {
   "cell_type": "markdown",
   "metadata": {},
   "source": [
    "Nous allons maintenant faire les mêmes modifications sur plusieurs autres échantillons du dataset (culture de cellules de S. cerevisiae en présence de glycogène/glucose/xylose/glucose+xylose) pour pouvoir comparer les données.\n",
    "\n",
    "Essayez de vous expliquer à haute voix ce que fait chaque ligne."
   ]
  },
  {
   "cell_type": "code",
   "execution_count": 21,
   "metadata": {
    "collapsed": false,
    "scrolled": true
   },
   "outputs": [
    {
     "name": "stdout",
     "output_type": "stream",
     "text": [
      "dict_keys(['ETH', 'XYL', 'GLU', 'GLU/XYL', 'GLY'])\n"
     ]
    },
    {
     "data": {
      "text/html": [
       "<div>\n",
       "<table border=\"1\" class=\"dataframe\">\n",
       "  <thead>\n",
       "    <tr style=\"text-align: right;\">\n",
       "      <th></th>\n",
       "      <th>FPKM</th>\n",
       "      <th>FPKM_conf_lo</th>\n",
       "      <th>FPKM_conf_hi</th>\n",
       "    </tr>\n",
       "    <tr>\n",
       "      <th>gene_id</th>\n",
       "      <th></th>\n",
       "      <th></th>\n",
       "      <th></th>\n",
       "    </tr>\n",
       "  </thead>\n",
       "  <tbody>\n",
       "    <tr>\n",
       "      <th>R0010W</th>\n",
       "      <td>724856.0</td>\n",
       "      <td>655665.0</td>\n",
       "      <td>794047.0</td>\n",
       "    </tr>\n",
       "    <tr>\n",
       "      <th>R0020C</th>\n",
       "      <td>626216.0</td>\n",
       "      <td>556850.0</td>\n",
       "      <td>695582.0</td>\n",
       "    </tr>\n",
       "    <tr>\n",
       "      <th>R0030W</th>\n",
       "      <td>345369.0</td>\n",
       "      <td>260982.0</td>\n",
       "      <td>429757.0</td>\n",
       "    </tr>\n",
       "    <tr>\n",
       "      <th>R0040C</th>\n",
       "      <td>1984030.0</td>\n",
       "      <td>1841310.0</td>\n",
       "      <td>2126760.0</td>\n",
       "    </tr>\n",
       "    <tr>\n",
       "      <th>At5g</th>\n",
       "      <td>25967600.0</td>\n",
       "      <td>25614900.0</td>\n",
       "      <td>26320200.0</td>\n",
       "    </tr>\n",
       "  </tbody>\n",
       "</table>\n",
       "</div>"
      ],
      "text/plain": [
       "               FPKM  FPKM_conf_lo  FPKM_conf_hi\n",
       "gene_id                                        \n",
       "R0010W     724856.0      655665.0      794047.0\n",
       "R0020C     626216.0      556850.0      695582.0\n",
       "R0030W     345369.0      260982.0      429757.0\n",
       "R0040C    1984030.0     1841310.0     2126760.0\n",
       "At5g     25967600.0    25614900.0    26320200.0"
      ]
     },
     "execution_count": 21,
     "metadata": {},
     "output_type": "execute_result"
    }
   ],
   "source": [
    "data = ['GSM1706746_H2217-WT-ETH.1p3-12-1-12.16.09-239-5-1.cuff.gz',\n",
    "        'GSM1706754_H2217-WT-GLY.5-12-3-12.16.09-239-7-9.cuff.gz',\n",
    "        'GSM1706755_H2217-WT-GLU.0p2-12-2-12.16.09-239-5-11.cuff.gz',\n",
    "        'GSM1706760_H2217-WT-XYL.5-12-1-12.16.09-222-1-16.cuff.gz',\n",
    "        'GSM1706794_H2217-CAT8.ADR1-GLU.2.XYL.5-24-3-04.30.13-881-5-54.cuff.gz']\n",
    "\n",
    "carbone = [\"ETH\", \"GLY\", \"GLU\", \"XYL\", \"GLU/XYL\"]\n",
    "\n",
    "def dressage_de_table(file):\n",
    "    tableX = pandas.read_table(file)\n",
    "    tableX.replace(\"-\", pandas.np.NaN, inplace=True)\n",
    "    tableX.dropna(axis=1, how=\"all\", inplace=True)\n",
    "    filterX = tableX.FPKM_status == \"OK\"\n",
    "    tableX.drop(filterX[~filterX].index, inplace=True)\n",
    "    tableX.set_index(tableX.gene_id, inplace=True)\n",
    "    tableX.drop([\"tracking_id\", \"FPKM_status\", \"locus\", \"gene_id\"], axis=1, inplace=True)\n",
    "    return tableX\n",
    "\n",
    "tables = dict()\n",
    "\n",
    "for i in range(len(data)):\n",
    "    tables[carbone[i]] = dressage_de_table(data[i])\n",
    "\n",
    "print(tables.keys())\n",
    "\n",
    "tables[\"GLU/XYL\"].head()"
   ]
  },
  {
   "cell_type": "code",
   "execution_count": 22,
   "metadata": {
    "collapsed": false
   },
   "outputs": [
    {
     "data": {
      "text/html": [
       "<div>\n",
       "<table border=\"1\" class=\"dataframe\">\n",
       "  <thead>\n",
       "    <tr style=\"text-align: right;\">\n",
       "      <th></th>\n",
       "      <th>FPKM</th>\n",
       "      <th>FPKM_conf_lo</th>\n",
       "      <th>FPKM_conf_hi</th>\n",
       "    </tr>\n",
       "    <tr>\n",
       "      <th>gene_id</th>\n",
       "      <th></th>\n",
       "      <th></th>\n",
       "      <th></th>\n",
       "    </tr>\n",
       "  </thead>\n",
       "  <tbody>\n",
       "    <tr>\n",
       "      <th>YLR462W</th>\n",
       "      <td>0.0</td>\n",
       "      <td>0.0</td>\n",
       "      <td>0.0</td>\n",
       "    </tr>\n",
       "    <tr>\n",
       "      <th>YLR461W</th>\n",
       "      <td>0.0</td>\n",
       "      <td>0.0</td>\n",
       "      <td>0.0</td>\n",
       "    </tr>\n",
       "    <tr>\n",
       "      <th>YOR343W-B</th>\n",
       "      <td>0.0</td>\n",
       "      <td>0.0</td>\n",
       "      <td>0.0</td>\n",
       "    </tr>\n",
       "    <tr>\n",
       "      <th>YGR038C-B</th>\n",
       "      <td>0.0</td>\n",
       "      <td>0.0</td>\n",
       "      <td>0.0</td>\n",
       "    </tr>\n",
       "    <tr>\n",
       "      <th>YPR204C-A</th>\n",
       "      <td>0.0</td>\n",
       "      <td>0.0</td>\n",
       "      <td>0.0</td>\n",
       "    </tr>\n",
       "  </tbody>\n",
       "</table>\n",
       "</div>"
      ],
      "text/plain": [
       "           FPKM  FPKM_conf_lo  FPKM_conf_hi\n",
       "gene_id                                    \n",
       "YLR462W     0.0           0.0           0.0\n",
       "YLR461W     0.0           0.0           0.0\n",
       "YOR343W-B   0.0           0.0           0.0\n",
       "YGR038C-B   0.0           0.0           0.0\n",
       "YPR204C-A   0.0           0.0           0.0"
      ]
     },
     "execution_count": 22,
     "metadata": {},
     "output_type": "execute_result"
    }
   ],
   "source": [
    "tables[\"ETH\"].sort_values(\"FPKM\", ascending=False).tail()"
   ]
  },
  {
   "cell_type": "code",
   "execution_count": 23,
   "metadata": {
    "collapsed": false
   },
   "outputs": [
    {
     "data": {
      "text/html": [
       "<div>\n",
       "<table border=\"1\" class=\"dataframe\">\n",
       "  <thead>\n",
       "    <tr style=\"text-align: right;\">\n",
       "      <th></th>\n",
       "      <th>FPKM</th>\n",
       "      <th>FPKM_conf_lo</th>\n",
       "      <th>FPKM_conf_hi</th>\n",
       "    </tr>\n",
       "    <tr>\n",
       "      <th>gene_id</th>\n",
       "      <th></th>\n",
       "      <th></th>\n",
       "      <th></th>\n",
       "    </tr>\n",
       "  </thead>\n",
       "  <tbody>\n",
       "    <tr>\n",
       "      <th>YDL246C</th>\n",
       "      <td>0.0</td>\n",
       "      <td>0.0</td>\n",
       "      <td>0.0</td>\n",
       "    </tr>\n",
       "    <tr>\n",
       "      <th>YDL247W</th>\n",
       "      <td>0.0</td>\n",
       "      <td>0.0</td>\n",
       "      <td>0.0</td>\n",
       "    </tr>\n",
       "    <tr>\n",
       "      <th>YDL247W-A</th>\n",
       "      <td>0.0</td>\n",
       "      <td>0.0</td>\n",
       "      <td>0.0</td>\n",
       "    </tr>\n",
       "    <tr>\n",
       "      <th>YCR108C</th>\n",
       "      <td>0.0</td>\n",
       "      <td>0.0</td>\n",
       "      <td>0.0</td>\n",
       "    </tr>\n",
       "    <tr>\n",
       "      <th>YPR204C-A</th>\n",
       "      <td>0.0</td>\n",
       "      <td>0.0</td>\n",
       "      <td>0.0</td>\n",
       "    </tr>\n",
       "  </tbody>\n",
       "</table>\n",
       "</div>"
      ],
      "text/plain": [
       "           FPKM  FPKM_conf_lo  FPKM_conf_hi\n",
       "gene_id                                    \n",
       "YDL246C     0.0           0.0           0.0\n",
       "YDL247W     0.0           0.0           0.0\n",
       "YDL247W-A   0.0           0.0           0.0\n",
       "YCR108C     0.0           0.0           0.0\n",
       "YPR204C-A   0.0           0.0           0.0"
      ]
     },
     "execution_count": 23,
     "metadata": {},
     "output_type": "execute_result"
    }
   ],
   "source": [
    "tables[\"GLU\"].sort_values(\"FPKM\", ascending=False).tail()"
   ]
  },
  {
   "cell_type": "markdown",
   "metadata": {},
   "source": [
    "Beaucoup de gènes ont un FPKM de 0 pour les 5 échantillons, nous allons les éliminer."
   ]
  },
  {
   "cell_type": "code",
   "execution_count": 24,
   "metadata": {
    "collapsed": false
   },
   "outputs": [
    {
     "data": {
      "text/html": [
       "<div>\n",
       "<table border=\"1\" class=\"dataframe\">\n",
       "  <thead>\n",
       "    <tr style=\"text-align: right;\">\n",
       "      <th></th>\n",
       "      <th>ETH</th>\n",
       "      <th>GLY</th>\n",
       "      <th>GLU</th>\n",
       "      <th>XYL</th>\n",
       "      <th>GLU/XYL</th>\n",
       "    </tr>\n",
       "    <tr>\n",
       "      <th>gene_id</th>\n",
       "      <th></th>\n",
       "      <th></th>\n",
       "      <th></th>\n",
       "      <th></th>\n",
       "      <th></th>\n",
       "    </tr>\n",
       "  </thead>\n",
       "  <tbody>\n",
       "    <tr>\n",
       "      <th>R0010W</th>\n",
       "      <td>8628000.0</td>\n",
       "      <td>9467550.0</td>\n",
       "      <td>11278200.0</td>\n",
       "      <td>17674600.0</td>\n",
       "      <td>724856.0</td>\n",
       "    </tr>\n",
       "    <tr>\n",
       "      <th>R0020C</th>\n",
       "      <td>7342700.0</td>\n",
       "      <td>5606280.0</td>\n",
       "      <td>7170600.0</td>\n",
       "      <td>10564200.0</td>\n",
       "      <td>626216.0</td>\n",
       "    </tr>\n",
       "    <tr>\n",
       "      <th>R0030W</th>\n",
       "      <td>15410700.0</td>\n",
       "      <td>17806800.0</td>\n",
       "      <td>12095100.0</td>\n",
       "      <td>21082800.0</td>\n",
       "      <td>345369.0</td>\n",
       "    </tr>\n",
       "    <tr>\n",
       "      <th>R0040C</th>\n",
       "      <td>2348670.0</td>\n",
       "      <td>2421130.0</td>\n",
       "      <td>2570340.0</td>\n",
       "      <td>3666750.0</td>\n",
       "      <td>1984030.0</td>\n",
       "    </tr>\n",
       "    <tr>\n",
       "      <th>At5g</th>\n",
       "      <td>560901.0</td>\n",
       "      <td>2612300.0</td>\n",
       "      <td>11838100.0</td>\n",
       "      <td>24499000.0</td>\n",
       "      <td>25967600.0</td>\n",
       "    </tr>\n",
       "  </tbody>\n",
       "</table>\n",
       "</div>"
      ],
      "text/plain": [
       "                ETH         GLY         GLU         XYL     GLU/XYL\n",
       "gene_id                                                            \n",
       "R0010W    8628000.0   9467550.0  11278200.0  17674600.0    724856.0\n",
       "R0020C    7342700.0   5606280.0   7170600.0  10564200.0    626216.0\n",
       "R0030W   15410700.0  17806800.0  12095100.0  21082800.0    345369.0\n",
       "R0040C    2348670.0   2421130.0   2570340.0   3666750.0   1984030.0\n",
       "At5g       560901.0   2612300.0  11838100.0  24499000.0  25967600.0"
      ]
     },
     "execution_count": 24,
     "metadata": {},
     "output_type": "execute_result"
    }
   ],
   "source": [
    "FPKM_table = pandas.DataFrame(data=[tables[i][\"FPKM\"] for i in tables], index=tables).T\n",
    "FPKM_table = FPKM_table[[\"ETH\", \"GLY\", \"GLU\", \"XYL\", \"GLU/XYL\"]]\n",
    "\n",
    "FPKM_table.head()"
   ]
  },
  {
   "cell_type": "code",
   "execution_count": 25,
   "metadata": {
    "collapsed": false
   },
   "outputs": [
    {
     "data": {
      "text/plain": [
       "(168, 5)"
      ]
     },
     "execution_count": 25,
     "metadata": {},
     "output_type": "execute_result"
    }
   ],
   "source": [
    "FPKM_table[FPKM_table.apply(lambda x: min(x) == max(x) == 0, axis=1)].shape"
   ]
  },
  {
   "cell_type": "markdown",
   "metadata": {},
   "source": [
    "Nous allons éliminer ces lignes dans chacune des tables."
   ]
  },
  {
   "cell_type": "code",
   "execution_count": 26,
   "metadata": {
    "collapsed": false
   },
   "outputs": [
    {
     "name": "stdout",
     "output_type": "stream",
     "text": [
      "(6666, 3)\n",
      "(6498, 3)\n"
     ]
    }
   ],
   "source": [
    "expression_nulle = FPKM_table[FPKM_table.apply(lambda x: min(x) == max(x) == 0, axis=1)].index\n",
    "\n",
    "print(tables[\"ETH\"].shape) # \n",
    "\n",
    "for i in tables:\n",
    "    tables[i].drop(expression_nulle, inplace=True)\n",
    "\n",
    "print(tables[\"ETH\"].shape) "
   ]
  },
  {
   "cell_type": "markdown",
   "metadata": {},
   "source": [
    "Disons que les gènes dont le niveau d'expression est similaire dans toutes les conditions ne nous intéressent pas dans cette étude: nous voulons étudier les gènes dont l'expression varie fortement, au moins du simple au double (fold change de 2) entre les échantillons avec 1 source de carbone et du simple au triple (fold change de 3) sur toute la table."
   ]
  },
  {
   "cell_type": "code",
   "execution_count": 27,
   "metadata": {
    "collapsed": false,
    "scrolled": true
   },
   "outputs": [
    {
     "data": {
      "text/html": [
       "<div>\n",
       "<table border=\"1\" class=\"dataframe\">\n",
       "  <thead>\n",
       "    <tr style=\"text-align: right;\">\n",
       "      <th></th>\n",
       "      <th>ETH</th>\n",
       "      <th>XYL</th>\n",
       "      <th>GLU</th>\n",
       "      <th>GLY</th>\n",
       "    </tr>\n",
       "    <tr>\n",
       "      <th>gene_id</th>\n",
       "      <th></th>\n",
       "      <th></th>\n",
       "      <th></th>\n",
       "      <th></th>\n",
       "    </tr>\n",
       "  </thead>\n",
       "  <tbody>\n",
       "    <tr>\n",
       "      <th>R0010W</th>\n",
       "      <td>8628000.0</td>\n",
       "      <td>17674600.0</td>\n",
       "      <td>11278200.0</td>\n",
       "      <td>9467550.0</td>\n",
       "    </tr>\n",
       "    <tr>\n",
       "      <th>R0020C</th>\n",
       "      <td>7342700.0</td>\n",
       "      <td>10564200.0</td>\n",
       "      <td>7170600.0</td>\n",
       "      <td>5606280.0</td>\n",
       "    </tr>\n",
       "    <tr>\n",
       "      <th>R0030W</th>\n",
       "      <td>15410700.0</td>\n",
       "      <td>21082800.0</td>\n",
       "      <td>12095100.0</td>\n",
       "      <td>17806800.0</td>\n",
       "    </tr>\n",
       "    <tr>\n",
       "      <th>R0040C</th>\n",
       "      <td>2348670.0</td>\n",
       "      <td>3666750.0</td>\n",
       "      <td>2570340.0</td>\n",
       "      <td>2421130.0</td>\n",
       "    </tr>\n",
       "    <tr>\n",
       "      <th>At5g</th>\n",
       "      <td>560901.0</td>\n",
       "      <td>24499000.0</td>\n",
       "      <td>11838100.0</td>\n",
       "      <td>2612300.0</td>\n",
       "    </tr>\n",
       "  </tbody>\n",
       "</table>\n",
       "</div>"
      ],
      "text/plain": [
       "                ETH         XYL         GLU         GLY\n",
       "gene_id                                                \n",
       "R0010W    8628000.0  17674600.0  11278200.0   9467550.0\n",
       "R0020C    7342700.0  10564200.0   7170600.0   5606280.0\n",
       "R0030W   15410700.0  21082800.0  12095100.0  17806800.0\n",
       "R0040C    2348670.0   3666750.0   2570340.0   2421130.0\n",
       "At5g       560901.0  24499000.0  11838100.0   2612300.0"
      ]
     },
     "execution_count": 27,
     "metadata": {},
     "output_type": "execute_result"
    }
   ],
   "source": [
    "FPKM_table = pandas.DataFrame(data=[tables[i][\"FPKM\"] for i in tables if i != \"GLU/XYL\"],\n",
    "                              index=[i for i in tables if i != \"GLU/XYL\"]).T\n",
    "\n",
    "FPKM_table.head()"
   ]
  },
  {
   "cell_type": "code",
   "execution_count": 28,
   "metadata": {
    "collapsed": false
   },
   "outputs": [
    {
     "data": {
      "text/plain": [
       "(3467,)"
      ]
     },
     "execution_count": 28,
     "metadata": {},
     "output_type": "execute_result"
    }
   ],
   "source": [
    "gènes_1_source = FPKM_table[FPKM_table.apply(lambda x: min(x) > max(x) * 0.5, axis=1)].index\n",
    "\n",
    "FPKM_table[\"GLU/XYL\"] = tables[\"GLU/XYL\"][\"FPKM\"]\n",
    "\n",
    "gènes_table = FPKM_table[FPKM_table.apply(lambda x: min(x) > max(x) * 0.3, axis=1)].index\n",
    "\n",
    "expression_similaire = gènes_1_source.union(gènes_table)\n",
    "\n",
    "expression_similaire.shape"
   ]
  },
  {
   "cell_type": "code",
   "execution_count": 29,
   "metadata": {
    "collapsed": false
   },
   "outputs": [
    {
     "data": {
      "text/plain": [
       "(3031, 5)"
      ]
     },
     "execution_count": 29,
     "metadata": {},
     "output_type": "execute_result"
    }
   ],
   "source": [
    "FPKM_table.drop(expression_similaire, inplace=True)\n",
    "\n",
    "FPKM_table.shape"
   ]
  },
  {
   "cell_type": "markdown",
   "metadata": {},
   "source": [
    "Nous avons divisé le nombre de gènes que nous voulons étudier par 2."
   ]
  },
  {
   "cell_type": "markdown",
   "metadata": {},
   "source": [
    "Nous avons vu comment manipuler les données, en divisant la taille de notre table par 4 (nous avons divisé le nombre de lignes et le nombre de colonnes par 2).\n",
    "\n",
    "\n",
    "Nous allons **comparer nos données pour déterminer des expressions différentielles** de gènes. Nous n'allons pas faire d'analyse avancée à ce niveau, mais nous allons faire quelques visualisations."
   ]
  },
  {
   "cell_type": "markdown",
   "metadata": {},
   "source": [
    "### 4 - 2 - 2 Numpy"
   ]
  },
  {
   "cell_type": "markdown",
   "metadata": {},
   "source": [
    "## 4 - 3 Bibliothèques pour la visualisation de données"
   ]
  },
  {
   "cell_type": "markdown",
   "metadata": {},
   "source": [
    "### 4 - 3 - 1 Matplotlib"
   ]
  },
  {
   "cell_type": "markdown",
   "metadata": {},
   "source": [
    "Matplotlib permet de créer tout type de visualisation (2D, 3D, dynamique, etc.)."
   ]
  },
  {
   "cell_type": "code",
   "execution_count": 30,
   "metadata": {
    "collapsed": false
   },
   "outputs": [
    {
     "data": {
      "text/plain": [
       "[<matplotlib.lines.Line2D at 0x7ef9970>]"
      ]
     },
     "execution_count": 30,
     "metadata": {},
     "output_type": "execute_result"
    },
    {
     "data": {
      "image/png": "[encoded data removed]",
      "text/plain": [
       "<matplotlib.figure.Figure at 0x66316b0>"
      ]
     },
     "metadata": {},
     "output_type": "display_data"
    }
   ],
   "source": [
    "%matplotlib inline\n",
    "from matplotlib import pyplot\n",
    "import numpy as np\n",
    "\n",
    "valeurs = np.linspace(- 1000, 1000)\n",
    "# on crée un vecteur qui va de -1,000 à 1,000\n",
    "\n",
    "def carré(x):\n",
    "    return x ** 2\n",
    "\n",
    "pyplot.plot(valeurs, carré(valeurs))"
   ]
  },
  {
   "cell_type": "code",
   "execution_count": 31,
   "metadata": {
    "collapsed": false
   },
   "outputs": [
    {
     "data": {
      "text/plain": [
       "<matplotlib.collections.PathCollection at 0x7f26730>"
      ]
     },
     "execution_count": 31,
     "metadata": {},
     "output_type": "execute_result"
    },
    {
     "data": {
      "image/png": "[encoded data removed]",
      "text/plain": [
       "<matplotlib.figure.Figure at 0x7f19650>"
      ]
     },
     "metadata": {},
     "output_type": "display_data"
    }
   ],
   "source": [
    "x = np.random.normal(size=500)\n",
    "y = np.random.normal(size=500)\n",
    "pyplot.scatter(x, y)"
   ]
  },
  {
   "cell_type": "code",
   "execution_count": 32,
   "metadata": {
    "collapsed": false,
    "scrolled": true
   },
   "outputs": [
    {
     "data": {
      "text/plain": [
       "<matplotlib.image.AxesImage at 0x7f66a10>"
      ]
     },
     "execution_count": 32,
     "metadata": {},
     "output_type": "execute_result"
    },
    {
     "data": {
      "image/png": "[encoded data removed]",
      "text/plain": [
       "<matplotlib.figure.Figure at 0x832d650>"
      ]
     },
     "metadata": {},
     "output_type": "display_data"
    }
   ],
   "source": [
    "x = x.reshape(25, 20)\n",
    "\n",
    "x.shape\n",
    "\n",
    "pyplot.imshow(x)"
   ]
  },
  {
   "cell_type": "markdown",
   "metadata": {},
   "source": [
    "### 4 - 3 - 2 Seaborn"
   ]
  },
  {
   "cell_type": "markdown",
   "metadata": {},
   "source": [
    "Seaborn est une library construite par-dessus matplotlib et qui simplifie le code et ajoute quelques fonctionnalités. \n",
    "\n",
    "Nous allons nous servir de seaborn pour faire un heatmap à partir de nos données."
   ]
  },
  {
   "cell_type": "code",
   "execution_count": 33,
   "metadata": {
    "collapsed": false,
    "scrolled": false
   },
   "outputs": [
    {
     "data": {
      "text/plain": [
       "<matplotlib.axes._subplots.AxesSubplot at 0x8efb650>"
      ]
     },
     "execution_count": 33,
     "metadata": {},
     "output_type": "execute_result"
    },
    {
     "data": {
      "image/png": "[encoded data removed]",
      "text/plain": [
       "<matplotlib.figure.Figure at 0x7f75c50>"
      ]
     },
     "metadata": {},
     "output_type": "display_data"
    }
   ],
   "source": [
    "from seaborn import heatmap\n",
    "\n",
    "from matplotlib.cm import Reds\n",
    "\n",
    "heatmap(FPKM_table, robust=True, yticklabels=False, cmap=Reds)"
   ]
  },
  {
   "cell_type": "markdown",
   "metadata": {},
   "source": [
    "Nous observons un certain nombre de gènes différentiellement exprimés entre les différentes conditions, mais les quelques gènes ayant un fort niveau d'expression créent un biais dans la table. Nous allons garder seulement les gènes qui ont un FPKM > 2e7."
   ]
  },
  {
   "cell_type": "code",
   "execution_count": 34,
   "metadata": {
    "collapsed": false
   },
   "outputs": [
    {
     "data": {
      "text/plain": [
       "(2841,)"
      ]
     },
     "execution_count": 34,
     "metadata": {},
     "output_type": "execute_result"
    }
   ],
   "source": [
    "gènes_surexprimés = FPKM_table[FPKM_table.apply(lambda x: max(x) < 2e7, axis=1)].index\n",
    "\n",
    "gènes_surexprimés.shape"
   ]
  },
  {
   "cell_type": "markdown",
   "metadata": {},
   "source": [
    "Seuls ~200 gènes ont un niveau un FPKM aussi élevé."
   ]
  },
  {
   "cell_type": "code",
   "execution_count": 35,
   "metadata": {
    "collapsed": false
   },
   "outputs": [
    {
     "data": {
      "text/plain": [
       "(190, 5)"
      ]
     },
     "execution_count": 35,
     "metadata": {},
     "output_type": "execute_result"
    }
   ],
   "source": [
    "FPKM_table.drop(gènes_surexprimés, inplace=True)\n",
    "\n",
    "FPKM_table.shape"
   ]
  },
  {
   "cell_type": "code",
   "execution_count": 36,
   "metadata": {
    "collapsed": false
   },
   "outputs": [
    {
     "data": {
      "text/plain": [
       "<matplotlib.axes._subplots.AxesSubplot at 0x7f75950>"
      ]
     },
     "execution_count": 36,
     "metadata": {},
     "output_type": "execute_result"
    },
    {
     "data": {
      "image/png": "[encoded data removed]",
      "text/plain": [
       "<matplotlib.figure.Figure at 0x831d750>"
      ]
     },
     "metadata": {},
     "output_type": "display_data"
    }
   ],
   "source": [
    "heatmap(FPKM_table, robust=True, yticklabels=False, cmap=Reds)"
   ]
  },
  {
   "cell_type": "markdown",
   "metadata": {},
   "source": [
    "Nous pouvons ensuite étudier les gènes les plus surexprimés."
   ]
  },
  {
   "cell_type": "code",
   "execution_count": 37,
   "metadata": {
    "collapsed": false
   },
   "outputs": [
    {
     "data": {
      "text/plain": [
       "<matplotlib.axes._subplots.AxesSubplot at 0x90ae2d0>"
      ]
     },
     "execution_count": 37,
     "metadata": {},
     "output_type": "execute_result"
    },
    {
     "data": {
      "image/png": "[encoded data removed]",
      "text/plain": [
       "<matplotlib.figure.Figure at 0x7f75cb0>"
      ]
     },
     "metadata": {},
     "output_type": "display_data"
    }
   ],
   "source": [
    "gènes_plus_surexprimés = FPKM_table[FPKM_table.apply(lambda x: max(x) < 2e8, axis=1)].index\n",
    "\n",
    "heatmap(FPKM_table.drop(gènes_plus_surexprimés), robust=True, yticklabels=True, cmap=Reds)"
   ]
  },
  {
   "cell_type": "markdown",
   "metadata": {},
   "source": [
    "\n"
   ]
  }
 ],
 "metadata": {
  "anaconda-cloud": {},
  "kernelspec": {
   "display_name": "Python [Root]",
   "language": "python",
   "name": "Python [Root]"
  },
  "language_info": {
   "codemirror_mode": {
    "name": "ipython",
    "version": 3
   },
   "file_extension": ".py",
   "mimetype": "text/x-python",
   "name": "python",
   "nbconvert_exporter": "python",
   "pygments_lexer": "ipython3",
   "version": "3.5.2"
  },
  "nbpresent": {
   "slides": {},
   "themes": {
    "default": "823e37fd-932b-40e2-a324-ee40b5cc08a2",
    "theme": {}
   }
  }
 },
 "nbformat": 4,
 "nbformat_minor": 0
}
